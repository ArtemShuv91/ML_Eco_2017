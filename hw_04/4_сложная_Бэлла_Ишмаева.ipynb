{
 "cells": [
  {
   "cell_type": "markdown",
   "metadata": {},
   "source": [
    "# Ishmaeva Bella\n",
    "# Практическое задание 4\n"
   ]
  },
  {
   "cell_type": "code",
   "execution_count": 1,
   "metadata": {
    "collapsed": true
   },
   "outputs": [],
   "source": [
    "import numpy as np\n",
    "import warnings\n",
    "warnings.filterwarnings('ignore')\n",
    "from matplotlib import pyplot as plt\n",
    "%matplotlib inline"
   ]
  },
  {
   "cell_type": "markdown",
   "metadata": {},
   "source": [
    "### I. Разложение ошибки на смещение и разброс\n",
    "#### Теоретическое вступление\n",
    "На занятиях мы разбирали примеры аналитического вычисления смещения и разброса нескольких алгоритмов обучения. Для большинства моделей данных и алгоритмов обучения аналитически рассчитать математические ожидания в формулах не удастся. Однако мат. ожидания можно оценивать приближенно. Чтобы оценить математическое ожидание $\\mathbb{E}_{\\bar x} f(\\bar x)$ функции от многомерной случайной величины $\\bar x = (x_1, \\dots, x_d)$, $\\bar x \\sim p(\\bar x)$, можно сгенерировать выборку из распределения $p(\\bar x)$ и усреднить значение функции на элементах этой выборки:\n",
    "$$\\mathbb{E}_{\\bar x} f(x) = \\int f(\\bar x) p(\\bar x) d \\bar x \\approx \\frac 1 m \\sum_{i=1}^m f(\\bar x_i), \\, \\bar x_i \\sim p(\\bar x), i = 1, \\dots, m.$$\n",
    "\n",
    "Для оценки многомерных интегралов ($d > 1$) объекты лучше генерировать, следуя специальным схемам, чтобы адекватно оценивать значение интеграла в областях высокой плотности. Мы не будем так усложнять задачу, а просто будем генерировать $\\bar x_i$ независимо."
   ]
  },
  {
   "cell_type": "markdown",
   "metadata": {},
   "source": [
    "Например, оценим $\\mathbb{E}_x x^2,$ $x \\sim \\mathcal{N}(\\mu=5, \\sigma=3)$ (из теории вероятностей мы знаем, что\n",
    "$\\mathbb{E}_x x^2 = \\sigma^2 + \\mu^2 = 34$):"
   ]
  },
  {
   "cell_type": "code",
   "execution_count": 2,
   "metadata": {
    "collapsed": false
   },
   "outputs": [
    {
     "data": {
      "text/plain": [
       "35.80019763089463"
      ]
     },
     "execution_count": 2,
     "metadata": {},
     "output_type": "execute_result"
    }
   ],
   "source": [
    "x = np.random.normal(loc=5, scale=3, size=1000)\n",
    "(x**2).mean()"
   ]
  },
  {
   "cell_type": "markdown",
   "metadata": {},
   "source": [
    "Или посчитаем многомерный интеграл $\\mathbb{E}_{\\bar x} \\bar x^T \\bar x = \\mathbb{E}_{\\bar x} \\sum_{i=1}^d x_i^2$, $\\bar x \\sim \\mathcal{N}(\\bar \\mu=(1, \\dots, 1), \\Sigma=I)$ при $d = 10$ (аналитический ответ 20):"
   ]
  },
  {
   "cell_type": "code",
   "execution_count": 3,
   "metadata": {
    "collapsed": false
   },
   "outputs": [
    {
     "data": {
      "text/plain": [
       "19.695475504206399"
      ]
     },
     "execution_count": 3,
     "metadata": {},
     "output_type": "execute_result"
    }
   ],
   "source": [
    "d = 10\n",
    "X = np.random.multivariate_normal(np.ones(10), np.eye(10), size=1000)\n",
    "(X**2).sum(axis=1).mean()"
   ]
  },
  {
   "cell_type": "markdown",
   "metadata": {},
   "source": [
    "Чтобы оценить интеграл по выборке, можно сгенерировать несколько выборок, вычислить на них значение функции и усреднить. Например, для интеграла $\\mathbb{E}_X [\\mu(X)(x)]$ генерируются выборки $X_1, \\dots, X_m$, на каждой из них обучается алгоритм $\\mu$ и делается предсказание для объекта $x$."
   ]
  },
  {
   "cell_type": "markdown",
   "metadata": {},
   "source": [
    "#### Практическая часть\n",
    "#####  Построение \"среднего\" алгоритма $\\mathbb{E}_X [\\mu(X)]$\n",
    "В этом задании вам нужно построить графики, демонстрирующие, как алгоритм $\\mathbb{E}_X [\\mu(X)]$ аппроксимирует истинную зависимость в данных и как он меняется в зависимости от гиперпараметров метода обучения."
   ]
  },
  {
   "cell_type": "markdown",
   "metadata": {},
   "source": [
    "__1 (0.6 балла)__\n",
    "1. Сгенерируйте выборку x из одномерного экспоненциального распределения (np.random.exponential) длины sample_size.\n",
    "1. Создайте вектор целевых переменных y как сумму f(x) и случайного шума, сгенерированного из равномерного распределения на отрезке [-1, 1] (np.random.uniform).\n",
    "1. Обучите DecisionTreeRegressor с параметрами по умолчанию на полученной выборке и сделайте предсказания для объектов из linspace.\n",
    "1. Постройте два графика на одном рисунке: f(x) и зависимость, восстановленную решающим деревом.\n",
    "\n",
    "    Рекомендация: не забудьте, что все методы обучения в sklearn требуют на вход двумерную матрицу объекты-признаки. Сделать такую из одномерного вектора можно добавлением мнимых осей (np.newaxis)."
   ]
  },
  {
   "cell_type": "code",
   "execution_count": 4,
   "metadata": {
    "collapsed": true
   },
   "outputs": [],
   "source": [
    "def f(x):\n",
    "    return np.sin(x)   # истинная зависимость в данных\n",
    "sample_size = 100      # длина выборки\n",
    "samples_num = 20       # количество выборок\n",
    "linspace = np.linspace(0, 7, 1000)  # точки для построения графиков"
   ]
  },
  {
   "cell_type": "code",
   "execution_count": 5,
   "metadata": {
    "collapsed": true
   },
   "outputs": [],
   "source": [
    "from sklearn import tree\n",
    "\n",
    "X = np.random.exponential(size = sample_size)\n",
    "noise = np.random.uniform(low=-1, high=1, size=sample_size)\n",
    "y = f(X) + noise\n",
    "\n",
    "# чтобы sklearn не ругался\n",
    "X = X.reshape(-1,1)\n",
    "linspace = linspace.reshape(-1,1)"
   ]
  },
  {
   "cell_type": "code",
   "execution_count": 17,
   "metadata": {
    "collapsed": false
   },
   "outputs": [
    {
     "data": {
      "image/png": "[encoded data removed]",
      "text/plain": [
       "<matplotlib.figure.Figure at 0x10c5a3710>"
      ]
     },
     "metadata": {},
     "output_type": "display_data"
    }
   ],
   "source": [
    "model = tree.DecisionTreeRegressor()\n",
    "model = model.fit(X, y)\n",
    "y_hat = model.predict(linspace)\n",
    "\n",
    "fig = plt.figure()\n",
    "fig.set_figheight(4)\n",
    "fig.set_figwidth(8)\n",
    "\n",
    "plt.plot(linspace, f(linspace), color='red', alpha = 0.7, label='sin(X)')\n",
    "plt.plot(linspace, y_hat, color='blue', alpha = 0.4, label='y_hat')\n",
    "plt.scatter(X, y, color = \"blue\", s =5, label = 'data')\n",
    "plt.legend(loc = 1)\n",
    "plt.show()"
   ]
  },
  {
   "cell_type": "markdown",
   "metadata": {},
   "source": [
    "__2 (0.6 балла):__\n",
    "\n",
    "Повторите первые 3 шага, описанные выше, samples_num раз. На одном графике для каждого обученного решающего дерева визуализируйте восстановленную им зависимость (рекомендуется все такие линии рисовать полупрозрачными и серым цветом: plt.plot(...... color=\"gray\", alpha=0.5)).  На этом же графике изобразите истинную зависимость f(x) (красным цветом: color=\"red\") и усредненную по всем деревьям восстановленную зависимость (черным цветом: color=\"black\").    "
   ]
  },
  {
   "cell_type": "code",
   "execution_count": 7,
   "metadata": {
    "collapsed": true
   },
   "outputs": [],
   "source": [
    "def gen_func(sample_size, linspace, model, f):\n",
    "    fig = plt.figure()\n",
    "    fig.set_figheight(4)\n",
    "    fig.set_figwidth(8)\n",
    "    \n",
    "    all_trees = []\n",
    "    for i in range(samples_num):\n",
    "        X = np.random.exponential(size = sample_size)\n",
    "        noise = np.random.uniform(low=-1, high=1, size = sample_size)\n",
    "        y = f(X) + noise\n",
    "\n",
    "        X = X.reshape(-1,1)\n",
    "        model = model.fit(X, y)\n",
    "        y_hat = model.predict(linspace)\n",
    "        all_trees.append(y_hat)\n",
    "\n",
    "        plt.plot(linspace, y_hat, color='gray', alpha = 0.4)\n",
    "    \n",
    "    plt.plot(linspace, np.asarray(all_trees).mean(axis=0), color='black',alpha = 0.7,label = 'mean y_hat')\n",
    "    plt.plot(linspace, f(linspace), color='red', alpha = 0.7, label = 'sin(X)')\n",
    "    plt.scatter(X, y, color = \"blue\", s =5, label = 'data')\n",
    "    plt.legend(loc = 1)\n",
    "    plt.show()"
   ]
  },
  {
   "cell_type": "code",
   "execution_count": 16,
   "metadata": {
    "collapsed": false
   },
   "outputs": [
    {
     "data": {
      "image/png": "[encoded data removed]",
      "text/plain": [
       "<matplotlib.figure.Figure at 0x10c5a6748>"
      ]
     },
     "metadata": {},
     "output_type": "display_data"
    }
   ],
   "source": [
    "model = tree.DecisionTreeRegressor()\n",
    "gen_func(sample_size,linspace,model,f)"
   ]
  },
  {
   "cell_type": "markdown",
   "metadata": {},
   "source": [
    "__3 (0.2 балла):__\n",
    "Повторите предыдущий пункт, установив максимальную глубину решающего дерева равной 2, а затем равной 4. Таким образом, у вас получится еще два графика."
   ]
  },
  {
   "cell_type": "code",
   "execution_count": 9,
   "metadata": {
    "collapsed": false
   },
   "outputs": [
    {
     "data": {
      "image/png": "[encoded data removed]",
      "text/plain": [
       "<matplotlib.figure.Figure at 0x10bab5668>"
      ]
     },
     "metadata": {},
     "output_type": "display_data"
    }
   ],
   "source": [
    "model = tree.DecisionTreeRegressor(max_depth=2)\n",
    "gen_func(sample_size,linspace,model,f)"
   ]
  },
  {
   "cell_type": "code",
   "execution_count": 10,
   "metadata": {
    "collapsed": false
   },
   "outputs": [
    {
     "data": {
      "image/png": "[encoded data removed]",
      "text/plain": [
       "<matplotlib.figure.Figure at 0x10badd860>"
      ]
     },
     "metadata": {},
     "output_type": "display_data"
    }
   ],
   "source": [
    "model = tree.DecisionTreeRegressor(max_depth=4)\n",
    "gen_func(sample_size,linspace,model,f)"
   ]
  },
  {
   "cell_type": "markdown",
   "metadata": {},
   "source": [
    "__4 (0.6 балла)__ Что можно сказать о смещении решающих деревьев, исходя из проведенного эксперимента? В каких из трех рассмотренных случаев (без ограничения на глубину дерева и с ограничением 2 и 4) можно утверждать, что смещение решающего дерева близко к нулю?"
   ]
  },
  {
   "cell_type": "markdown",
   "metadata": {},
   "source": [
    "* Смещение зависит от того, какие ограничения мы накладываем на алгоритм, чем больше ограничений - тем мы ожидаем большее смещение. Как видно на графиках, наибольшее смещение у деревьев с глубиной 2, т.е. с наибольшим ограничением.\n",
    "\n",
    "* Исходя из этого, смещение будет близко к нулю в том случае, когда ограничений на глубину нет, так как в таком случае мы не ограничиваем алгоритм и позволяем ему лучше уловить истинну зависимость.(стоит отметить, что даже при глубине 4, смещение уже намного меньше, чем при губине 2). "
   ]
  },
  {
   "cell_type": "markdown",
   "metadata": {},
   "source": [
    "__5 (1 балл)__\n",
    "Проделайте тот же эксперимент с линейной регрессией и SVM с rbf ядром и параматрами $\\gamma = 1$, $\\gamma = 100$. Какие выводы можно сделать?"
   ]
  },
  {
   "cell_type": "code",
   "execution_count": 11,
   "metadata": {
    "collapsed": false
   },
   "outputs": [
    {
     "data": {
      "image/png": "[encoded data removed]",
      "text/plain": [
       "<matplotlib.figure.Figure at 0x10b88bf28>"
      ]
     },
     "metadata": {},
     "output_type": "display_data"
    }
   ],
   "source": [
    "from sklearn.linear_model import LinearRegression\n",
    "model = LinearRegression(fit_intercept=True)\n",
    "\n",
    "gen_func(sample_size, linspace, model, f)"
   ]
  },
  {
   "cell_type": "code",
   "execution_count": 14,
   "metadata": {
    "collapsed": false
   },
   "outputs": [
    {
     "data": {
      "image/png": "[encoded data removed]",
      "text/plain": [
       "<matplotlib.figure.Figure at 0x10c5a65f8>"
      ]
     },
     "metadata": {},
     "output_type": "display_data"
    }
   ],
   "source": [
    "from sklearn.svm import SVR\n",
    "model = SVR(kernel='rbf', gamma=1)\n",
    "\n",
    "gen_func(sample_size, linspace, model, f)"
   ]
  },
  {
   "cell_type": "code",
   "execution_count": 15,
   "metadata": {
    "collapsed": false
   },
   "outputs": [
    {
     "data": {
      "image/png": "[encoded data removed]",
      "text/plain": [
       "<matplotlib.figure.Figure at 0x10baf0a58>"
      ]
     },
     "metadata": {},
     "output_type": "display_data"
    }
   ],
   "source": [
    "model = SVR(kernel='rbf', gamma=100)\n",
    "\n",
    "gen_func(sample_size, linspace, model, f)"
   ]
  },
  {
   "cell_type": "markdown",
   "metadata": {},
   "source": [
    "* Как правило смещенее у \"простых\" алгоритмов больше, чем у \"сложных\". В нашем случае самым простым является линейная модель - для нее смещение наибольшее. Метод опорных векторов дает меньшее смещение, по сравнению с линейной моедлью. Однако выбор $\\gamma$ также имеет свое влияние: чем больше этот гиперпараметр, тем сильнее переобучается алгоритм. Это видно на последнем графике - при $\\gamma$ = 100 прямая менее плавная, чем при $\\gamma$ = 1."
   ]
  },
  {
   "cell_type": "markdown",
   "metadata": {},
   "source": [
    "### II. Решающие деревья"
   ]
  },
  {
   "cell_type": "markdown",
   "metadata": {},
   "source": [
    "__5 (1 балл)__\n",
    "\n",
    "Загрузите следующие наборы данных (напомним, что pandas умеет загружать файлы по url, в нашем случае это файл \\*.data), предварительно ознакомившись с описанием признаков и целевой переменной в каждом из них (она записаны в Data Folder, в файле *.names): \n",
    "* [mushrooms](https://archive.ics.uci.edu/ml/datasets/Mushroom) (загрузили в предыдущем пункте, классы записаны в нулевом столбце),\n",
    "* [tic-rac-toe](https://archive.ics.uci.edu/ml/datasets/Tic-Tac-Toe+Endgame) (классы записаны в последнем столбце)\n",
    "* [cars](https://archive.ics.uci.edu/ml/datasets/Car+Evaluation) (классы записаны в последнем столбце, считаем что unacc, acc - это класс 0, good, vgood - класс 1)\n",
    "* [nursery](https://archive.ics.uci.edu/ml/datasets/Nursery) (классы записаны в последнем столбце, считаем, что not_recom и recommend - класс 0, very_recom, priority, spec_prior - класс 1).\n",
    "\n",
    "Закодируйте категориальные признаки, использовав LabelEncoder. С помощью cross_val_score (cv=10) оцените accuracy на каждом из этих наборов данных следующих алгоритмов:\n",
    "* DecisionTreeClassifier, считающий все признаки вещественными\n",
    "* DecisionTreeClassfier, считающий все признаки категориальными\n",
    "* DecisionTreeClassifier, c корректным разбиением на категориальные и вещественные признаки.\n",
    "\n",
    "Рекомендации:\n",
    "* Чтобы cross_val_score вычисляла точность, нужно передать scoring=make_scorer(accuracy_score), обе фукнции из sklearn.metrics."
   ]
  },
  {
   "cell_type": "code",
   "execution_count": 82,
   "metadata": {
    "collapsed": true
   },
   "outputs": [],
   "source": [
    "import pandas as pd \n",
    "from sklearn.preprocessing import LabelEncoder\n",
    "from sklearn.metrics import make_scorer, accuracy_score\n",
    "from sklearn.model_selection import cross_val_score\n",
    "from sklearn.preprocessing import OneHotEncoder"
   ]
  },
  {
   "cell_type": "code",
   "execution_count": 86,
   "metadata": {
    "collapsed": true
   },
   "outputs": [],
   "source": [
    "def change_dtype(X,y):\n",
    "    \n",
    "    # предположим, что в датафрейме все переменные - категориальные \n",
    "    enc = OneHotEncoder()\n",
    "    enc.fit(X)\n",
    "    X_cat = enc.transform(X).toarray()\n",
    "    clf = tree.DecisionTreeClassifier(random_state=42)\n",
    "    accuracy_cat = np.mean(cross_val_score(clf, X_cat, y, cv=10, scoring=make_scorer(accuracy_score)))\n",
    "    \n",
    "    # теперь, что все переменные - вещественные \n",
    "    accuracy_real = np.mean(cross_val_score(clf, X, y, cv=10, scoring=make_scorer(accuracy_score)))\n",
    "    \n",
    "    print(\"Если все категроиальные, то accuracy = \", accuracy_cat)\n",
    "    print(\"Если все вещественные, то accuracy = \", accuracy_real)"
   ]
  },
  {
   "cell_type": "markdown",
   "metadata": {},
   "source": [
    "### 1. Mushrooms"
   ]
  },
  {
   "cell_type": "code",
   "execution_count": 93,
   "metadata": {
    "collapsed": false
   },
   "outputs": [
    {
     "data": {
      "text/html": [
       "<div>\n",
       "<table border=\"1\" class=\"dataframe\">\n",
       "  <thead>\n",
       "    <tr style=\"text-align: right;\">\n",
       "      <th></th>\n",
       "      <th>0</th>\n",
       "      <th>1</th>\n",
       "      <th>2</th>\n",
       "      <th>3</th>\n",
       "      <th>4</th>\n",
       "      <th>5</th>\n",
       "      <th>6</th>\n",
       "      <th>7</th>\n",
       "      <th>8</th>\n",
       "      <th>9</th>\n",
       "      <th>...</th>\n",
       "      <th>13</th>\n",
       "      <th>14</th>\n",
       "      <th>15</th>\n",
       "      <th>16</th>\n",
       "      <th>17</th>\n",
       "      <th>18</th>\n",
       "      <th>19</th>\n",
       "      <th>20</th>\n",
       "      <th>21</th>\n",
       "      <th>22</th>\n",
       "    </tr>\n",
       "  </thead>\n",
       "  <tbody>\n",
       "    <tr>\n",
       "      <th>0</th>\n",
       "      <td>p</td>\n",
       "      <td>x</td>\n",
       "      <td>s</td>\n",
       "      <td>n</td>\n",
       "      <td>t</td>\n",
       "      <td>p</td>\n",
       "      <td>f</td>\n",
       "      <td>c</td>\n",
       "      <td>n</td>\n",
       "      <td>k</td>\n",
       "      <td>...</td>\n",
       "      <td>s</td>\n",
       "      <td>w</td>\n",
       "      <td>w</td>\n",
       "      <td>p</td>\n",
       "      <td>w</td>\n",
       "      <td>o</td>\n",
       "      <td>p</td>\n",
       "      <td>k</td>\n",
       "      <td>s</td>\n",
       "      <td>u</td>\n",
       "    </tr>\n",
       "    <tr>\n",
       "      <th>1</th>\n",
       "      <td>e</td>\n",
       "      <td>x</td>\n",
       "      <td>s</td>\n",
       "      <td>y</td>\n",
       "      <td>t</td>\n",
       "      <td>a</td>\n",
       "      <td>f</td>\n",
       "      <td>c</td>\n",
       "      <td>b</td>\n",
       "      <td>k</td>\n",
       "      <td>...</td>\n",
       "      <td>s</td>\n",
       "      <td>w</td>\n",
       "      <td>w</td>\n",
       "      <td>p</td>\n",
       "      <td>w</td>\n",
       "      <td>o</td>\n",
       "      <td>p</td>\n",
       "      <td>n</td>\n",
       "      <td>n</td>\n",
       "      <td>g</td>\n",
       "    </tr>\n",
       "    <tr>\n",
       "      <th>2</th>\n",
       "      <td>e</td>\n",
       "      <td>b</td>\n",
       "      <td>s</td>\n",
       "      <td>w</td>\n",
       "      <td>t</td>\n",
       "      <td>l</td>\n",
       "      <td>f</td>\n",
       "      <td>c</td>\n",
       "      <td>b</td>\n",
       "      <td>n</td>\n",
       "      <td>...</td>\n",
       "      <td>s</td>\n",
       "      <td>w</td>\n",
       "      <td>w</td>\n",
       "      <td>p</td>\n",
       "      <td>w</td>\n",
       "      <td>o</td>\n",
       "      <td>p</td>\n",
       "      <td>n</td>\n",
       "      <td>n</td>\n",
       "      <td>m</td>\n",
       "    </tr>\n",
       "  </tbody>\n",
       "</table>\n",
       "<p>3 rows × 23 columns</p>\n",
       "</div>"
      ],
      "text/plain": [
       "  0  1  2  3  4  5  6  7  8  9  ... 13 14 15 16 17 18 19 20 21 22\n",
       "0  p  x  s  n  t  p  f  c  n  k ...  s  w  w  p  w  o  p  k  s  u\n",
       "1  e  x  s  y  t  a  f  c  b  k ...  s  w  w  p  w  o  p  n  n  g\n",
       "2  e  b  s  w  t  l  f  c  b  n ...  s  w  w  p  w  o  p  n  n  m\n",
       "\n",
       "[3 rows x 23 columns]"
      ]
     },
     "execution_count": 93,
     "metadata": {},
     "output_type": "execute_result"
    }
   ],
   "source": [
    "url = 'https://archive.ics.uci.edu/ml/machine-learning-databases/mushroom/agaricus-lepiota.data'\n",
    "mushroom = pd.read_csv(url, header=None)\n",
    "mushroom.head(3) #видим, что нет ни одного вещественного признака"
   ]
  },
  {
   "cell_type": "code",
   "execution_count": 94,
   "metadata": {
    "collapsed": false
   },
   "outputs": [
    {
     "name": "stdout",
     "output_type": "stream",
     "text": [
      "e    4208\n",
      "p    3916\n",
      "Name: 0, dtype: int64\n",
      "\n",
      "x    3656\n",
      "f    3152\n",
      "k     828\n",
      "b     452\n",
      "s      32\n",
      "c       4\n",
      "Name: 1, dtype: int64\n",
      "\n",
      "y    3244\n",
      "s    2556\n",
      "f    2320\n",
      "g       4\n",
      "Name: 2, dtype: int64\n",
      "\n",
      "n    2284\n",
      "g    1840\n",
      "e    1500\n",
      "y    1072\n",
      "w    1040\n",
      "b     168\n",
      "p     144\n",
      "c      44\n",
      "r      16\n",
      "u      16\n",
      "Name: 3, dtype: int64\n",
      "\n",
      "f    4748\n",
      "t    3376\n",
      "Name: 4, dtype: int64\n",
      "\n",
      "n    3528\n",
      "f    2160\n",
      "y     576\n",
      "s     576\n",
      "a     400\n",
      "l     400\n",
      "p     256\n",
      "c     192\n",
      "m      36\n",
      "Name: 5, dtype: int64\n",
      "\n",
      "f    7914\n",
      "a     210\n",
      "Name: 6, dtype: int64\n",
      "\n",
      "c    6812\n",
      "w    1312\n",
      "Name: 7, dtype: int64\n",
      "\n",
      "b    5612\n",
      "n    2512\n",
      "Name: 8, dtype: int64\n",
      "\n",
      "b    1728\n",
      "p    1492\n",
      "w    1202\n",
      "n    1048\n",
      "g     752\n",
      "h     732\n",
      "u     492\n",
      "k     408\n",
      "e      96\n",
      "y      86\n",
      "o      64\n",
      "r      24\n",
      "Name: 9, dtype: int64\n",
      "\n",
      "t    4608\n",
      "e    3516\n",
      "Name: 10, dtype: int64\n",
      "\n",
      "b    3776\n",
      "?    2480\n",
      "e    1120\n",
      "c     556\n",
      "r     192\n",
      "Name: 11, dtype: int64\n",
      "\n",
      "s    5176\n",
      "k    2372\n",
      "f     552\n",
      "y      24\n",
      "Name: 12, dtype: int64\n",
      "\n",
      "s    4936\n",
      "k    2304\n",
      "f     600\n",
      "y     284\n",
      "Name: 13, dtype: int64\n",
      "\n",
      "w    4464\n",
      "p    1872\n",
      "g     576\n",
      "n     448\n",
      "b     432\n",
      "o     192\n",
      "e      96\n",
      "c      36\n",
      "y       8\n",
      "Name: 14, dtype: int64\n",
      "\n",
      "w    4384\n",
      "p    1872\n",
      "g     576\n",
      "n     512\n",
      "b     432\n",
      "o     192\n",
      "e      96\n",
      "c      36\n",
      "y      24\n",
      "Name: 15, dtype: int64\n",
      "\n",
      "p    8124\n",
      "Name: 16, dtype: int64\n",
      "\n",
      "w    7924\n",
      "n      96\n",
      "o      96\n",
      "y       8\n",
      "Name: 17, dtype: int64\n",
      "\n",
      "o    7488\n",
      "t     600\n",
      "n      36\n",
      "Name: 18, dtype: int64\n",
      "\n",
      "p    3968\n",
      "e    2776\n",
      "l    1296\n",
      "f      48\n",
      "n      36\n",
      "Name: 19, dtype: int64\n",
      "\n",
      "w    2388\n",
      "n    1968\n",
      "k    1872\n",
      "h    1632\n",
      "r      72\n",
      "y      48\n",
      "o      48\n",
      "u      48\n",
      "b      48\n",
      "Name: 20, dtype: int64\n",
      "\n",
      "v    4040\n",
      "y    1712\n",
      "s    1248\n",
      "n     400\n",
      "a     384\n",
      "c     340\n",
      "Name: 21, dtype: int64\n",
      "\n",
      "d    3148\n",
      "g    2148\n",
      "p    1144\n",
      "l     832\n",
      "u     368\n",
      "m     292\n",
      "w     192\n",
      "Name: 22, dtype: int64\n",
      "\n"
     ]
    }
   ],
   "source": [
    "for i in range(mushroom.shape[1]):\n",
    "    print(mushroom.iloc[:,i].value_counts())\n",
    "    print()"
   ]
  },
  {
   "cell_type": "code",
   "execution_count": 95,
   "metadata": {
    "collapsed": true
   },
   "outputs": [],
   "source": [
    "# закодируем категориальные признаки\n",
    "label = LabelEncoder()\n",
    "for i in mushroom.columns:\n",
    "    label.fit(mushroom.iloc[:, (i-1)])\n",
    "    mushroom.iloc[:, (i-1)] = label.transform(mushroom.iloc[:, (i-1)])\n",
    "\n",
    "y = mushroom.iloc[:,0]\n",
    "X = mushroom.iloc[:,1:]"
   ]
  },
  {
   "cell_type": "code",
   "execution_count": 96,
   "metadata": {
    "collapsed": false
   },
   "outputs": [
    {
     "name": "stdout",
     "output_type": "stream",
     "text": [
      "Если все категроиальные, то accuracy =  0.956428444679\n",
      "Если все вещественные, то accuracy =  0.961853238754\n"
     ]
    }
   ],
   "source": [
    "change_dtype(X,y)"
   ]
  },
  {
   "cell_type": "markdown",
   "metadata": {
    "collapsed": true
   },
   "source": [
    "* В данном df все признаки категориальные, однако accuracy выше, если мы рассматриваем признаки как вещественные - что очень странно, ведь мы знали заранее, что они категориальные. Возможно, мы получили такой результат, так как закодированные переменные имели какое-то порядковое соотношение."
   ]
  },
  {
   "cell_type": "markdown",
   "metadata": {},
   "source": [
    "### 2. Tic-rac-toe"
   ]
  },
  {
   "cell_type": "code",
   "execution_count": 105,
   "metadata": {
    "collapsed": false
   },
   "outputs": [
    {
     "data": {
      "text/html": [
       "<div>\n",
       "<table border=\"1\" class=\"dataframe\">\n",
       "  <thead>\n",
       "    <tr style=\"text-align: right;\">\n",
       "      <th></th>\n",
       "      <th>0</th>\n",
       "      <th>1</th>\n",
       "      <th>2</th>\n",
       "      <th>3</th>\n",
       "      <th>4</th>\n",
       "      <th>5</th>\n",
       "      <th>6</th>\n",
       "      <th>7</th>\n",
       "      <th>8</th>\n",
       "      <th>9</th>\n",
       "    </tr>\n",
       "  </thead>\n",
       "  <tbody>\n",
       "    <tr>\n",
       "      <th>0</th>\n",
       "      <td>x</td>\n",
       "      <td>x</td>\n",
       "      <td>x</td>\n",
       "      <td>x</td>\n",
       "      <td>o</td>\n",
       "      <td>o</td>\n",
       "      <td>x</td>\n",
       "      <td>o</td>\n",
       "      <td>o</td>\n",
       "      <td>positive</td>\n",
       "    </tr>\n",
       "    <tr>\n",
       "      <th>1</th>\n",
       "      <td>x</td>\n",
       "      <td>x</td>\n",
       "      <td>x</td>\n",
       "      <td>x</td>\n",
       "      <td>o</td>\n",
       "      <td>o</td>\n",
       "      <td>o</td>\n",
       "      <td>x</td>\n",
       "      <td>o</td>\n",
       "      <td>positive</td>\n",
       "    </tr>\n",
       "    <tr>\n",
       "      <th>2</th>\n",
       "      <td>x</td>\n",
       "      <td>x</td>\n",
       "      <td>x</td>\n",
       "      <td>x</td>\n",
       "      <td>o</td>\n",
       "      <td>o</td>\n",
       "      <td>o</td>\n",
       "      <td>o</td>\n",
       "      <td>x</td>\n",
       "      <td>positive</td>\n",
       "    </tr>\n",
       "  </tbody>\n",
       "</table>\n",
       "</div>"
      ],
      "text/plain": [
       "   0  1  2  3  4  5  6  7  8         9\n",
       "0  x  x  x  x  o  o  x  o  o  positive\n",
       "1  x  x  x  x  o  o  o  x  o  positive\n",
       "2  x  x  x  x  o  o  o  o  x  positive"
      ]
     },
     "execution_count": 105,
     "metadata": {},
     "output_type": "execute_result"
    }
   ],
   "source": [
    "url = 'https://archive.ics.uci.edu/ml/machine-learning-databases/tic-tac-toe/tic-tac-toe.data'\n",
    "trt = pd.read_csv(url, header=None)\n",
    "trt.head(3)"
   ]
  },
  {
   "cell_type": "code",
   "execution_count": 106,
   "metadata": {
    "collapsed": false,
    "scrolled": true
   },
   "outputs": [
    {
     "name": "stdout",
     "output_type": "stream",
     "text": [
      "x    418\n",
      "o    335\n",
      "b    205\n",
      "Name: 0, dtype: int64\n",
      "\n",
      "x    378\n",
      "o    330\n",
      "b    250\n",
      "Name: 1, dtype: int64\n",
      "\n",
      "x    418\n",
      "o    335\n",
      "b    205\n",
      "Name: 2, dtype: int64\n",
      "\n",
      "x    378\n",
      "o    330\n",
      "b    250\n",
      "Name: 3, dtype: int64\n",
      "\n",
      "x    458\n",
      "o    340\n",
      "b    160\n",
      "Name: 4, dtype: int64\n",
      "\n",
      "x    378\n",
      "o    330\n",
      "b    250\n",
      "Name: 5, dtype: int64\n",
      "\n",
      "x    418\n",
      "o    335\n",
      "b    205\n",
      "Name: 6, dtype: int64\n",
      "\n",
      "x    378\n",
      "o    330\n",
      "b    250\n",
      "Name: 7, dtype: int64\n",
      "\n",
      "x    418\n",
      "o    335\n",
      "b    205\n",
      "Name: 8, dtype: int64\n",
      "\n",
      "positive    626\n",
      "negative    332\n",
      "Name: 9, dtype: int64\n",
      "\n"
     ]
    }
   ],
   "source": [
    "for i in range(trt.shape[1]):\n",
    "    print(trt.iloc[:,i].value_counts())\n",
    "    print()"
   ]
  },
  {
   "cell_type": "code",
   "execution_count": 103,
   "metadata": {
    "collapsed": true
   },
   "outputs": [],
   "source": [
    "# закодируем категориальные признаки\n",
    "label = LabelEncoder()\n",
    "for i in trt.columns:\n",
    "    label.fit(trt.iloc[:, (i-1)])\n",
    "    trt.iloc[:, (i-1)] = label.transform(trt.iloc[:, (i-1)])\n",
    "\n",
    "y = trt.iloc[:,9]\n",
    "X = trt.iloc[:,:9]"
   ]
  },
  {
   "cell_type": "code",
   "execution_count": 104,
   "metadata": {
    "collapsed": false
   },
   "outputs": [
    {
     "name": "stdout",
     "output_type": "stream",
     "text": [
      "Если все категроиальные, то accuracy =  0.811394239465\n",
      "Если все вещественные, то accuracy =  0.748024394104\n"
     ]
    }
   ],
   "source": [
    "change_dtype(X,y)"
   ]
  },
  {
   "cell_type": "markdown",
   "metadata": {},
   "source": [
    "* На этот раз данные тоже категориальные, но принимают одни и те же три значения в каждом столбце. Accuracy выше, если рассматриваем их как категориальные.\n"
   ]
  },
  {
   "cell_type": "markdown",
   "metadata": {},
   "source": [
    "### 3. Cars"
   ]
  },
  {
   "cell_type": "code",
   "execution_count": 129,
   "metadata": {
    "collapsed": false
   },
   "outputs": [
    {
     "data": {
      "text/html": [
       "<div>\n",
       "<table border=\"1\" class=\"dataframe\">\n",
       "  <thead>\n",
       "    <tr style=\"text-align: right;\">\n",
       "      <th></th>\n",
       "      <th>0</th>\n",
       "      <th>1</th>\n",
       "      <th>2</th>\n",
       "      <th>3</th>\n",
       "      <th>4</th>\n",
       "      <th>5</th>\n",
       "      <th>6</th>\n",
       "    </tr>\n",
       "  </thead>\n",
       "  <tbody>\n",
       "    <tr>\n",
       "      <th>0</th>\n",
       "      <td>vhigh</td>\n",
       "      <td>vhigh</td>\n",
       "      <td>2</td>\n",
       "      <td>2</td>\n",
       "      <td>small</td>\n",
       "      <td>low</td>\n",
       "      <td>unacc</td>\n",
       "    </tr>\n",
       "    <tr>\n",
       "      <th>1</th>\n",
       "      <td>vhigh</td>\n",
       "      <td>vhigh</td>\n",
       "      <td>2</td>\n",
       "      <td>2</td>\n",
       "      <td>small</td>\n",
       "      <td>med</td>\n",
       "      <td>unacc</td>\n",
       "    </tr>\n",
       "    <tr>\n",
       "      <th>2</th>\n",
       "      <td>vhigh</td>\n",
       "      <td>vhigh</td>\n",
       "      <td>2</td>\n",
       "      <td>2</td>\n",
       "      <td>small</td>\n",
       "      <td>high</td>\n",
       "      <td>unacc</td>\n",
       "    </tr>\n",
       "    <tr>\n",
       "      <th>3</th>\n",
       "      <td>vhigh</td>\n",
       "      <td>vhigh</td>\n",
       "      <td>2</td>\n",
       "      <td>2</td>\n",
       "      <td>med</td>\n",
       "      <td>low</td>\n",
       "      <td>unacc</td>\n",
       "    </tr>\n",
       "    <tr>\n",
       "      <th>4</th>\n",
       "      <td>vhigh</td>\n",
       "      <td>vhigh</td>\n",
       "      <td>2</td>\n",
       "      <td>2</td>\n",
       "      <td>med</td>\n",
       "      <td>med</td>\n",
       "      <td>unacc</td>\n",
       "    </tr>\n",
       "  </tbody>\n",
       "</table>\n",
       "</div>"
      ],
      "text/plain": [
       "       0      1  2  3      4     5      6\n",
       "0  vhigh  vhigh  2  2  small   low  unacc\n",
       "1  vhigh  vhigh  2  2  small   med  unacc\n",
       "2  vhigh  vhigh  2  2  small  high  unacc\n",
       "3  vhigh  vhigh  2  2    med   low  unacc\n",
       "4  vhigh  vhigh  2  2    med   med  unacc"
      ]
     },
     "execution_count": 129,
     "metadata": {},
     "output_type": "execute_result"
    }
   ],
   "source": [
    "url = 'https://archive.ics.uci.edu/ml/machine-learning-databases/car/car.data'\n",
    "cars = pd.read_csv(url, header=None)\n",
    "cars.head()"
   ]
  },
  {
   "cell_type": "code",
   "execution_count": 130,
   "metadata": {
    "collapsed": false,
    "scrolled": true
   },
   "outputs": [
    {
     "name": "stdout",
     "output_type": "stream",
     "text": [
      "med      432\n",
      "vhigh    432\n",
      "high     432\n",
      "low      432\n",
      "Name: 0, dtype: int64\n",
      "\n",
      "med      432\n",
      "vhigh    432\n",
      "high     432\n",
      "low      432\n",
      "Name: 1, dtype: int64\n",
      "\n",
      "4        432\n",
      "5more    432\n",
      "3        432\n",
      "2        432\n",
      "Name: 2, dtype: int64\n",
      "\n",
      "more    576\n",
      "4       576\n",
      "2       576\n",
      "Name: 3, dtype: int64\n",
      "\n",
      "med      576\n",
      "small    576\n",
      "big      576\n",
      "Name: 4, dtype: int64\n",
      "\n",
      "med     576\n",
      "high    576\n",
      "low     576\n",
      "Name: 5, dtype: int64\n",
      "\n",
      "unacc    1210\n",
      "acc       384\n",
      "good       69\n",
      "vgood      65\n",
      "Name: 6, dtype: int64\n",
      "\n"
     ]
    }
   ],
   "source": [
    "for i in range(cars.shape[1]):\n",
    "    print(cars.iloc[:,i].value_counts())\n",
    "    print()"
   ]
  },
  {
   "cell_type": "markdown",
   "metadata": {},
   "source": [
    "* во втором и третьем столбце стоят перемнные, над которыми определен порядок, заменим '5more' и 'more' на числа, чтобы эти столбцы стали полностью вещественными.\n",
    "* также закодируем вектор ответов, как указано в задании."
   ]
  },
  {
   "cell_type": "code",
   "execution_count": 131,
   "metadata": {
    "collapsed": true
   },
   "outputs": [],
   "source": [
    "cars.iloc[:, 2].replace('5more', 5, inplace = True)\n",
    "cars.iloc[:, 3].replace('more', 6, inplace = True)\n",
    "cars.iloc[:, 6].replace(['unacc', 'acc'], 0, inplace = True)\n",
    "cars.iloc[:, 6].replace(['good', 'vgood'], 1, inplace = True)"
   ]
  },
  {
   "cell_type": "code",
   "execution_count": 132,
   "metadata": {
    "collapsed": true
   },
   "outputs": [],
   "source": [
    "# закодируем категориальные признаки\n",
    "label = LabelEncoder()\n",
    "for i in [0,1,4,5,6]:\n",
    "    label.fit(cars.iloc[:, (i)])\n",
    "    cars.iloc[:, (i)] = label.transform(cars.iloc[:, (i)])\n",
    "\n",
    "y = cars.iloc[:,6]\n",
    "X = cars.iloc[:,:6]"
   ]
  },
  {
   "cell_type": "code",
   "execution_count": 133,
   "metadata": {
    "collapsed": false
   },
   "outputs": [
    {
     "name": "stdout",
     "output_type": "stream",
     "text": [
      "Если все категроиальные, то accuracy =  0.831001069233\n",
      "Если все вещественные, то accuracy =  0.940390269981\n"
     ]
    }
   ],
   "source": [
    "change_dtype(X,y)"
   ]
  },
  {
   "cell_type": "code",
   "execution_count": 135,
   "metadata": {
    "collapsed": false
   },
   "outputs": [
    {
     "name": "stdout",
     "output_type": "stream",
     "text": [
      "Если правильное разбиение, то accuracy =  0.796117348303\n"
     ]
    }
   ],
   "source": [
    "enc = OneHotEncoder()\n",
    "enc.fit(X.iloc[:, [0,1,4,5]])\n",
    "X_hot = enc.transform(X.iloc[:, [0,1,4,5]]).toarray()\n",
    "X = np.array(np.hstack([X.iloc[:, [2,3]].values, X_hot]), dtype=np.float32)\n",
    "clf = tree.DecisionTreeClassifier(random_state=42)\n",
    "accuracy_right = np.mean(cross_val_score(clf, X, y, cv=10, scoring=make_scorer(accuracy_score)))\n",
    "print(\"Если правильное разбиение, то accuracy = \", accuracy_right)"
   ]
  },
  {
   "cell_type": "markdown",
   "metadata": {},
   "source": [
    "* Вданном случае, мы получили, что при правильном разбиении, accuracy все равно ниже, чем если все вещественные. Объяснение - изначально переменные хоть и были категориальными, но из их названия, можно было опеределить соотношения: low < med < < high < vhigh, а значит на самом деле они несут смысл вещественных переменных."
   ]
  },
  {
   "cell_type": "markdown",
   "metadata": {},
   "source": [
    "### 4. Nursery"
   ]
  },
  {
   "cell_type": "code",
   "execution_count": 142,
   "metadata": {
    "collapsed": false
   },
   "outputs": [
    {
     "data": {
      "text/html": [
       "<div>\n",
       "<table border=\"1\" class=\"dataframe\">\n",
       "  <thead>\n",
       "    <tr style=\"text-align: right;\">\n",
       "      <th></th>\n",
       "      <th>0</th>\n",
       "      <th>1</th>\n",
       "      <th>2</th>\n",
       "      <th>3</th>\n",
       "      <th>4</th>\n",
       "      <th>5</th>\n",
       "      <th>6</th>\n",
       "      <th>7</th>\n",
       "      <th>8</th>\n",
       "    </tr>\n",
       "  </thead>\n",
       "  <tbody>\n",
       "    <tr>\n",
       "      <th>0</th>\n",
       "      <td>usual</td>\n",
       "      <td>proper</td>\n",
       "      <td>complete</td>\n",
       "      <td>1</td>\n",
       "      <td>convenient</td>\n",
       "      <td>convenient</td>\n",
       "      <td>nonprob</td>\n",
       "      <td>recommended</td>\n",
       "      <td>recommend</td>\n",
       "    </tr>\n",
       "    <tr>\n",
       "      <th>1</th>\n",
       "      <td>usual</td>\n",
       "      <td>proper</td>\n",
       "      <td>complete</td>\n",
       "      <td>1</td>\n",
       "      <td>convenient</td>\n",
       "      <td>convenient</td>\n",
       "      <td>nonprob</td>\n",
       "      <td>priority</td>\n",
       "      <td>priority</td>\n",
       "    </tr>\n",
       "    <tr>\n",
       "      <th>2</th>\n",
       "      <td>usual</td>\n",
       "      <td>proper</td>\n",
       "      <td>complete</td>\n",
       "      <td>1</td>\n",
       "      <td>convenient</td>\n",
       "      <td>convenient</td>\n",
       "      <td>nonprob</td>\n",
       "      <td>not_recom</td>\n",
       "      <td>not_recom</td>\n",
       "    </tr>\n",
       "  </tbody>\n",
       "</table>\n",
       "</div>"
      ],
      "text/plain": [
       "       0       1         2  3           4           5        6            7  \\\n",
       "0  usual  proper  complete  1  convenient  convenient  nonprob  recommended   \n",
       "1  usual  proper  complete  1  convenient  convenient  nonprob     priority   \n",
       "2  usual  proper  complete  1  convenient  convenient  nonprob    not_recom   \n",
       "\n",
       "           8  \n",
       "0  recommend  \n",
       "1   priority  \n",
       "2  not_recom  "
      ]
     },
     "execution_count": 142,
     "metadata": {},
     "output_type": "execute_result"
    }
   ],
   "source": [
    "url = 'https://archive.ics.uci.edu/ml/machine-learning-databases/nursery/nursery.data'\n",
    "nursery = pd.read_csv(url, header=None)\n",
    "nursery.head(3)"
   ]
  },
  {
   "cell_type": "code",
   "execution_count": 143,
   "metadata": {
    "collapsed": false,
    "scrolled": true
   },
   "outputs": [
    {
     "name": "stdout",
     "output_type": "stream",
     "text": [
      "great_pret     4320\n",
      "pretentious    4320\n",
      "usual          4320\n",
      "Name: 0, dtype: int64\n",
      "\n",
      "very_crit      2592\n",
      "proper         2592\n",
      "critical       2592\n",
      "less_proper    2592\n",
      "improper       2592\n",
      "Name: 1, dtype: int64\n",
      "\n",
      "foster        3240\n",
      "incomplete    3240\n",
      "completed     3240\n",
      "complete      3240\n",
      "Name: 2, dtype: int64\n",
      "\n",
      "3       3240\n",
      "more    3240\n",
      "1       3240\n",
      "2       3240\n",
      "Name: 3, dtype: int64\n",
      "\n",
      "critical      4320\n",
      "less_conv     4320\n",
      "convenient    4320\n",
      "Name: 4, dtype: int64\n",
      "\n",
      "inconv        6480\n",
      "convenient    6480\n",
      "Name: 5, dtype: int64\n",
      "\n",
      "nonprob          4320\n",
      "slightly_prob    4320\n",
      "problematic      4320\n",
      "Name: 6, dtype: int64\n",
      "\n",
      "recommended    4320\n",
      "not_recom      4320\n",
      "priority       4320\n",
      "Name: 7, dtype: int64\n",
      "\n",
      "not_recom     4320\n",
      "priority      4266\n",
      "spec_prior    4044\n",
      "very_recom     328\n",
      "recommend        2\n",
      "Name: 8, dtype: int64\n",
      "\n"
     ]
    }
   ],
   "source": [
    "for i in range(nursery.shape[1]):\n",
    "    print(nursery.iloc[:,i].value_counts())\n",
    "    print()"
   ]
  },
  {
   "cell_type": "code",
   "execution_count": 144,
   "metadata": {
    "collapsed": true
   },
   "outputs": [],
   "source": [
    "nursery.iloc[:, 3].replace('more', 4, inplace = True)\n",
    "nursery.iloc[:, 8].replace(['not_recom', 'recommend'], 0, inplace = True)\n",
    "nursery.iloc[:, 8].replace(['very_recom', 'priority', 'spec_prior'], 1, inplace = True)"
   ]
  },
  {
   "cell_type": "code",
   "execution_count": 145,
   "metadata": {
    "collapsed": true
   },
   "outputs": [],
   "source": [
    "# закодируем категориальные признаки\n",
    "label = LabelEncoder()\n",
    "for i in [0,1,2,4,5,6,7]:\n",
    "    label.fit(nursery.iloc[:, (i)])\n",
    "    nursery.iloc[:, (i)] = label.transform(nursery.iloc[:, (i)])\n",
    "\n",
    "y = nursery.iloc[:,8]\n",
    "X = nursery.iloc[:,:8]"
   ]
  },
  {
   "cell_type": "code",
   "execution_count": 146,
   "metadata": {
    "collapsed": false
   },
   "outputs": [
    {
     "name": "stdout",
     "output_type": "stream",
     "text": [
      "Если все категроиальные, то accuracy =  0.999845797995\n",
      "Если все вещественные, то accuracy =  0.999691477008\n"
     ]
    }
   ],
   "source": [
    "change_dtype(X,y)"
   ]
  },
  {
   "cell_type": "code",
   "execution_count": 147,
   "metadata": {
    "collapsed": false
   },
   "outputs": [
    {
     "name": "stdout",
     "output_type": "stream",
     "text": [
      "Если правильное разбиение, то accuracy =  0.99953715602\n"
     ]
    }
   ],
   "source": [
    "enc = OneHotEncoder()\n",
    "enc.fit(X.iloc[:, [0,1,2,4,5,6,7]])\n",
    "X_hot = enc.transform(X.iloc[:, [0,1,2,4,5,6,7]]).toarray()\n",
    "X = np.array(np.hstack([X.iloc[:, [3]].values, X_hot]), dtype=np.float32)\n",
    "clf = tree.DecisionTreeClassifier(random_state=42)\n",
    "accuracy_right = np.mean(cross_val_score(clf, X, y, cv=10, scoring=make_scorer(accuracy_score)))\n",
    "print(\"Если правильное разбиение, то accuracy = \", accuracy_right)"
   ]
  },
  {
   "cell_type": "markdown",
   "metadata": {},
   "source": [
    "* В данном примере результаты очень близки, и рассмотрение переменных как категориальные дает чуть более высокий accuracy.\n"
   ]
  },
  {
   "cell_type": "markdown",
   "metadata": {},
   "source": [
    "__6 (0.5 балла)__\n",
    "\n",
    "Проанализируйте результаты эксперимента. \n",
    "Одинаково ли для разных наборов данных ранжируются алгоритмы? \n",
    "Порассуждайте, почему так происходит. \n",
    "\n",
    "Обратите внимание на значение признаков в разных наборах данных. \n",
    "Присутствует ли в результатах какая-то компонента случайности? \n",
    "Можно ли повлиять на нее и улушить работу алгоритмов?"
   ]
  },
  {
   "cell_type": "markdown",
   "metadata": {},
   "source": [
    "* Результат различается от данных к данным -> уникально хорошего спасоба нет :(\n",
    "* Стоит отметить, что в первом датафрейме признаки значения признаков различаются по сути (разные буквы) и по количеству категорий (где-то 2 категории, где-то 7). \n",
    "* Во втором: категориальные переменные принимают одни и те же 3 значения в каждой колонке, более того, соотношение значений имеет всего три распределения (те в каждой колонке частота появления -  либо 378/330/250, либо 458/340/160, либо 418/335/205) и нет никакой смысловой нагрузки. В данном случае получили наибольший accuracy в случае категориальной модели.\n",
    "* В третьем: каждая категориальная перемнная принимает всего три значения и имеет порядковое соотношение по смыслу, причем одно из трех значений категориальной переменной появляется в колонке равновероятно. Логично, что наибольшее accuracy нам дает вещественная модель.\n",
    "* В четвертом: случай как и с третьим датафреймом. Наилучший результат у категориальной модели, но они очень близки с вещественной и правильным разбиением. \n",
    "* Еще в первом и втором датафрейме наиболее адекватное соотношение классов, в третьем и четвертом есть ответы, которые встречались только пару раз. Это так же может влиять на результат алгоритма (он просто не будет предсказывать этот класс и ошибка все равно будет маленькой)\n",
    "* Случайность может отражаться в предварительном случайном перемешивании данных. Опытным путем было показано, что это влияет на итоговый accuracy."
   ]
  },
  {
   "cell_type": "markdown",
   "metadata": {
    "collapsed": true
   },
   "source": [
    "### III. Композиции деревьев\n",
    "#### Сравнение композиционных методов над решающими деревьями\n",
    "__7 (1 балл)__\n",
    "\n",
    "Выполните следующие шаги:\n",
    "1. Загрузите датасет [winequality-red.csv](https://archive.ics.uci.edu/ml/machine-learning-databases/wine-quality/winequality-red.csv) в датафрейм. Последний столбец - целевая переменная (содержит классы).\n",
    "1. С помощью cross_val_score с cv=3 оцените качество (accuracy) следующих классификаторов:\n",
    "    * DecisionTreeClassifier\n",
    "    * BaggingClassifier со 100 деревьями\n",
    "    * BaggingClassifier со 100 деревьями; каждое дерево обучается только по половине случайно выбранных признаков (см. параметры метода)\n",
    "    * RandomForestClassifier со 100 деревьями\n",
    "    \n",
    "Значение получается шумное, но в целом у вас должно получиться, что качество возрастает с каждым следующим алгоритмом. Этот пример демонстрирует, что RandomForest - это более сложный алгоритм, чем бэггинг и бэггинг со случайными подпространствами. "
   ]
  },
  {
   "cell_type": "code",
   "execution_count": 149,
   "metadata": {
    "collapsed": true
   },
   "outputs": [],
   "source": [
    "from sklearn import ensemble\n",
    "df = pd.read_csv(\"winequality-red.csv\", sep = ';')"
   ]
  },
  {
   "cell_type": "code",
   "execution_count": 150,
   "metadata": {
    "collapsed": false
   },
   "outputs": [
    {
     "name": "stdout",
     "output_type": "stream",
     "text": [
      "DecisionTreeClassifier\n",
      "0.445919817421\n",
      "\n",
      "BaggingClassifier\n",
      "0.554820782649\n",
      "\n",
      "BaggingClassifier на случайных подвыборках\n",
      "0.567909429727\n",
      "\n",
      "RandomForestClassifier\n",
      "0.564803587014\n"
     ]
    }
   ],
   "source": [
    "X = df.iloc[:, :-1]\n",
    "y = df['quality']\n",
    "\n",
    "#DecisionTreeClassifier\n",
    "clf = tree.DecisionTreeClassifier()\n",
    "print('DecisionTreeClassifier')\n",
    "print(np.mean(cross_val_score(clf,X, y, cv=3, scoring='accuracy')))\n",
    "print()\n",
    "\n",
    "#BaggingClassifier\n",
    "clf = ensemble.BaggingClassifier(n_estimators = 100)\n",
    "print('BaggingClassifier')\n",
    "print(np.mean(cross_val_score(clf,X, y, cv=3, scoring='accuracy')))\n",
    "print()\n",
    "\n",
    "#BaggingClassifier на случайных подвыборках\n",
    "clf = ensemble.BaggingClassifier(n_estimators = 100, max_samples = 0.5)\n",
    "print('BaggingClassifier на случайных подвыборках')\n",
    "print(np.mean(cross_val_score(clf,X, y, cv=3, scoring='accuracy')))\n",
    "print()\n",
    "\n",
    "# RandomForestClassifier\n",
    "clf = ensemble.RandomForestClassifier(n_estimators = 100)\n",
    "print('RandomForestClassifier')\n",
    "print(np.mean(cross_val_score(clf,X, y, cv=3, scoring='accuracy')))"
   ]
  },
  {
   "cell_type": "markdown",
   "metadata": {},
   "source": [
    "* Видим, что результат действительно улучшается от алгоритма к алгоритму"
   ]
  },
  {
   "cell_type": "markdown",
   "metadata": {},
   "source": [
    "#### Число деревьев в случайном лесе\n",
    "В этой задаче мы рассмотрим, переобучаются ли композиционные алгоритмы с увеличением числа деревьев.\n",
    "\n",
    "__8 (1 балл)__\n",
    "\n",
    "Продолжим работать с набором данных [winequality-red.csv](https://archive.ics.uci.edu/ml/machine-learning-databases/wine-quality/winequality-red.csv). Разделите выборку на обучение и контроль с пропорции 7:3, предварительно перемешав объекты. Переберите значения от 100 до 5000 деревьев с шагом 100, посчитайте accuracy на тестовой выборке для каждого числа деревьев и постройте график зависимости качества от числа деревьев.\n",
    "\n",
    "Рекомендация.\n",
    "\n",
    "Если каждый раз обучать RandomForest с нуля, придётся обучить в общей сумме $100 + 200 + \\ldots + 5000$ деревьев.\n",
    "Однако, как мы знаем, деревья в случайных лесах строятся независимо и параллельно, поэтому можно обучить всего 5000 деревьев.\n",
    "\n",
    "Для этого в при создании объекта класса RandomForestClassifier нужно указать в том числе warm_start=True. Затем обучить алгоритм с помощью метода fit, использовать метод predict для классификации. После этого с помощью метода set_params изменить параметр n_estimators. Если к полученному объекту применить метод fit, внутри него будет обучаться только недостающее число деревьев.\n",
    "\n",
    "Переобучается ли случайный лес с увеличением числа деревьев?"
   ]
  },
  {
   "cell_type": "code",
   "execution_count": 151,
   "metadata": {
    "collapsed": true
   },
   "outputs": [],
   "source": [
    "from sklearn.utils import shuffle\n",
    "X, y = shuffle(X, y, random_state=10)"
   ]
  },
  {
   "cell_type": "code",
   "execution_count": 152,
   "metadata": {
    "collapsed": false
   },
   "outputs": [
    {
     "name": "stderr",
     "output_type": "stream",
     "text": [
      "/Users/Bella/Applications/anaconda3/lib/python3.5/site-packages/sklearn/cross_validation.py:41: DeprecationWarning: This module was deprecated in version 0.18 in favor of the model_selection module into which all the refactored classes and functions are moved. Also note that the interface of the new CV iterators are different from that of this module. This module will be removed in 0.20.\n",
      "  \"This module will be removed in 0.20.\", DeprecationWarning)\n"
     ]
    }
   ],
   "source": [
    "from sklearn.cross_validation import train_test_split\n",
    "from sklearn.metrics import accuracy_score\n",
    "\n",
    "X_train, X_test, y_train, y_test = train_test_split(X, y, test_size=0.7, random_state=2)"
   ]
  },
  {
   "cell_type": "code",
   "execution_count": 153,
   "metadata": {
    "collapsed": true
   },
   "outputs": [],
   "source": [
    "clf = ensemble.RandomForestClassifier(n_estimators=100, n_jobs=-1,warm_start=True, random_state=43)\n",
    "\n",
    "res = []\n",
    "rng = []\n",
    "for i in range(1,51):\n",
    "    clf.fit(X_train, y_train)\n",
    "    res.append(accuracy_score(y_test, clf.predict(X_test)))\n",
    "    rng.append(i*100)\n",
    "    clf.set_params(n_estimators = (i+1)*100)"
   ]
  },
  {
   "cell_type": "code",
   "execution_count": 154,
   "metadata": {
    "collapsed": false
   },
   "outputs": [
    {
     "data": {
      "image/png": "[encoded data removed]",
      "text/plain": [
       "<matplotlib.figure.Figure at 0x118676208>"
      ]
     },
     "metadata": {},
     "output_type": "display_data"
    }
   ],
   "source": [
    "plt.plot(rng, res, alpha=0.5)\n",
    "plt.xlabel('number of tress in random forest')\n",
    "plt.ylabel('accuracy score')\n",
    "plt.show()"
   ]
  },
  {
   "cell_type": "markdown",
   "metadata": {},
   "source": [
    "* Как видно из графика, при возрастании количества деревьев в лесу accuracy возрастает. Так как accuracy варьируется в пределах от [0.606; 0.618] нет оснований полагать, что алгоритм переобучается, не смотря на то, что мы так сильно увеличиваем кол-во деревьев. Однако, нельзя сказать, что результат \"устаканивается\" с возрастанием кол-ва деревьев: результаты на 200 и на 4900 деревьях не сильно отличаются."
   ]
  },
  {
   "cell_type": "markdown",
   "metadata": {},
   "source": [
    "### IV. Нейронные сети\n",
    "\n",
    "*На обучение нейросетей может уйти больше часа, не откладывайте этот пункт на последний день*."
   ]
  },
  {
   "cell_type": "markdown",
   "metadata": {},
   "source": [
    "__9 (1 балл)__"
   ]
  },
  {
   "cell_type": "markdown",
   "metadata": {},
   "source": [
    "В этом задании вам предстоит обучить нейронную сеть на датасете [MNIST](https://en.wikipedia.org/wiki/MNIST_database) с помощью пакета [keras](https://keras.io)."
   ]
  },
  {
   "cell_type": "code",
   "execution_count": 13,
   "metadata": {
    "collapsed": false
   },
   "outputs": [],
   "source": [
    "from keras.datasets import mnist\n",
    "from keras.models import Sequential\n",
    "from keras.layers.core import Dense, Dropout, Activation, Flatten\n",
    "from keras.utils import np_utils\n",
    "from keras.layers import Conv2D, MaxPooling2D\n",
    "\n",
    "(X_train, y_train), (X_test, y_test) = mnist.load_data()"
   ]
  },
  {
   "cell_type": "code",
   "execution_count": 14,
   "metadata": {
    "collapsed": false
   },
   "outputs": [
    {
     "name": "stdout",
     "output_type": "stream",
     "text": [
      "X_train shape (60000, 28, 28)\n",
      "y_train shape (60000,)\n",
      "X_test shape (10000, 28, 28)\n",
      "y_test shape (10000,)\n"
     ]
    }
   ],
   "source": [
    "print(\"X_train shape\", X_train.shape)\n",
    "print(\"y_train shape\", y_train.shape)\n",
    "print(\"X_test shape\", X_test.shape)\n",
    "print(\"y_test shape\", y_test.shape)"
   ]
  },
  {
   "cell_type": "code",
   "execution_count": 15,
   "metadata": {
    "collapsed": false
   },
   "outputs": [
    {
     "data": {
      "image/png": "[encoded data removed]",
      "text/plain": [
       "<matplotlib.figure.Figure at 0x128f18208>"
      ]
     },
     "metadata": {},
     "output_type": "display_data"
    }
   ],
   "source": [
    "for i in range(3):\n",
    "    plt.subplot(1,3,i+1)\n",
    "    plt.imshow(X_train[i], cmap='gray', interpolation='none')\n",
    "    plt.title(\"Class {}\".format(y_train[i]))"
   ]
  },
  {
   "cell_type": "code",
   "execution_count": 16,
   "metadata": {
    "collapsed": true
   },
   "outputs": [],
   "source": [
    "X_train = X_train.reshape(60000, 784) # так как нам нужны векторы\n",
    "X_test = X_test.reshape(10000, 784)\n",
    "X_train = X_train.astype('float32')\n",
    "X_test = X_test.astype('float32')\n",
    "X_train /= 255 # шкалируем к [0,1]\n",
    "X_test /= 255\n",
    "\n",
    "nb_classes = 10\n",
    "Y_train = np_utils.to_categorical(y_train, nb_classes) # из вектора в число\n",
    "Y_test = np_utils.to_categorical(y_test, nb_classes)"
   ]
  },
  {
   "cell_type": "markdown",
   "metadata": {},
   "source": [
    "Обучите нейронную сеть с двумя скрытыми слоями в каждой из которых поместите по 100 нейронов. Какого качества удается добиться на тесте?"
   ]
  },
  {
   "cell_type": "code",
   "execution_count": 17,
   "metadata": {
    "collapsed": true
   },
   "outputs": [],
   "source": [
    "# сеть с двумя слоями\n",
    "model = Sequential()\n",
    "model.add(Dense(100, input_shape=(784,), activation='relu'))\n",
    "model.add(Dense(100, activation='relu'))\n",
    "model.add(Dense(10, activation='softmax'))\n",
    "\n",
    "model.compile(optimizer='adam', loss='categorical_crossentropy', metrics=['accuracy'])"
   ]
  },
  {
   "cell_type": "code",
   "execution_count": 18,
   "metadata": {
    "collapsed": false,
    "scrolled": false
   },
   "outputs": [
    {
     "name": "stdout",
     "output_type": "stream",
     "text": [
      "Train on 60000 samples, validate on 10000 samples\n",
      "Epoch 1/20\n",
      "60000/60000 [==============================] - 2s - loss: 0.3949 - acc: 0.8909 - val_loss: 0.1922 - val_acc: 0.9435\n",
      "Epoch 2/20\n",
      "60000/60000 [==============================] - 2s - loss: 0.1601 - acc: 0.9529 - val_loss: 0.1327 - val_acc: 0.9601\n",
      "Epoch 3/20\n",
      "60000/60000 [==============================] - 2s - loss: 0.1141 - acc: 0.9658 - val_loss: 0.1176 - val_acc: 0.9633\n",
      "Epoch 4/20\n",
      "60000/60000 [==============================] - 2s - loss: 0.0888 - acc: 0.9729 - val_loss: 0.0964 - val_acc: 0.9702\n",
      "Epoch 5/20\n",
      "60000/60000 [==============================] - 2s - loss: 0.0708 - acc: 0.9790 - val_loss: 0.0890 - val_acc: 0.9706\n",
      "Epoch 6/20\n",
      "60000/60000 [==============================] - 2s - loss: 0.0589 - acc: 0.9825 - val_loss: 0.0832 - val_acc: 0.9757\n",
      "Epoch 7/20\n",
      "60000/60000 [==============================] - 2s - loss: 0.0483 - acc: 0.9852 - val_loss: 0.0828 - val_acc: 0.9729\n",
      "Epoch 8/20\n",
      "60000/60000 [==============================] - 2s - loss: 0.0412 - acc: 0.9877 - val_loss: 0.0816 - val_acc: 0.9759\n",
      "Epoch 9/20\n",
      "60000/60000 [==============================] - 2s - loss: 0.0353 - acc: 0.9891 - val_loss: 0.0849 - val_acc: 0.9732\n",
      "Epoch 10/20\n",
      "60000/60000 [==============================] - 2s - loss: 0.0296 - acc: 0.9909 - val_loss: 0.0800 - val_acc: 0.9751\n",
      "Epoch 11/20\n",
      "60000/60000 [==============================] - 2s - loss: 0.0259 - acc: 0.9925 - val_loss: 0.0802 - val_acc: 0.9753\n",
      "Epoch 12/20\n",
      "60000/60000 [==============================] - 2s - loss: 0.0206 - acc: 0.9943 - val_loss: 0.0815 - val_acc: 0.9760\n",
      "Epoch 13/20\n",
      "60000/60000 [==============================] - 2s - loss: 0.0177 - acc: 0.9949 - val_loss: 0.0850 - val_acc: 0.9757\n",
      "Epoch 14/20\n",
      "60000/60000 [==============================] - 2s - loss: 0.0149 - acc: 0.9959 - val_loss: 0.0833 - val_acc: 0.9770\n",
      "Epoch 15/20\n",
      "60000/60000 [==============================] - 2s - loss: 0.0138 - acc: 0.9958 - val_loss: 0.0915 - val_acc: 0.9760\n",
      "Epoch 16/20\n",
      "60000/60000 [==============================] - 2s - loss: 0.0117 - acc: 0.9966 - val_loss: 0.0939 - val_acc: 0.9761\n",
      "Epoch 17/20\n",
      "60000/60000 [==============================] - 2s - loss: 0.0115 - acc: 0.9967 - val_loss: 0.1004 - val_acc: 0.9747\n",
      "Epoch 18/20\n",
      "60000/60000 [==============================] - 2s - loss: 0.0099 - acc: 0.9972 - val_loss: 0.0850 - val_acc: 0.9785\n",
      "Epoch 19/20\n",
      "60000/60000 [==============================] - 2s - loss: 0.0057 - acc: 0.9988 - val_loss: 0.0946 - val_acc: 0.9772\n",
      "Epoch 20/20\n",
      "60000/60000 [==============================] - 2s - loss: 0.0069 - acc: 0.9981 - val_loss: 0.1045 - val_acc: 0.9747\n"
     ]
    },
    {
     "data": {
      "text/plain": [
       "<keras.callbacks.History at 0x1299abd68>"
      ]
     },
     "execution_count": 18,
     "metadata": {},
     "output_type": "execute_result"
    }
   ],
   "source": [
    "# обучаем модель\n",
    "model.fit(x = X_train, y = Y_train, validation_data=(X_test, Y_test), batch_size=200, nb_epoch=20)"
   ]
  },
  {
   "cell_type": "code",
   "execution_count": 19,
   "metadata": {
    "collapsed": false
   },
   "outputs": [
    {
     "name": "stdout",
     "output_type": "stream",
     "text": [
      "Test accuracy: 0.9747\n"
     ]
    }
   ],
   "source": [
    "score = model.evaluate(X_test, Y_test, verbose=0)\n",
    "print('Test accuracy:', score[1])"
   ]
  },
  {
   "cell_type": "markdown",
   "metadata": {},
   "source": [
    "* Нам удалось достичь accuracy = 0.9747"
   ]
  },
  {
   "cell_type": "markdown",
   "metadata": {},
   "source": [
    "__10 (2 балл)__\n",
    "Добавьте сверточные и pooling слои (вы можете также убрать Dense слои), добейтесь большего качества. Для успешного выполнения задания получите accuracy больше 0.99 на тестовой выборке. \n",
    "\n",
    "Рекомендации: после сверточных слоев наиболее эффективно добавлять MaxPooling слои, в конце перед последним слоем поставьте Dense слои с достаточно большим количеством нейронов. Подвигайте количество слоев, learning rate, функции активации."
   ]
  },
  {
   "cell_type": "code",
   "execution_count": 20,
   "metadata": {
    "collapsed": false
   },
   "outputs": [
    {
     "data": {
      "text/plain": [
       "(60000, 784)"
      ]
     },
     "execution_count": 20,
     "metadata": {},
     "output_type": "execute_result"
    }
   ],
   "source": [
    "X_train.shape"
   ]
  },
  {
   "cell_type": "code",
   "execution_count": 21,
   "metadata": {
    "collapsed": false
   },
   "outputs": [],
   "source": [
    "(X_train, y_train), (X_test, y_test) = mnist.load_data()\n",
    "# reshape to be [samples][pixels][width][height]\n",
    "X_train = X_train.reshape(X_train.shape[0], 28, 28, 1) \n",
    "X_test = X_test.reshape(X_test.shape[0], 28, 28, 1)\n",
    "X_train = X_train.astype('float32')\n",
    "X_test = X_test.astype('float32')\n",
    "X_train /= 255 \n",
    "X_test /= 255\n",
    "\n",
    "nb_classes = 10\n",
    "Y_train = np_utils.to_categorical(y_train, nb_classes) \n",
    "Y_test = np_utils.to_categorical(y_test, nb_classes)"
   ]
  },
  {
   "cell_type": "code",
   "execution_count": 22,
   "metadata": {
    "collapsed": false
   },
   "outputs": [],
   "source": [
    "model = Sequential()\n",
    "model.add(Conv2D(64, 5, 5, input_shape=(28, 28, 1), activation='relu'))\n",
    "model.add(MaxPooling2D(pool_size=(2,2)))\n",
    "model.add(Flatten())\n",
    "# полносвязный слой\n",
    "model.add(Dense(100, activation='relu'))\n",
    "model.add(Dense(10, activation='softmax'))\n",
    "\n",
    "model.compile( metrics=['accuracy'], optimizer='adam', loss='categorical_crossentropy')"
   ]
  },
  {
   "cell_type": "code",
   "execution_count": 23,
   "metadata": {
    "collapsed": false
   },
   "outputs": [
    {
     "name": "stdout",
     "output_type": "stream",
     "text": [
      "Train on 60000 samples, validate on 10000 samples\n",
      "Epoch 1/10\n",
      "60000/60000 [==============================] - 151s - loss: 0.1104 - acc: 0.9652 - val_loss: 0.0478 - val_acc: 0.9841\n",
      "Epoch 2/10\n",
      "60000/60000 [==============================] - 139s - loss: 0.0427 - acc: 0.9866 - val_loss: 0.0404 - val_acc: 0.9864\n",
      "Epoch 3/10\n",
      "60000/60000 [==============================] - 132s - loss: 0.0256 - acc: 0.9920 - val_loss: 0.0369 - val_acc: 0.9888\n",
      "Epoch 4/10\n",
      "60000/60000 [==============================] - 127s - loss: 0.0176 - acc: 0.9944 - val_loss: 0.0524 - val_acc: 0.9846\n",
      "Epoch 5/10\n",
      "60000/60000 [==============================] - 135s - loss: 0.0128 - acc: 0.9957 - val_loss: 0.0513 - val_acc: 0.9855\n",
      "Epoch 6/10\n",
      "60000/60000 [==============================] - 133s - loss: 0.0106 - acc: 0.9966 - val_loss: 0.0460 - val_acc: 0.9878\n",
      "Epoch 7/10\n",
      "60000/60000 [==============================] - 140s - loss: 0.0088 - acc: 0.9972 - val_loss: 0.0441 - val_acc: 0.9897\n",
      "Epoch 8/10\n",
      "60000/60000 [==============================] - 149s - loss: 0.0082 - acc: 0.9973 - val_loss: 0.0617 - val_acc: 0.9883\n",
      "Epoch 9/10\n",
      "60000/60000 [==============================] - 154s - loss: 0.0058 - acc: 0.9982 - val_loss: 0.0697 - val_acc: 0.9870\n",
      "Epoch 10/10\n",
      "60000/60000 [==============================] - 152s - loss: 0.0078 - acc: 0.9976 - val_loss: 0.0595 - val_acc: 0.9881\n"
     ]
    },
    {
     "data": {
      "text/plain": [
       "<keras.callbacks.History at 0x125f61470>"
      ]
     },
     "execution_count": 23,
     "metadata": {},
     "output_type": "execute_result"
    }
   ],
   "source": [
    "# обучаем модель\n",
    "model.fit(x = X_train, y = Y_train, validation_data=(X_test, Y_test), batch_size=16, nb_epoch=10)"
   ]
  },
  {
   "cell_type": "code",
   "execution_count": 25,
   "metadata": {
    "collapsed": false
   },
   "outputs": [
    {
     "name": "stdout",
     "output_type": "stream",
     "text": [
      "Test accuracy: 0.99\n"
     ]
    }
   ],
   "source": [
    "score = model.evaluate(X_test, Y_test, show_accuracy=True, verbose=0)\n",
    "print('Test accuracy: %.2f' %(score[1]))"
   ]
  },
  {
   "cell_type": "markdown",
   "metadata": {},
   "source": [
    "* Видим, что accuracy увеличислся до 0,99"
   ]
  },
  {
   "cell_type": "markdown",
   "metadata": {},
   "source": [
    "__11 (1 балл)__\n",
    "Добавьте 1 или 2 dropout слоя внутрь сети предыдущего шага. Удается ли добиться большего качества? Что происходит с процессом обучения? "
   ]
  },
  {
   "cell_type": "code",
   "execution_count": 26,
   "metadata": {
    "collapsed": false,
    "scrolled": true
   },
   "outputs": [],
   "source": [
    "model = Sequential()\n",
    "model.add(Conv2D(64, 5, 5, input_shape=(28, 28, 1), activation='relu',))\n",
    "model.add(MaxPooling2D(pool_size=(2,2)))\n",
    "model.add(Dropout(0.2))\n",
    "model.add(Flatten())\n",
    "# полносвязный слой\n",
    "model.add(Dense(100, activation='relu'))\n",
    "model.add(Dropout(0.2))\n",
    "model.add(Dense(10, activation='softmax'))\n",
    "\n",
    "model.compile(metrics=['accuracy'], optimizer='adam', loss='categorical_crossentropy')"
   ]
  },
  {
   "cell_type": "code",
   "execution_count": 29,
   "metadata": {
    "collapsed": false
   },
   "outputs": [
    {
     "name": "stdout",
     "output_type": "stream",
     "text": [
      "Train on 60000 samples, validate on 10000 samples\n",
      "Epoch 1/7\n",
      "60000/60000 [==============================] - 161s - loss: 0.1423 - acc: 0.9579 - val_loss: 0.0492 - val_acc: 0.9846\n",
      "Epoch 2/7\n",
      "60000/60000 [==============================] - 159s - loss: 0.0582 - acc: 0.9826 - val_loss: 0.0414 - val_acc: 0.9866\n",
      "Epoch 3/7\n",
      "60000/60000 [==============================] - 152s - loss: 0.0425 - acc: 0.9869 - val_loss: 0.0431 - val_acc: 0.9874\n",
      "Epoch 4/7\n",
      "60000/60000 [==============================] - 147s - loss: 0.0323 - acc: 0.9896 - val_loss: 0.0393 - val_acc: 0.9882\n",
      "Epoch 5/7\n",
      "60000/60000 [==============================] - 146s - loss: 0.0268 - acc: 0.9909 - val_loss: 0.0398 - val_acc: 0.9886\n",
      "Epoch 6/7\n",
      "60000/60000 [==============================] - 151s - loss: 0.0226 - acc: 0.9927 - val_loss: 0.0386 - val_acc: 0.9896\n",
      "Epoch 7/7\n",
      "60000/60000 [==============================] - 148s - loss: 0.0190 - acc: 0.9939 - val_loss: 0.0411 - val_acc: 0.9898\n"
     ]
    },
    {
     "data": {
      "text/plain": [
       "<keras.callbacks.History at 0x12c23a828>"
      ]
     },
     "execution_count": 29,
     "metadata": {},
     "output_type": "execute_result"
    }
   ],
   "source": [
    "# обучаем модель\n",
    "model.fit(x = X_train, y = Y_train, validation_data=(X_test, Y_test), batch_size=16, nb_epoch=7)"
   ]
  },
  {
   "cell_type": "code",
   "execution_count": 30,
   "metadata": {
    "collapsed": false
   },
   "outputs": [
    {
     "name": "stdout",
     "output_type": "stream",
     "text": [
      "Test accuracy: 0.9898\n"
     ]
    }
   ],
   "source": [
    "score = model.evaluate(X_test, Y_test, show_accuracy=True, verbose=0)\n",
    "print('Test accuracy:', score[1])"
   ]
  },
  {
   "cell_type": "markdown",
   "metadata": {},
   "source": [
    "* После добавления dropout accuracy остался равен 0.99, но модель меньше переобучилась"
   ]
  },
  {
   "cell_type": "markdown",
   "metadata": {},
   "source": [
    "For this part of HW I used [tutorial on keras](https://github.com/wxs/keras-mnist-tutorial/blob/master/MNIST%20in%20Keras.ipynb)"
   ]
  }
 ],
 "metadata": {
  "kernelspec": {
   "display_name": "Python 3",
   "language": "python",
   "name": "python3"
  },
  "language_info": {
   "codemirror_mode": {
    "name": "ipython",
    "version": 3
   },
   "file_extension": ".py",
   "mimetype": "text/x-python",
   "name": "python",
   "nbconvert_exporter": "python",
   "pygments_lexer": "ipython3",
   "version": "3.5.2"
  }
 },
 "nbformat": 4,
 "nbformat_minor": 1
}
