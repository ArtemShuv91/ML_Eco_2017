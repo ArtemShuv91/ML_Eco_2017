{
 "cells": [
  {
   "cell_type": "markdown",
   "metadata": {},
   "source": [
    "# Машинное обучение, ФЭН ВШЭ\n",
    "\n",
    "__Дата выдачи: 26.11.2017__\n",
    "__Дедлайн: 15.12.2017 23:59__\n",
    "\n",
    "# Практическое задание 4\n",
    "\n",
    "\n",
    "### О задании\n",
    "\n",
    "Практическое задание 4 посвящено ансамблям, bias-variance decomposition, деревьям и нейронным сетям. Обучение нейронных сетей займет какое-то время, поэтому не оставляйте эту часть на последний день!\n",
    "\n",
    "### Оценивание и штрафы\n",
    "\n",
    "Каждая из задач имеет определенную «стоимость» (указана в скобках около задачи). Максимально допустимая оценка за работу — 10 баллов.\n",
    "\n",
    "Сдавать задание после указанного срока сдачи нельзя. При выставлении неполного балла за задание в связи с наличием ошибок на усмотрение проверяющего предусмотрена возможность исправить работу на указанных в ответном письме условиях.\n",
    "\n",
    "Задание выполняется самостоятельно. «Похожие» решения считаются плагиатом и все задействованные студенты (в том числе те, у кого списали) не могут получить за него больше 0 баллов (подробнее о плагиате см. на странице курса). Если вы нашли решение какого-то из заданий (или его часть) в открытом источнике, необходимо указать ссылку на этот источник в отдельном блоке в конце Вашей работы (скорее всего вы будете не единственным, кто это нашел, поэтому чтобы исключить подозрение в плагиате, необходима ссылка на источник). \n",
    "\n",
    "Неэффективная реализация кода может негативно отразиться на оценке.\n",
    "\n",
    "\n",
    "### Формат сдачи\n",
    "Для сдачи задания переименуйте получившийся файл \\*.ipynb в соответствии со следующим форматом: *HW4_Username.ipynb*, где *Username* — Ваша фамилия и инициалы на латинице (например, *HW4_IvanovII.ipynb*). Далее отправьте этот файл на *ml.econom.hse@gmail.com* с темой *Практика {номер задания} - номер группы по данному курсу - Фамилия Имя* "
   ]
  },
  {
   "cell_type": "markdown",
   "metadata": {},
   "source": [
    "### I. Разложение ошибки на смещение и разброс\n",
    "#### Теоретическое вступление\n",
    "На занятиях мы разбирали примеры аналитического вычисления смещения и разброса нескольких алгоритмов обучения. Для большинства моделей данных и алгоритмов обучения аналитически рассчитать математические ожидания в формулах не удастся. Однако мат. ожидания можно оценивать приближенно. Чтобы оценить математическое ожидание $\\mathbb{E}_{\\bar x} f(\\bar x)$ функции от многомерной случайной величины $\\bar x = (x_1, \\dots, x_d)$, $\\bar x \\sim p(\\bar x)$, можно сгенерировать выборку из распределения $p(\\bar x)$ и усреднить значение функции на элементах этой выборки:\n",
    "$$\\mathbb{E}_{\\bar x} f(x) = \\int f(\\bar x) p(\\bar x) d \\bar x \\approx \\frac 1 m \\sum_{i=1}^m f(\\bar x_i), \\, \\bar x_i \\sim p(\\bar x), i = 1, \\dots, m.$$\n",
    "\n",
    "Для оценки многомерных интегралов ($d > 1$) объекты лучше генерировать, следуя специальным схемам, чтобы адекватно оценивать значение интеграла в областях высокой плотности. Мы не будем так усложнять задачу, а просто будем генерировать $\\bar x_i$ независимо."
   ]
  },
  {
   "cell_type": "code",
   "execution_count": 325,
   "metadata": {
    "collapsed": true
   },
   "outputs": [],
   "source": [
    "import numpy as np\n",
    "import pandas as pd"
   ]
  },
  {
   "cell_type": "markdown",
   "metadata": {},
   "source": [
    "Например, оценим $\\mathbb{E}_x x^2,$ $x \\sim \\mathcal{N}(\\mu=5, \\sigma=3)$ (из теории вероятностей мы знаем, что\n",
    "$\\mathbb{E}_x x^2 = \\sigma^2 + \\mu^2 = 34$):"
   ]
  },
  {
   "cell_type": "code",
   "execution_count": 181,
   "metadata": {},
   "outputs": [
    {
     "data": {
      "text/plain": [
       "33.12163411176202"
      ]
     },
     "execution_count": 181,
     "metadata": {},
     "output_type": "execute_result"
    }
   ],
   "source": [
    "x = np.random.normal(loc=5, scale=3, size=1000)\n",
    "(x**2).mean()"
   ]
  },
  {
   "cell_type": "markdown",
   "metadata": {},
   "source": [
    "Или посчитаем многомерный интеграл $\\mathbb{E}_{\\bar x} \\bar x^T \\bar x = \\mathbb{E}_{\\bar x} \\sum_{i=1}^d x_i^2$, $\\bar x \\sim \\mathcal{N}(\\bar \\mu=(1, \\dots, 1), \\Sigma=I)$ при $d = 10$ (аналитический ответ 20):"
   ]
  },
  {
   "cell_type": "code",
   "execution_count": 182,
   "metadata": {},
   "outputs": [
    {
     "data": {
      "text/plain": [
       "20.139004054494094"
      ]
     },
     "execution_count": 182,
     "metadata": {},
     "output_type": "execute_result"
    }
   ],
   "source": [
    "d = 10\n",
    "X = np.random.multivariate_normal(np.ones(10), np.eye(10), size=1000)\n",
    "(X**2).sum(axis=1).mean()"
   ]
  },
  {
   "cell_type": "markdown",
   "metadata": {},
   "source": [
    "Чтобы оценить интеграл по выборке, можно сгенерировать несколько выборок, вычислить на них значение функции и усреднить. Например, для интеграла $\\mathbb{E}_X [\\mu(X)(x)]$ генерируются выборки $X_1, \\dots, X_m$, на каждой из них обучается алгоритм $\\mu$ и делается предсказание для объекта $x$."
   ]
  },
  {
   "cell_type": "markdown",
   "metadata": {},
   "source": [
    "#### Практическая часть\n",
    "#####  Построение \"среднего\" алгоритма $\\mathbb{E}_X [\\mu(X)]$\n",
    "В этом задании вам нужно построить графики, демонстрирующие, как алгоритм $\\mathbb{E}_X [\\mu(X)]$ аппроксимирует истинную зависимость в данных и как он меняется в зависимости от гиперпараметров метода обучения."
   ]
  },
  {
   "cell_type": "code",
   "execution_count": 1,
   "metadata": {
    "collapsed": true
   },
   "outputs": [],
   "source": [
    "from matplotlib import pyplot as plt\n",
    "%matplotlib inline"
   ]
  },
  {
   "cell_type": "code",
   "execution_count": 184,
   "metadata": {
    "collapsed": true
   },
   "outputs": [],
   "source": [
    "def f(x):\n",
    "    return np.sin(x)   # истинная зависимость в данных\n",
    "sample_size = 100      # длина выборки\n",
    "samples_num = 20       # количество выборок\n",
    "linspace = np.linspace(0, 7, 1000)  # точки для построения графиков"
   ]
  },
  {
   "cell_type": "markdown",
   "metadata": {},
   "source": [
    "__1 (0.6 балла)__\n",
    "1. Сгенерируйте выборку x из одномерного экспоненциального распределения (np.random.exponential) длины sample_size.\n",
    "1. Создайте вектор целевых переменных y как сумму f(x) и случайного шума, сгенерированного из равномерного распределения на отрезке [-1, 1] (np.random.uniform).\n",
    "1. Обучите DecisionTreeRegressor с параметрами по умолчанию на полученной выборке и сделайте предсказания для объектов из linspace.\n",
    "1. Постройте два графика на одном рисунке: f(x) и зависимость, восстановленную решающим деревом.\n",
    "\n",
    "    Рекомендация: не забудьте, что все методы обучения в sklearn требуют на вход двумерную матрицу объекты-признаки. Сделать такую из одномерного вектора можно добавлением мнимых осей (np.newaxis)."
   ]
  },
  {
   "cell_type": "code",
   "execution_count": 185,
   "metadata": {
    "collapsed": true
   },
   "outputs": [],
   "source": [
    "x = np.random.exponential(size = sample_size)\n",
    "noise = np.random.uniform(size = sample_size, low = -1, high = 1)\n",
    "y = f(x) + noise"
   ]
  },
  {
   "cell_type": "code",
   "execution_count": 186,
   "metadata": {
    "collapsed": true
   },
   "outputs": [],
   "source": [
    "from sklearn.tree import DecisionTreeRegressor\n"
   ]
  },
  {
   "cell_type": "code",
   "execution_count": 187,
   "metadata": {
    "collapsed": true
   },
   "outputs": [],
   "source": [
    "regressor = DecisionTreeRegressor()\n",
    "x = x[:, np.newaxis]\n",
    "regressor.fit(x,y)\n",
    "y1 = regressor.predict(linspace[:, np.newaxis])\n"
   ]
  },
  {
   "cell_type": "code",
   "execution_count": 188,
   "metadata": {},
   "outputs": [
    {
     "data": {
      "text/plain": [
       "<matplotlib.collections.PathCollection at 0x21b9119e550>"
      ]
     },
     "execution_count": 188,
     "metadata": {},
     "output_type": "execute_result"
    },
    {
     "data": {
      "image/png": "[encoded data removed]",
      "text/plain": [
       "<matplotlib.figure.Figure at 0x21b9119efd0>"
      ]
     },
     "metadata": {},
     "output_type": "display_data"
    }
   ],
   "source": [
    "plt.scatter(linspace, y1)\n",
    "plt.scatter(x, y)"
   ]
  },
  {
   "cell_type": "markdown",
   "metadata": {},
   "source": [
    "__2 (0.6 балла):__\n",
    "\n",
    "Повторите первые 3 шага, описанные выше, samples_num раз. На одном графике для каждого обученного решающего дерева визуализируйте восстановленную им зависимость (рекомендуется все такие линии рисовать полупрозрачными и серым цветом: plt.plot(...... color=\"gray\", alpha=0.5)).  На этом же графике изобразите истинную зависимость f(x) (красным цветом: color=\"red\") и усредненную по всем деревьям восстановленную зависимость (черным цветом: color=\"black\").    "
   ]
  },
  {
   "cell_type": "code",
   "execution_count": 189,
   "metadata": {},
   "outputs": [
    {
     "data": {
      "image/png": "[encoded data removed]",
      "text/plain": [
       "<matplotlib.figure.Figure at 0x21b9119e3c8>"
      ]
     },
     "metadata": {},
     "output_type": "display_data"
    }
   ],
   "source": [
    "y_mean = np.zeros(linspace.size)\n",
    "for i in range(samples_num):\n",
    "    x = np.random.exponential(size = sample_size)\n",
    "    noise = np.random.uniform(size = sample_size, low = -1, high = 1)\n",
    "    y = f(x) + noise\n",
    "    regressor = DecisionTreeRegressor()\n",
    "    x = x[:, np.newaxis]\n",
    "    regressor.fit(x,y)\n",
    "    y1 = regressor.predict(linspace[:, np.newaxis])\n",
    "    y_mean = y_mean + y1\n",
    "    plt.scatter(linspace, y1, color=\"gray\", alpha=0.5)\n",
    "\n",
    "y_mean = y_mean / samples_num\n",
    "plt.scatter(linspace, y_mean, color=\"black\")\n",
    "plt.scatter(linspace, f(linspace), color=\"red\")\n",
    "plt.show()"
   ]
  },
  {
   "cell_type": "markdown",
   "metadata": {},
   "source": [
    "__3 (0.2 балла):__\n",
    "Повторите предыдущий пункт, установив максимальную глубину решающего дерева равной 2, а затем равной 4. Таким образом, у вас получится еще два графика."
   ]
  },
  {
   "cell_type": "code",
   "execution_count": 190,
   "metadata": {},
   "outputs": [
    {
     "data": {
      "image/png": "[encoded data removed]",
      "text/plain": [
       "<matplotlib.figure.Figure at 0x21b937b4048>"
      ]
     },
     "metadata": {},
     "output_type": "display_data"
    },
    {
     "data": {
      "image/png": "[encoded data removed]",
      "text/plain": [
       "<matplotlib.figure.Figure at 0x21b9072fa90>"
      ]
     },
     "metadata": {},
     "output_type": "display_data"
    }
   ],
   "source": [
    "for md in [2,4]:\n",
    "    y_mean = np.zeros(linspace.size)\n",
    "    for i in range(samples_num):\n",
    "        x = np.random.exponential(size = sample_size)\n",
    "        noise = np.random.uniform(size = sample_size, low = -1, high = 1)\n",
    "        y = f(x) + noise\n",
    "        regressor = DecisionTreeRegressor(max_depth = md)\n",
    "        x = x[:, np.newaxis]\n",
    "        regressor.fit(x,y)\n",
    "        y1 = regressor.predict(linspace[:, np.newaxis])\n",
    "        y_mean = y_mean + y1\n",
    "        plt.scatter(linspace, y1, color=\"gray\", alpha=0.5)\n",
    "    \n",
    "    y_mean = y_mean / samples_num\n",
    "    plt.scatter(linspace, y_mean, color=\"black\")\n",
    "    plt.scatter(linspace, f(linspace), color=\"red\")\n",
    "    plt.title('max_depth = '+str(md))\n",
    "    plt.show()\n"
   ]
  },
  {
   "cell_type": "markdown",
   "metadata": {},
   "source": [
    "__4 (0.6 балла)__ Что можно сказать о смещении решающих деревьев, исходя из проведенного эксперимента? В каких из трех рассмотренных случаев (без ограничения на глубину дерева и с ограничением 2 и 4) можно утверждать, что смещение решающего дерева близко к нулю?"
   ]
  },
  {
   "cell_type": "markdown",
   "metadata": {},
   "source": [
    "самое большое смещение при глубине = 2, а самое маленькое - в случае без ограничения на глубину дерева. Также из графиков видно, что чем меньше разброс, тем меньше смещение."
   ]
  },
  {
   "cell_type": "markdown",
   "metadata": {},
   "source": [
    "__5 (1 балл)__\n",
    "Проделайте тот же эксперимент с линейной регрессией и SVM с rbf ядром и параматрами $\\gamma = 1$, $\\gamma = 100$. Какие выводы можно сделать?"
   ]
  },
  {
   "cell_type": "code",
   "execution_count": 191,
   "metadata": {},
   "outputs": [
    {
     "data": {
      "image/png": "[encoded data removed]",
      "text/plain": [
       "<matplotlib.figure.Figure at 0x21b9092d160>"
      ]
     },
     "metadata": {},
     "output_type": "display_data"
    },
    {
     "data": {
      "image/png": "[encoded data removed]",
      "text/plain": [
       "<matplotlib.figure.Figure at 0x21b91271a20>"
      ]
     },
     "metadata": {},
     "output_type": "display_data"
    },
    {
     "data": {
      "image/png": "[encoded data removed]",
      "text/plain": [
       "<matplotlib.figure.Figure at 0x21b915dcda0>"
      ]
     },
     "metadata": {},
     "output_type": "display_data"
    }
   ],
   "source": [
    "from sklearn.linear_model import LinearRegression\n",
    "\n",
    "y_mean = np.zeros(linspace.size)\n",
    "for i in range(samples_num):\n",
    "    x = np.random.exponential(size = sample_size)\n",
    "    noise = np.random.uniform(size = sample_size, low = -1, high = 1)\n",
    "    y = f(x) + noise\n",
    "    regressor = LinearRegression()\n",
    "    x = x[:, np.newaxis]\n",
    "    regressor.fit(x,y)\n",
    "    y1 = regressor.predict(linspace[:, np.newaxis])\n",
    "    y_mean = y_mean + y1\n",
    "    plt.scatter(linspace, y1, color=\"gray\", alpha=0.5)\n",
    "\n",
    "y_mean = y_mean / samples_num\n",
    "plt.scatter(linspace, y_mean, color=\"black\")\n",
    "plt.scatter(linspace, f(linspace), color=\"red\")\n",
    "plt.title('Linear Regression')\n",
    "plt.show()\n",
    "\n",
    "from sklearn.linear_model import LinearRegression\n",
    "\n",
    "for md in [1, 100]:\n",
    "    y_mean = np.zeros(linspace.size)\n",
    "    for i in range(samples_num):\n",
    "        x = np.random.exponential(size = sample_size)\n",
    "        noise = np.random.uniform(size = sample_size, low = -1, high = 1)\n",
    "        y = f(x) + noise\n",
    "        regressor = DecisionTreeRegressor(max_depth = md)\n",
    "        x = x[:, np.newaxis]\n",
    "        regressor.fit(x,y)\n",
    "        y1 = regressor.predict(linspace[:, np.newaxis])\n",
    "        y_mean = y_mean + y1\n",
    "        plt.scatter(linspace, y1, color=\"gray\", alpha=0.5)\n",
    "    \n",
    "    y_mean = y_mean / samples_num\n",
    "    plt.scatter(linspace, y_mean, color=\"black\")\n",
    "    plt.scatter(linspace, f(linspace), color=\"red\")\n",
    "    plt.title('SVR, gamma = '+str(md))\n",
    "    plt.show()\n"
   ]
  },
  {
   "cell_type": "markdown",
   "metadata": {},
   "source": [
    "линейная модель, как и ожидалось, выдала линейную аппроксимацию f c очень большим смещением, при SVM смещение тем меньше, чем меньше гамма."
   ]
  },
  {
   "cell_type": "markdown",
   "metadata": {},
   "source": [
    "### II. Решающие деревья"
   ]
  },
  {
   "cell_type": "markdown",
   "metadata": {},
   "source": [
    "__5 (1 балл)__\n",
    "\n",
    "Загрузите следующие наборы данных (напомним, что pandas умеет загружать файлы по url, в нашем случае это файл \\*.data), предварительно ознакомившись с описанием признаков и целевой переменной в каждом из них (она записаны в Data Folder, в файле *.names): \n",
    "* [mushrooms](https://archive.ics.uci.edu/ml/datasets/Mushroom) (загрузили в предыдущем пункте, классы записаны в нулевом столбце),\n",
    "* [tic-rac-toe](https://archive.ics.uci.edu/ml/datasets/Tic-Tac-Toe+Endgame) (классы записаны в последнем столбце)\n",
    "* [cars](https://archive.ics.uci.edu/ml/datasets/Car+Evaluation) (классы записаны в последнем столбце, считаем что unacc, acc - это класс 0, good, vgood - класс 1)\n",
    "* [nursery](https://archive.ics.uci.edu/ml/datasets/Nursery) (классы записаны в последнем столбце, считаем, что not_recom и recommend - класс 0, very_recom, priority, spec_prior - класс 1).\n",
    "\n",
    "Закодируйте категориальные признаки, использовав LabelEncoder. С помощью cross_val_score (cv=10) оцените accuracy на каждом из этих наборов данных следующих алгоритмов:\n",
    "* DecisionTreeClassifier, считающий все признаки вещественными\n",
    "* DecisionTreeClassfier, считающий все признаки категориальными\n",
    "* DecisionTreeClassifier, c корректным разбиением на категориальные и вещественные признаки.\n",
    "\n",
    "Рекомендации:\n",
    "* Чтобы cross_val_score вычисляла точность, нужно передать scoring=make_scorer(accuracy_score), обе фукнции из sklearn.metrics."
   ]
  },
  {
   "cell_type": "code",
   "execution_count": 324,
   "metadata": {
    "collapsed": true
   },
   "outputs": [],
   "source": [
    "from sklearn.preprocessing import LabelEncoder, OneHotEncoder\n",
    "from sklearn.model_selection import cross_val_score\n",
    "from sklearn.tree import DecisionTreeClassifier\n",
    "from sklearn.metrics import accuracy_score\n",
    "from sklearn.metrics import make_scorer"
   ]
  },
  {
   "cell_type": "code",
   "execution_count": 193,
   "metadata": {
    "collapsed": true
   },
   "outputs": [],
   "source": [
    "class MultiColumnLabelEncoder:\n",
    "    def __init__(self,columns = None):\n",
    "        self.columns = columns # array of column names to encode\n",
    "\n",
    "    def fit(self,X,y=None):\n",
    "        return self # not relevant here\n",
    "\n",
    "    def transform(self,X):\n",
    "        '''\n",
    "        Transforms columns of X specified in self.columns using\n",
    "        LabelEncoder(). If no columns specified, transforms all\n",
    "        columns in X.\n",
    "        '''\n",
    "        output = X.copy()\n",
    "        if self.columns is not None:\n",
    "            for col in self.columns:\n",
    "                output[col] = LabelEncoder().fit_transform(output[col])\n",
    "        else:\n",
    "            for colname,col in output.iteritems():\n",
    "                output[colname] = LabelEncoder().fit_transform(col)\n",
    "        return output\n",
    "\n",
    "    def fit_transform(self,X,y=None):\n",
    "        return self.fit(X,y).transform(X)"
   ]
  },
  {
   "cell_type": "markdown",
   "metadata": {},
   "source": [
    "https://stackoverflow.com/questions/24458645/label-encoding-across-multiple-columns-in-scikit-learn"
   ]
  },
  {
   "cell_type": "code",
   "execution_count": 178,
   "metadata": {
    "collapsed": true
   },
   "outputs": [],
   "source": [
    "mle = MultiColumnLabelEncoder()\n",
    "le = LabelEncoder()\n",
    "ohe = OneHotEncoder()"
   ]
  },
  {
   "cell_type": "code",
   "execution_count": 195,
   "metadata": {},
   "outputs": [
    {
     "name": "stdout",
     "output_type": "stream",
     "text": [
      "all real score = 0.958277103116\n",
      "all categorial score = 0.968388683887\n",
      "correct real and categorial score = 0.968388683887\n"
     ]
    }
   ],
   "source": [
    "mushrooms = pd.read_csv(\"agaricus-lepiota.data\")\n",
    "y = le.fit_transform(mushrooms['p'])\n",
    "X = mle.fit_transform(mushrooms.drop('p', axis = 1))\n",
    "\n",
    "print(\"all real score = \"+str(np.mean(cross_val_score(DecisionTreeClassifier(), X, y,\n",
    "                                      scoring=make_scorer(accuracy_score), cv=10))))\n",
    "print(\"all categorial score = \"+str(np.mean(cross_val_score(DecisionTreeClassifier(), ohe.fit_transform(X), y,\n",
    "                                      scoring=make_scorer(accuracy_score), cv=10))))\n",
    "print(\"correct real and categorial score = \"+str(np.mean(cross_val_score(DecisionTreeClassifier(), ohe.fit_transform(X), y,\n",
    "                                      scoring=make_scorer(accuracy_score), cv=10))))\n"
   ]
  },
  {
   "cell_type": "code",
   "execution_count": 196,
   "metadata": {},
   "outputs": [
    {
     "name": "stdout",
     "output_type": "stream",
     "text": [
      "all real score = 0.731373327003\n",
      "all categorial score = 0.807940970338\n",
      "correct real and categorial score = 0.818510693615\n"
     ]
    }
   ],
   "source": [
    "tic_tac_toe = pd.read_csv(\"tic-tac-toe.data\")\n",
    "y = le.fit_transform(tic_tac_toe['positive'])\n",
    "X = mle.fit_transform(tic_tac_toe.drop('positive', axis = 1))\n",
    "print(\"all real score = \"+str(np.mean(cross_val_score(DecisionTreeClassifier(), X, y,\n",
    "                                      scoring=make_scorer(accuracy_score), cv=10))))\n",
    "print(\"all categorial score = \"+str(np.mean(cross_val_score(DecisionTreeClassifier(), ohe.fit_transform(X), y,\n",
    "                                      scoring=make_scorer(accuracy_score), cv=10))))\n",
    "print(\"correct real and categorial score = \"+str(np.mean(cross_val_score(DecisionTreeClassifier(), ohe.fit_transform(X), y,\n",
    "                                      scoring=make_scorer(accuracy_score), cv=10))))"
   ]
  },
  {
   "cell_type": "code",
   "execution_count": 197,
   "metadata": {},
   "outputs": [
    {
     "name": "stdout",
     "output_type": "stream",
     "text": [
      "all real score = 0.940373659789\n",
      "all categorial score = 0.830403063692\n",
      "correct real and categorial score = 0.940373659789\n"
     ]
    }
   ],
   "source": [
    "car = pd.read_csv(\"car.data\")\n",
    "\n",
    "def cl(a):\n",
    "    if (a == 'unacc'):\n",
    "        return 0\n",
    "    elif (a == 'acc'):\n",
    "        return 0\n",
    "    elif (a == 'good'):\n",
    "        return 1\n",
    "    elif (a == 'vgood'):\n",
    "        return 1\n",
    "\n",
    "vcl = np.vectorize(cl)\n",
    "    \n",
    "y = le.fit_transform(vcl(np.array(car['unacc'])))\n",
    "X = mle.fit_transform(car.drop('unacc', axis = 1))\n",
    "print(\"all real score = \"+str(np.mean(cross_val_score(DecisionTreeClassifier(), X, y,\n",
    "                                      scoring=make_scorer(accuracy_score), cv=10))))\n",
    "print(\"all categorial score = \"+str(np.mean(cross_val_score(DecisionTreeClassifier(), ohe.fit_transform(X), y,\n",
    "                                      scoring=make_scorer(accuracy_score), cv=10))))\n",
    "print(\"correct real and categorial score = \"+str(np.mean(cross_val_score(DecisionTreeClassifier(), X, y,\n",
    "                                      scoring=make_scorer(accuracy_score), cv=10))))"
   ]
  },
  {
   "cell_type": "code",
   "execution_count": 198,
   "metadata": {},
   "outputs": [
    {
     "name": "stdout",
     "output_type": "stream",
     "text": [
      "all real score = 0.999845738504\n",
      "all categorial score = 0.999845738504\n",
      "correct real and categorial score = 0.999845738504\n"
     ]
    }
   ],
   "source": [
    "nursery = pd.read_csv(\"nursery.data\")\n",
    "\n",
    "def cl1(a):\n",
    "    if (a == 'not_recom'):\n",
    "        return 0\n",
    "    elif (a == 'recommend'):\n",
    "        return 0\n",
    "    elif (a == 'very_recom'):\n",
    "        return 1\n",
    "    elif (a == 'priority'):\n",
    "        return 1\n",
    "    elif (a == 'spec_prior'):\n",
    "        return 1\n",
    "\n",
    "vcl1 = np.vectorize(cl1)\n",
    "\n",
    "y = le.fit_transform(vcl1(np.array(nursery['recommend'])))\n",
    "X = mle.fit_transform(nursery.drop('recommend', axis = 1))\n",
    "print(\"all real score = \"+str(np.mean(cross_val_score(DecisionTreeClassifier(), X, y,\n",
    "                                      scoring=make_scorer(accuracy_score), cv=10))))\n",
    "print(\"all categorial score = \"+str(np.mean(cross_val_score(DecisionTreeClassifier(), ohe.fit_transform(X), y,\n",
    "                                      scoring=make_scorer(accuracy_score), cv=10))))\n",
    "print(\"correct real and categorial score = \"+str(np.mean(cross_val_score(DecisionTreeClassifier(), X, y,\n",
    "                                      scoring=make_scorer(accuracy_score), cv=10))))"
   ]
  },
  {
   "cell_type": "markdown",
   "metadata": {},
   "source": [
    "__6 (0.5 балла)__\n",
    "\n",
    "Проанализируйте результаты эксперимента. \n",
    "Одинаково ли для разных наборов данных ранжируются алгоритмы? \n",
    "Порассуждайте, почему так происходит. \n",
    "\n",
    "Обратите внимание на значение признаков в разных наборах данных. \n",
    "Присутствует ли в результатах какая-то компонента случайности? \n",
    "Можно ли повлиять на нее и улушить работу алгоритмов?"
   ]
  },
  {
   "cell_type": "markdown",
   "metadata": {},
   "source": [
    "на разных датасетах алгоритмы ранжируются по-разному, т.к. из-за кодирования вешественных признаков категориальным образом приводит к увеличению количества признаков сверх меры => в адекватном решающем дереве должно быть очень много условий (чтобы задать условие x>2, надо написать i_3>0.5 and i_4>0.5 and etc.), плэтому, если ветвлений в дереве мало, то алгоритм будет недообучен, а если ветвлений много, то очень вероятно переобучение. Кодирование категориальных признаков вещественными тоже вредно, т.к. вместо того, чтобы задать условие (машина красная > 0.5), надо задавать (цвет >5.5 and цвет <6.5), поэтому тоже возникает необходимость увеличения количества ветвлений => перебучение.\n",
    "\n",
    "Если один и тот же алгоритм запустить 2 раза, то результаты будут немного различаться, т.к. в самом алгоритме используется генератор случайных чисел. Поэтому усреднение нескольких деревьев может убрать этот шум."
   ]
  },
  {
   "cell_type": "markdown",
   "metadata": {
    "collapsed": true
   },
   "source": [
    "### III. Композиции деревьев\n",
    "#### Сравнение композиционных методов над решающими деревьями\n",
    "__7 (1 балл)__\n",
    "\n",
    "Выполните следующие шаги:\n",
    "1. Загрузите датасет [winequality-red.csv](https://archive.ics.uci.edu/ml/machine-learning-databases/wine-quality/winequality-red.csv) в датафрейм. Последний столбец - целевая переменная (содержит классы).\n",
    "1. С помощью cross_val_score с cv=3 оцените качество (accuracy) следующих классификаторов:\n",
    "    * DecisionTreeClassifier\n",
    "    * BaggingClassifier со 100 деревьями\n",
    "    * BaggingClassifier со 100 деревьями; каждое дерево обучается только по половине случайно выбранных признаков (см. параметры метода)\n",
    "    * RandomForestClassifier со 100 деревьями\n",
    "    \n",
    "Значение получается шумное, но в целом у вас должно получиться, что качество возрастает с каждым следующим алгоритмом. Этот пример демонстрирует, что RandomForest - это более сложный алгоритм, чем бэггинг и бэггинг со случайными подпространствами. "
   ]
  },
  {
   "cell_type": "code",
   "execution_count": 199,
   "metadata": {
    "collapsed": true
   },
   "outputs": [],
   "source": [
    "from sklearn.ensemble import BaggingClassifier, RandomForestClassifier"
   ]
  },
  {
   "cell_type": "code",
   "execution_count": 200,
   "metadata": {},
   "outputs": [
    {
     "name": "stdout",
     "output_type": "stream",
     "text": [
      "DecisionTreeClassifier score = 0.441549042231\n",
      "BaggingClassifier score = 0.562927343961\n",
      "BaggingClassifier score (max_samples=0.5) = 0.574824009272\n",
      "RandomForestClassifier score = 0.574175116026\n"
     ]
    }
   ],
   "source": [
    "df = pd.read_csv(\"winequality-red.csv\", sep = ';')\n",
    "y = np.array(df['quality'])\n",
    "X = np.array(df.drop('quality', axis = 1))\n",
    "print(\"DecisionTreeClassifier score = \"+str(np.mean(cross_val_score(DecisionTreeClassifier(), X, y,\n",
    "                                      scoring=make_scorer(accuracy_score), cv=3))))\n",
    "print(\"BaggingClassifier score = \"+str(np.mean(cross_val_score(BaggingClassifier(n_estimators = 100), X, y,\n",
    "                                      scoring=make_scorer(accuracy_score), cv=3))))\n",
    "print(\"BaggingClassifier score (max_samples=0.5) = \"+str(np.mean(cross_val_score(BaggingClassifier(n_estimators = 100, max_samples = 0.5), X, y,\n",
    "                                      scoring=make_scorer(accuracy_score), cv=3))))\n",
    "print(\"RandomForestClassifier score = \"+str(np.mean(cross_val_score(RandomForestClassifier(n_estimators = 100, max_depth = 4), X, y,\n",
    "                                      scoring=make_scorer(accuracy_score), cv=3))))"
   ]
  },
  {
   "cell_type": "markdown",
   "metadata": {},
   "source": [
    "#### Число деревьев в случайном лесе\n",
    "В этой задаче мы рассмотрим, переобучаются ли композиционные алгоритмы с увеличением числа деревьев.\n",
    "\n",
    "__8 (1 балл)__\n",
    "\n",
    "Продолжим работать с набором данных [winequality-red.csv](https://archive.ics.uci.edu/ml/machine-learning-databases/wine-quality/winequality-red.csv). Разделите выборку на обучение и контроль с пропорции 7:3, предварительно перемешав объекты. Переберите значения от 100 до 5000 деревьев с шагом 100, посчитайте accuracy на тестовой выборке для каждого числа деревьев и постройте график зависимости качества от числа деревьев.\n",
    "\n",
    "Рекомендация.\n",
    "\n",
    "Если каждый раз обучать RandomForest с нуля, придётся обучить в общей сумме $100 + 200 + \\ldots + 5000$ деревьев.\n",
    "Однако, как мы знаем, деревья в случайных лесах строятся независимо и параллельно, поэтому можно обучить всего 5000 деревьев.\n",
    "\n",
    "Для этого в при создании объекта класса RandomForestClassifier нужно указать в том числе warm_start=True. Затем обучить алгоритм с помощью метода fit, использовать метод predict для классификации. После этого с помощью метода set_params изменить параметр n_estimators. Если к полученному объекту применить метод fit, внутри него будет обучаться только недостающее число деревьев.\n",
    "\n",
    "Переобучается ли случайный лес с увеличением числа деревьев?"
   ]
  },
  {
   "cell_type": "code",
   "execution_count": 194,
   "metadata": {},
   "outputs": [
    {
     "data": {
      "text/plain": [
       "[<matplotlib.lines.Line2D at 0x28fd9a8e630>]"
      ]
     },
     "execution_count": 194,
     "metadata": {},
     "output_type": "execute_result"
    },
    {
     "data": {
      "image/png": "[encoded data removed]",
      "text/plain": [
       "<matplotlib.figure.Figure at 0x28fd9637278>"
      ]
     },
     "metadata": {},
     "output_type": "display_data"
    }
   ],
   "source": [
    "from sklearn.model_selection import train_test_split\n",
    "\n",
    "df = pd.read_csv(\"winequality-red.csv\", sep = ';')\n",
    "y = np.array(df['quality'])\n",
    "X = np.array(df.drop('quality', axis = 1))\n",
    "train_X, test_X, train_Y, test_Y = train_test_split(X, y, test_size=0.3) \n",
    "\n",
    "regressor = RandomForestClassifier(warm_start=True)\n",
    "\n",
    "ac_arr = []\n",
    "for i1 in range(50):\n",
    "    i = i1*100+100\n",
    "    regressor.set_params(n_estimators = i)\n",
    "    regressor.fit(train_X, train_Y)\n",
    "    ac_arr.append(accuracy_score(test_Y,regressor.predict(test_X)))\n",
    "\n",
    "plt.plot(ac_arr)"
   ]
  },
  {
   "cell_type": "markdown",
   "metadata": {},
   "source": [
    "нет, лес не  переобучается с увеличением числа деревьев"
   ]
  },
  {
   "cell_type": "markdown",
   "metadata": {},
   "source": [
    "### IV. Нейронные сети\n",
    "\n",
    "*На обучение нейросетей может уйти больше часа, не откладывайте этот пункт на последний день*."
   ]
  },
  {
   "cell_type": "markdown",
   "metadata": {},
   "source": [
    "__9 (1 балл)__"
   ]
  },
  {
   "cell_type": "code",
   "execution_count": 2,
   "metadata": {},
   "outputs": [
    {
     "name": "stderr",
     "output_type": "stream",
     "text": [
      "Using TensorFlow backend.\n"
     ]
    },
    {
     "data": {
      "text/plain": [
       "<matplotlib.image.AxesImage at 0x29acd979c18>"
      ]
     },
     "execution_count": 2,
     "metadata": {},
     "output_type": "execute_result"
    },
    {
     "data": {
      "image/png": "[encoded data removed]",
      "text/plain": [
       "<matplotlib.figure.Figure at 0x29ac3fc9cc0>"
      ]
     },
     "metadata": {},
     "output_type": "display_data"
    }
   ],
   "source": [
    "from keras.datasets import mnist\n",
    "import keras as keras\n",
    "(x_train, y_train), (x_test, y_test) = mnist.load_data()\n",
    "plt.imshow(x_train[0])"
   ]
  },
  {
   "cell_type": "markdown",
   "metadata": {},
   "source": [
    "В этом задании вам предстоит обучить нейронную сеть на датасете [MNIST](https://en.wikipedia.org/wiki/MNIST_database) с помощью пакета [keras](https://keras.io)."
   ]
  },
  {
   "cell_type": "markdown",
   "metadata": {},
   "source": [
    "Обучите нейронную сеть с двумя скрытыми слоями в каждой из которых поместите по 100 нейронов. Какого качества удается добиться на тесте?"
   ]
  },
  {
   "cell_type": "code",
   "execution_count": 327,
   "metadata": {
    "collapsed": true
   },
   "outputs": [],
   "source": [
    "from keras.models import Sequential\n",
    "from keras.layers.convolutional import Convolution2D, MaxPooling2D, ZeroPadding2D\n",
    "from keras.layers import Flatten, Dense"
   ]
  },
  {
   "cell_type": "code",
   "execution_count": 328,
   "metadata": {
    "collapsed": true
   },
   "outputs": [],
   "source": [
    "ohe = OneHotEncoder()\n",
    "\n",
    "x_train = x_train.reshape(60000,784)\n",
    "x_test = x_test.reshape(10000,784)\n",
    "\n",
    "y_test = y_test.astype(\"float32\")\n",
    "y_train = y_train.astype(\"float32\")\n",
    "\n",
    "y_train = keras.utils.to_categorical(y_train, num_classes=None)\n",
    "y_test = keras.utils.to_categorical(y_test, num_classes=None)"
   ]
  },
  {
   "cell_type": "code",
   "execution_count": 329,
   "metadata": {},
   "outputs": [
    {
     "name": "stderr",
     "output_type": "stream",
     "text": [
      "C:\\Users\\agapo\\Anaconda3\\lib\\site-packages\\ipykernel_launcher.py:2: UserWarning: Update your `Dense` call to the Keras 2 API: `Dense(input_dim=784, activation=\"relu\", units=100)`\n",
      "  \n",
      "C:\\Users\\agapo\\Anaconda3\\lib\\site-packages\\ipykernel_launcher.py:3: UserWarning: Update your `Dense` call to the Keras 2 API: `Dense(input_dim=100, activation=\"relu\", units=100)`\n",
      "  This is separate from the ipykernel package so we can avoid doing imports until\n",
      "C:\\Users\\agapo\\Anaconda3\\lib\\site-packages\\ipykernel_launcher.py:4: UserWarning: Update your `Dense` call to the Keras 2 API: `Dense(input_dim=100, activation=\"softmax\", units=10)`\n",
      "  after removing the cwd from sys.path.\n"
     ]
    }
   ],
   "source": [
    "model = Sequential()\n",
    "model.add(Dense(output_dim=100, input_dim = 784, activation = 'relu'))\n",
    "model.add(Dense(output_dim=100, input_dim = 100, activation = 'relu'))\n",
    "model.add(Dense(output_dim=10, input_dim = 100, activation = 'softmax'))\n",
    "model.compile(loss='binary_crossentropy',\n",
    "              optimizer='adam',\n",
    "              metrics=['accuracy'])"
   ]
  },
  {
   "cell_type": "code",
   "execution_count": 330,
   "metadata": {},
   "outputs": [
    {
     "name": "stdout",
     "output_type": "stream",
     "text": [
      "Epoch 1/10\n",
      "60000/60000 [==============================] - 10s - loss: 1.1713 - acc: 0.9237    \n",
      "Epoch 2/10\n",
      "60000/60000 [==============================] - 10s - loss: 0.6092 - acc: 0.9604    \n",
      "Epoch 3/10\n",
      "60000/60000 [==============================] - 9s - loss: 0.5641 - acc: 0.9636     \n",
      "Epoch 4/10\n",
      "60000/60000 [==============================] - 9s - loss: 0.5620 - acc: 0.9640     \n",
      "Epoch 5/10\n",
      "60000/60000 [==============================] - 9s - loss: 0.3489 - acc: 0.9775     \n",
      "Epoch 6/10\n",
      "60000/60000 [==============================] - 10s - loss: 0.3218 - acc: 0.9793    \n",
      "Epoch 7/10\n",
      "60000/60000 [==============================] - 11s - loss: 0.3043 - acc: 0.9806    \n",
      "Epoch 8/10\n",
      "60000/60000 [==============================] - 9s - loss: 0.3277 - acc: 0.9791     \n",
      "Epoch 9/10\n",
      "60000/60000 [==============================] - 9s - loss: 0.2958 - acc: 0.9812     \n",
      "Epoch 10/10\n",
      "60000/60000 [==============================] - 9s - loss: 0.3020 - acc: 0.9809     \n"
     ]
    },
    {
     "data": {
      "text/plain": [
       "<keras.callbacks.History at 0x21bb0f5c3c8>"
      ]
     },
     "execution_count": 330,
     "metadata": {},
     "output_type": "execute_result"
    }
   ],
   "source": [
    "model.fit(x=x_train, y=y_train)"
   ]
  },
  {
   "cell_type": "code",
   "execution_count": 331,
   "metadata": {},
   "outputs": [
    {
     "name": "stdout",
     "output_type": "stream",
     "text": [
      "accuracy = 0.915416938832\n"
     ]
    }
   ],
   "source": [
    "y_pred = model.predict(x_test)\n",
    "print('accuracy = '+str((y_pred*y_test).sum()/y_test.shape[0]))"
   ]
  },
  {
   "cell_type": "markdown",
   "metadata": {},
   "source": [
    "__10 (2 балл)__\n",
    "Добавьте сверточные и pooling слои (вы можете также убрать Dense слои), добейтесь большего качества. Для успешного выполнения задания получите accuracy больше 0.99 на тестовой выборке. \n",
    "\n",
    "Рекомендации: после сверточных слоев наиболее эффективно добавлять MaxPooling слои, в конце перед последним слоем поставьте Dense слои с достаточно большим количеством нейронов. Подвигайте количество слоев, learning rate, функции активации."
   ]
  },
  {
   "cell_type": "code",
   "execution_count": 332,
   "metadata": {
    "collapsed": true
   },
   "outputs": [],
   "source": [
    "(x_train, y_train), (x_test, y_test) = mnist.load_data()\n",
    "\n",
    "ohe = OneHotEncoder()\n",
    "\n",
    "x_train = x_train[:,:,:,np.newaxis]\n",
    "x_test = x_test[:,:,:,np.newaxis]\n",
    "\n",
    "x_train = x_train.astype('float32')/255\n",
    "x_test = x_test.astype('float32')/255\n",
    "\n",
    "y_test = y_test.astype(int)\n",
    "y_train = y_train.astype(int)\n",
    "\n",
    "y_train = keras.utils.to_categorical(y_train, num_classes=None)\n",
    "y_test = keras.utils.to_categorical(y_test, num_classes=None)"
   ]
  },
  {
   "cell_type": "code",
   "execution_count": 334,
   "metadata": {},
   "outputs": [
    {
     "name": "stdout",
     "output_type": "stream",
     "text": [
      "_________________________________________________________________\n",
      "Layer (type)                 Output Shape              Param #   \n",
      "=================================================================\n",
      "zero_padding2d_70 (ZeroPaddi (None, 30, 30, 1)         0         \n",
      "_________________________________________________________________\n",
      "conv2d_64 (Conv2D)           (None, 26, 26, 70)        1820      \n",
      "_________________________________________________________________\n",
      "max_pooling2d_31 (MaxPooling (None, 13, 13, 70)        0         \n",
      "_________________________________________________________________\n",
      "zero_padding2d_71 (ZeroPaddi (None, 15, 15, 70)        0         \n",
      "_________________________________________________________________\n",
      "conv2d_65 (Conv2D)           (None, 11, 11, 80)        140080    \n",
      "_________________________________________________________________\n",
      "max_pooling2d_32 (MaxPooling (None, 5, 5, 80)          0         \n",
      "_________________________________________________________________\n",
      "flatten_38 (Flatten)         (None, 2000)              0         \n",
      "_________________________________________________________________\n",
      "dense_95 (Dense)             (None, 500)               1000500   \n",
      "_________________________________________________________________\n",
      "dense_96 (Dense)             (None, 100)               50100     \n",
      "_________________________________________________________________\n",
      "dense_97 (Dense)             (None, 10)                1010      \n",
      "=================================================================\n",
      "Total params: 1,193,510\n",
      "Trainable params: 1,193,510\n",
      "Non-trainable params: 0\n",
      "_________________________________________________________________\n"
     ]
    }
   ],
   "source": [
    "from keras.models import Sequential\n",
    "from keras.layers.convolutional import Convolution2D, MaxPooling2D, ZeroPadding2D\n",
    "from keras.layers import Flatten, Dense, MaxPooling2D, Dropout\n",
    "\n",
    "model = Sequential()\n",
    "\n",
    "\n",
    "model.add(ZeroPadding2D((1,1),input_shape=(28, 28, 1)))\n",
    "model.add(Convolution2D(filters=70, kernel_size=(5,5), data_format='channels_last', activation = 'relu'))\n",
    "model.add(MaxPooling2D(pool_size=(2, 2)))\n",
    "\n",
    "model.add(ZeroPadding2D((1,1)))\n",
    "model.add(Convolution2D(filters=80, kernel_size=(5,5), activation = 'relu'))\n",
    "model.add(MaxPooling2D(pool_size=(2, 2)))\n",
    "\n",
    "model.add(Flatten())\n",
    "\n",
    "model.add(Dense(500, activation = 'relu'))\n",
    "model.add(Dense(100, activation = 'relu'))\n",
    "\n",
    "model.add(Dense(10, activation='softmax'))\n",
    "\n",
    "model.summary()"
   ]
  },
  {
   "cell_type": "code",
   "execution_count": 335,
   "metadata": {
    "collapsed": true
   },
   "outputs": [],
   "source": [
    "model.compile(loss='binary_crossentropy',\n",
    "              optimizer='adam',\n",
    "              metrics=['accuracy'])"
   ]
  },
  {
   "cell_type": "code",
   "execution_count": 336,
   "metadata": {},
   "outputs": [
    {
     "name": "stderr",
     "output_type": "stream",
     "text": [
      "C:\\Users\\agapo\\Anaconda3\\lib\\site-packages\\keras\\models.py:848: UserWarning: The `nb_epoch` argument in `fit` has been renamed `epochs`.\n",
      "  warnings.warn('The `nb_epoch` argument in `fit` '\n"
     ]
    },
    {
     "name": "stdout",
     "output_type": "stream",
     "text": [
      "Epoch 1/10\n",
      "60000/60000 [==============================] - 481s - loss: 0.0190 - acc: 0.9935   \n",
      "Epoch 2/10\n",
      "60000/60000 [==============================] - 470s - loss: 0.0076 - acc: 0.9976   \n",
      "Epoch 3/10\n",
      "60000/60000 [==============================] - 478s - loss: 0.0055 - acc: 0.9983   \n",
      "Epoch 4/10\n",
      "60000/60000 [==============================] - 493s - loss: 0.0042 - acc: 0.9986   \n",
      "Epoch 5/10\n",
      "60000/60000 [==============================] - 486s - loss: 0.0035 - acc: 0.9989   \n",
      "Epoch 6/10\n",
      "60000/60000 [==============================] - 477s - loss: 0.0027 - acc: 0.9991   \n",
      "Epoch 7/10\n",
      "60000/60000 [==============================] - 473s - loss: 0.0025 - acc: 0.9992   \n",
      "Epoch 8/10\n",
      "60000/60000 [==============================] - 483s - loss: 0.0023 - acc: 0.9993   \n",
      "Epoch 9/10\n",
      "60000/60000 [==============================] - 488s - loss: 0.0019 - acc: 0.9995   \n",
      "Epoch 10/10\n",
      "60000/60000 [==============================] - 532s - loss: 0.0017 - acc: 0.9995   \n"
     ]
    },
    {
     "data": {
      "text/plain": [
       "<keras.callbacks.History at 0x21bb0f5cd68>"
      ]
     },
     "execution_count": 336,
     "metadata": {},
     "output_type": "execute_result"
    }
   ],
   "source": [
    "model.fit(x=x_train, y=y_train, nb_epoch = 10)"
   ]
  },
  {
   "cell_type": "code",
   "execution_count": 337,
   "metadata": {},
   "outputs": [
    {
     "name": "stdout",
     "output_type": "stream",
     "text": [
      "accuracy = 0.990824109336\n"
     ]
    }
   ],
   "source": [
    "y_pred = model.predict(x_test)\n",
    "print('accuracy = '+str((y_pred*y_test).sum()/y_test.shape[0]))"
   ]
  },
  {
   "cell_type": "markdown",
   "metadata": {},
   "source": [
    "__11 (1 балл)__\n",
    "Добавьте 1 или 2 dropout слоя внутрь сети предыдущего шага. Удается ли добиться большего качества? Что происходит с процессом обучения? "
   ]
  },
  {
   "cell_type": "code",
   "execution_count": 338,
   "metadata": {
    "collapsed": true
   },
   "outputs": [],
   "source": [
    "(x_train, y_train), (x_test, y_test) = mnist.load_data()\n",
    "\n",
    "ohe = OneHotEncoder()\n",
    "\n",
    "x_train = x_train[:,:,:,np.newaxis]\n",
    "x_test = x_test[:,:,:,np.newaxis]\n",
    "\n",
    "x_train = x_train.astype('float32')/255\n",
    "x_test = x_test.astype('float32')/255\n",
    "\n",
    "y_test = y_test.astype(int)\n",
    "y_train = y_train.astype(int)\n",
    "\n",
    "y_train = keras.utils.to_categorical(y_train, num_classes=None)\n",
    "y_test = keras.utils.to_categorical(y_test, num_classes=None)"
   ]
  },
  {
   "cell_type": "code",
   "execution_count": 340,
   "metadata": {},
   "outputs": [
    {
     "name": "stdout",
     "output_type": "stream",
     "text": [
      "_________________________________________________________________\n",
      "Layer (type)                 Output Shape              Param #   \n",
      "=================================================================\n",
      "zero_padding2d_73 (ZeroPaddi (None, 30, 30, 1)         0         \n",
      "_________________________________________________________________\n",
      "conv2d_67 (Conv2D)           (None, 26, 26, 70)        1820      \n",
      "_________________________________________________________________\n",
      "max_pooling2d_34 (MaxPooling (None, 13, 13, 70)        0         \n",
      "_________________________________________________________________\n",
      "dropout_1 (Dropout)          (None, 13, 13, 70)        0         \n",
      "_________________________________________________________________\n",
      "zero_padding2d_74 (ZeroPaddi (None, 15, 15, 70)        0         \n",
      "_________________________________________________________________\n",
      "conv2d_68 (Conv2D)           (None, 11, 11, 80)        140080    \n",
      "_________________________________________________________________\n",
      "max_pooling2d_35 (MaxPooling (None, 5, 5, 80)          0         \n",
      "_________________________________________________________________\n",
      "dropout_2 (Dropout)          (None, 5, 5, 80)          0         \n",
      "_________________________________________________________________\n",
      "flatten_39 (Flatten)         (None, 2000)              0         \n",
      "_________________________________________________________________\n",
      "dense_98 (Dense)             (None, 500)               1000500   \n",
      "_________________________________________________________________\n",
      "dropout_3 (Dropout)          (None, 500)               0         \n",
      "_________________________________________________________________\n",
      "dense_99 (Dense)             (None, 100)               50100     \n",
      "_________________________________________________________________\n",
      "dense_100 (Dense)            (None, 10)                1010      \n",
      "=================================================================\n",
      "Total params: 1,193,510\n",
      "Trainable params: 1,193,510\n",
      "Non-trainable params: 0\n",
      "_________________________________________________________________\n"
     ]
    }
   ],
   "source": [
    "from keras.layers import Dropout\n",
    "\n",
    "model = Sequential()\n",
    "\n",
    "\n",
    "model.add(ZeroPadding2D((1,1),input_shape=(28, 28, 1)))\n",
    "model.add(Convolution2D(filters=70, kernel_size=(5,5), data_format='channels_last', activation = 'relu'))\n",
    "model.add(MaxPooling2D(pool_size=(2, 2)))\n",
    "model.add(Dropout(0.5))\n",
    "\n",
    "model.add(ZeroPadding2D((1,1)))\n",
    "model.add(Convolution2D(filters=80, kernel_size=(5,5), activation = 'relu'))\n",
    "model.add(MaxPooling2D(pool_size=(2, 2)))\n",
    "model.add(Dropout(0.5))\n",
    "\n",
    "model.add(Flatten())\n",
    "\n",
    "model.add(Dense(500, activation = 'relu'))\n",
    "model.add(Dropout(0.5))\n",
    "model.add(Dense(100, activation = 'relu'))\n",
    "\n",
    "model.add(Dense(10, activation='softmax'))\n",
    "\n",
    "model.summary()"
   ]
  },
  {
   "cell_type": "code",
   "execution_count": 341,
   "metadata": {
    "collapsed": true
   },
   "outputs": [],
   "source": [
    "model.compile(loss='binary_crossentropy',\n",
    "              optimizer='adam',\n",
    "              metrics=['accuracy'])"
   ]
  },
  {
   "cell_type": "code",
   "execution_count": 342,
   "metadata": {},
   "outputs": [
    {
     "name": "stderr",
     "output_type": "stream",
     "text": [
      "C:\\Users\\agapo\\Anaconda3\\lib\\site-packages\\keras\\models.py:848: UserWarning: The `nb_epoch` argument in `fit` has been renamed `epochs`.\n",
      "  warnings.warn('The `nb_epoch` argument in `fit` '\n"
     ]
    },
    {
     "name": "stdout",
     "output_type": "stream",
     "text": [
      "Epoch 1/10\n",
      "60000/60000 [==============================] - 575s - loss: 0.0360 - acc: 0.9876   \n",
      "Epoch 2/10\n",
      "60000/60000 [==============================] - 514s - loss: 0.0167 - acc: 0.9946   \n",
      "Epoch 3/10\n",
      "60000/60000 [==============================] - 517s - loss: 0.0136 - acc: 0.9956   \n",
      "Epoch 4/10\n",
      "60000/60000 [==============================] - 504s - loss: 0.0127 - acc: 0.9961   \n",
      "Epoch 5/10\n",
      "60000/60000 [==============================] - 484s - loss: 0.0114 - acc: 0.9965   \n",
      "Epoch 6/10\n",
      "60000/60000 [==============================] - 483s - loss: 0.0110 - acc: 0.9965   \n",
      "Epoch 7/10\n",
      "60000/60000 [==============================] - 504s - loss: 0.0098 - acc: 0.9970   \n",
      "Epoch 8/10\n",
      "60000/60000 [==============================] - 500s - loss: 0.0100 - acc: 0.9969   \n",
      "Epoch 9/10\n",
      "60000/60000 [==============================] - 497s - loss: 0.0090 - acc: 0.9972   \n",
      "Epoch 10/10\n",
      "60000/60000 [==============================] - 499s - loss: 0.0094 - acc: 0.9971   \n"
     ]
    },
    {
     "data": {
      "text/plain": [
       "<keras.callbacks.History at 0x21bb42aefd0>"
      ]
     },
     "execution_count": 342,
     "metadata": {},
     "output_type": "execute_result"
    }
   ],
   "source": [
    "model.fit(x=x_train, y=y_train, nb_epoch = 10)"
   ]
  },
  {
   "cell_type": "code",
   "execution_count": 343,
   "metadata": {},
   "outputs": [
    {
     "name": "stdout",
     "output_type": "stream",
     "text": [
      "accuracy = 0.987600993108\n"
     ]
    }
   ],
   "source": [
    "y_pred = model.predict(x_test)\n",
    "print('accuracy = '+str((y_pred*y_test).sum()/y_test.shape[0]))"
   ]
  },
  {
   "cell_type": "markdown",
   "metadata": {},
   "source": [
    "как видно, добавление dropout слоёв привело к понижению accuracy и на обучающей выборке, и на тестовой. Время обучения увеличилось."
   ]
  }
 ],
 "metadata": {
  "kernelspec": {
   "display_name": "Python 3",
   "language": "python",
   "name": "python3"
  },
  "language_info": {
   "codemirror_mode": {
    "name": "ipython",
    "version": 3
   },
   "file_extension": ".py",
   "mimetype": "text/x-python",
   "name": "python",
   "nbconvert_exporter": "python",
   "pygments_lexer": "ipython3",
   "version": "3.6.1"
  }
 },
 "nbformat": 4,
 "nbformat_minor": 1
}
