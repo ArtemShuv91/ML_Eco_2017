{
 "cells": [
  {
   "cell_type": "markdown",
   "metadata": {},
   "source": [
    "                                                                                    Бердникович Алеся, 4- сложная"
   ]
  },
  {
   "cell_type": "markdown",
   "metadata": {},
   "source": [
    "# Машинное обучение, ФЭН ВШЭ\n",
    "\n",
    "__Дата выдачи: 26.11.2017__\n",
    "__Дедлайн: 15.12.2017 23:59__\n",
    "\n",
    "# Практическое задание 4\n",
    "\n",
    "\n",
    "### О задании\n",
    "\n",
    "Практическое задание 4 посвящено ансамблям, bias-variance decomposition, деревьям и нейронным сетям. Обучение нейронных сетей займет какое-то время, поэтому не оставляйте эту часть на последний день!\n",
    "\n",
    "### Оценивание и штрафы\n",
    "\n",
    "Каждая из задач имеет определенную «стоимость» (указана в скобках около задачи). Максимально допустимая оценка за работу — 10 баллов.\n",
    "\n",
    "Сдавать задание после указанного срока сдачи нельзя. При выставлении неполного балла за задание в связи с наличием ошибок на усмотрение проверяющего предусмотрена возможность исправить работу на указанных в ответном письме условиях.\n",
    "\n",
    "Задание выполняется самостоятельно. «Похожие» решения считаются плагиатом и все задействованные студенты (в том числе те, у кого списали) не могут получить за него больше 0 баллов (подробнее о плагиате см. на странице курса). Если вы нашли решение какого-то из заданий (или его часть) в открытом источнике, необходимо указать ссылку на этот источник в отдельном блоке в конце Вашей работы (скорее всего вы будете не единственным, кто это нашел, поэтому чтобы исключить подозрение в плагиате, необходима ссылка на источник). \n",
    "\n",
    "Неэффективная реализация кода может негативно отразиться на оценке.\n",
    "\n",
    "\n",
    "### Формат сдачи\n",
    "Для сдачи задания переименуйте получившийся файл \\*.ipynb в соответствии со следующим форматом: *HW4_Username.ipynb*, где *Username* — Ваша фамилия и инициалы на латинице (например, *HW4_IvanovII.ipynb*). Далее отправьте этот файл на *ml.econom.hse@gmail.com* с темой *Практика {номер задания} - номер группы по данному курсу - Фамилия Имя* "
   ]
  },
  {
   "cell_type": "markdown",
   "metadata": {},
   "source": [
    "### I. Разложение ошибки на смещение и разброс\n",
    "#### Теоретическое вступление\n",
    "На занятиях мы разбирали примеры аналитического вычисления смещения и разброса нескольких алгоритмов обучения. Для большинства моделей данных и алгоритмов обучения аналитически рассчитать математические ожидания в формулах не удастся. Однако мат. ожидания можно оценивать приближенно. Чтобы оценить математическое ожидание $\\mathbb{E}_{\\bar x} f(\\bar x)$ функции от многомерной случайной величины $\\bar x = (x_1, \\dots, x_d)$, $\\bar x \\sim p(\\bar x)$, можно сгенерировать выборку из распределения $p(\\bar x)$ и усреднить значение функции на элементах этой выборки:\n",
    "$$\\mathbb{E}_{\\bar x} f(x) = \\int f(\\bar x) p(\\bar x) d \\bar x \\approx \\frac 1 m \\sum_{i=1}^m f(\\bar x_i), \\, \\bar x_i \\sim p(\\bar x), i = 1, \\dots, m.$$\n",
    "\n",
    "Для оценки многомерных интегралов ($d > 1$) объекты лучше генерировать, следуя специальным схемам, чтобы адекватно оценивать значение интеграла в областях высокой плотности. Мы не будем так усложнять задачу, а просто будем генерировать $\\bar x_i$ независимо."
   ]
  },
  {
   "cell_type": "code",
   "execution_count": 1,
   "metadata": {
    "collapsed": true
   },
   "outputs": [],
   "source": [
    "import numpy as np"
   ]
  },
  {
   "cell_type": "markdown",
   "metadata": {},
   "source": [
    "Например, оценим $\\mathbb{E}_x x^2,$ $x \\sim \\mathcal{N}(\\mu=5, \\sigma=3)$ (из теории вероятностей мы знаем, что\n",
    "$\\mathbb{E}_x x^2 = \\sigma^2 + \\mu^2 = 34$):"
   ]
  },
  {
   "cell_type": "code",
   "execution_count": 2,
   "metadata": {},
   "outputs": [
    {
     "data": {
      "text/plain": [
       "35.193714518227559"
      ]
     },
     "execution_count": 2,
     "metadata": {},
     "output_type": "execute_result"
    }
   ],
   "source": [
    "x = np.random.normal(loc=5, scale=3, size=1000)\n",
    "(x**2).mean()"
   ]
  },
  {
   "cell_type": "markdown",
   "metadata": {},
   "source": [
    "Или посчитаем многомерный интеграл $\\mathbb{E}_{\\bar x} \\bar x^T \\bar x = \\mathbb{E}_{\\bar x} \\sum_{i=1}^d x_i^2$, $\\bar x \\sim \\mathcal{N}(\\bar \\mu=(1, \\dots, 1), \\Sigma=I)$ при $d = 10$ (аналитический ответ 20):"
   ]
  },
  {
   "cell_type": "code",
   "execution_count": 3,
   "metadata": {},
   "outputs": [
    {
     "data": {
      "text/plain": [
       "19.999730005094072"
      ]
     },
     "execution_count": 3,
     "metadata": {},
     "output_type": "execute_result"
    }
   ],
   "source": [
    "d = 10\n",
    "X = np.random.multivariate_normal(np.ones(10), np.eye(10), size=1000)\n",
    "(X**2).sum(axis=1).mean()"
   ]
  },
  {
   "cell_type": "markdown",
   "metadata": {},
   "source": [
    "Чтобы оценить интеграл по выборке, можно сгенерировать несколько выборок, вычислить на них значение функции и усреднить. Например, для интеграла $\\mathbb{E}_X [\\mu(X)(x)]$ генерируются выборки $X_1, \\dots, X_m$, на каждой из них обучается алгоритм $\\mu$ и делается предсказание для объекта $x$."
   ]
  },
  {
   "cell_type": "markdown",
   "metadata": {},
   "source": [
    "#### Практическая часть\n",
    "#####  Построение \"среднего\" алгоритма $\\mathbb{E}_X [\\mu(X)]$\n",
    "В этом задании вам нужно построить графики, демонстрирующие, как алгоритм $\\mathbb{E}_X [\\mu(X)]$ аппроксимирует истинную зависимость в данных и как он меняется в зависимости от гиперпараметров метода обучения."
   ]
  },
  {
   "cell_type": "code",
   "execution_count": 3,
   "metadata": {
    "collapsed": true
   },
   "outputs": [],
   "source": [
    "from matplotlib import pyplot as plt\n",
    "%matplotlib inline"
   ]
  },
  {
   "cell_type": "code",
   "execution_count": 11,
   "metadata": {
    "collapsed": true
   },
   "outputs": [],
   "source": [
    "def f(x):\n",
    "    return np.sin(x)   # истинная зависимость в данных\n",
    "sample_size = 100      # длина выборки\n",
    "samples_num = 20       # количество выборок\n",
    "linspace = np.linspace(0, 7, 1000)  # точки для построения графиков"
   ]
  },
  {
   "cell_type": "markdown",
   "metadata": {},
   "source": [
    "__1 (0.6 балла)__\n",
    "1. Сгенерируйте выборку x из одномерного экспоненциального распределения (np.random.exponential) длины sample_size.\n",
    "1. Создайте вектор целевых переменных y как сумму f(x) и случайного шума, сгенерированного из равномерного распределения на отрезке [-1, 1] (np.random.uniform).\n",
    "1. Обучите DecisionTreeRegressor с параметрами по умолчанию на полученной выборке и сделайте предсказания для объектов из linspace.\n",
    "1. Постройте два графика на одном рисунке: f(x) и зависимость, восстановленную решающим деревом.\n",
    "\n",
    "    Рекомендация: не забудьте, что все методы обучения в sklearn требуют на вход двумерную матрицу объекты-признаки. Сделать такую из одномерного вектора можно добавлением мнимых осей (np.newaxis)."
   ]
  },
  {
   "cell_type": "code",
   "execution_count": 69,
   "metadata": {
    "collapsed": true
   },
   "outputs": [],
   "source": [
    "x=np.random.exponential(2,size =sample_size)\n",
    "noize= np.random.uniform(size = sample_size, low = -1, high = 1)\n",
    "y=f(x)+noize"
   ]
  },
  {
   "cell_type": "code",
   "execution_count": 36,
   "metadata": {},
   "outputs": [],
   "source": [
    "from sklearn.tree import DecisionTreeRegressor,DecisionTreeClassifier\n"
   ]
  },
  {
   "cell_type": "code",
   "execution_count": 71,
   "metadata": {},
   "outputs": [],
   "source": [
    "X=x.reshape(-1,1,)\n",
    "Y=y.reshape(-1,1,)\n",
    "reg=DecisionTreeRegressor().fit(X,Y)"
   ]
  },
  {
   "cell_type": "code",
   "execution_count": 72,
   "metadata": {},
   "outputs": [],
   "source": [
    "y_pred=reg.predict(linspace.reshape(-1,1,))"
   ]
  },
  {
   "cell_type": "code",
   "execution_count": 73,
   "metadata": {},
   "outputs": [
    {
     "data": {
      "image/png": "[encoded data removed]",
      "text/plain": [
       "<matplotlib.figure.Figure at 0x10d3b3748>"
      ]
     },
     "metadata": {},
     "output_type": "display_data"
    }
   ],
   "source": [
    "plt.plot(linspace, y_pred,color='purple',alpha = 1)\n",
    "plt.plot(linspace, f(linspace),color='black',alpha = 0.5)\n",
    "plt.show()"
   ]
  },
  {
   "cell_type": "markdown",
   "metadata": {},
   "source": [
    "__2 (0.6 балла):__\n",
    "\n",
    "Повторите первые 3 шага, описанные выше, samples_num раз. На одном графике для каждого обученного решающего дерева визуализируйте восстановленную им зависимость (рекомендуется все такие линии рисовать полупрозрачными и серым цветом: plt.plot(...... color=\"gray\", alpha=0.5)).  На этом же графике изобразите истинную зависимость f(x) (красным цветом: color=\"red\") и усредненную по всем деревьям восстановленную зависимость (черным цветом: color=\"black\").    "
   ]
  },
  {
   "cell_type": "code",
   "execution_count": 74,
   "metadata": {},
   "outputs": [
    {
     "data": {
      "image/png": "[encoded data removed]",
      "text/plain": [
       "<matplotlib.figure.Figure at 0x10d57a518>"
      ]
     },
     "metadata": {},
     "output_type": "display_data"
    }
   ],
   "source": [
    "a=[]\n",
    "for i in range (samples_num):\n",
    "    x=np.random.exponential(scale=2,size =sample_size)\n",
    "    noize= np.random.uniform(size = sample_size, low = -1, high = 1)\n",
    "    y=f(x)+noize\n",
    "    X=x.reshape(-1,1,)\n",
    "    Y=y.reshape(-1,1,)\n",
    "    reg=DecisionTreeRegressor().fit(X,Y)\n",
    "    y_pred=reg.predict(linspace.reshape(-1,1,))\n",
    "    a.append(y_pred)\n",
    "    plt.plot(linspace, y_pred,color='gray',alpha = 0.5)\n",
    "    \n",
    "plt.plot(linspace,np.mean(a,axis=0),color='black',alpha = 1)    \n",
    "plt.plot(linspace, f(linspace),color='red',alpha = 1)\n",
    "plt.show()"
   ]
  },
  {
   "cell_type": "markdown",
   "metadata": {},
   "source": [
    "__3 (0.2 балла):__\n",
    "Повторите предыдущий пункт, установив максимальную глубину решающего дерева равной 2, а затем равной 4. Таким образом, у вас получится еще два графика."
   ]
  },
  {
   "cell_type": "code",
   "execution_count": 75,
   "metadata": {},
   "outputs": [
    {
     "data": {
      "image/png": "[encoded data removed]",
      "text/plain": [
       "<matplotlib.figure.Figure at 0x10e12a780>"
      ]
     },
     "metadata": {},
     "output_type": "display_data"
    }
   ],
   "source": [
    "a=[]\n",
    "for i in range (samples_num):\n",
    "    x=np.random.exponential(scale=2,size =sample_size)\n",
    "    noize= np.random.uniform(size = sample_size, low = -1, high = 1)\n",
    "    y=f(x)+noize\n",
    "    X=x.reshape(-1,1,)\n",
    "    Y=y.reshape(-1,1,)\n",
    "    reg=DecisionTreeRegressor(max_depth=2).fit(X,Y)\n",
    "    y_pred=reg.predict(linspace.reshape(-1,1,))\n",
    "    a.append(y_pred)\n",
    "    plt.plot(linspace, y_pred,color='gray',alpha = 0.5)\n",
    "    \n",
    "plt.plot(linspace,np.mean(a,axis=0),color='black',alpha = 1)    \n",
    "plt.plot(linspace, f(linspace),color='red',alpha = 1)\n",
    "plt.show()"
   ]
  },
  {
   "cell_type": "code",
   "execution_count": 76,
   "metadata": {},
   "outputs": [
    {
     "data": {
      "image/png": "[encoded data removed]",
      "text/plain": [
       "<matplotlib.figure.Figure at 0x10e330a20>"
      ]
     },
     "metadata": {},
     "output_type": "display_data"
    }
   ],
   "source": [
    "a=[]\n",
    "for i in range (samples_num):\n",
    "    x=np.random.exponential(scale=2,size =sample_size)\n",
    "    noize= np.random.uniform(size = sample_size, low = -1, high = 1)\n",
    "    y=f(x)+noize\n",
    "    X=x.reshape(-1,1,)\n",
    "    Y=y.reshape(-1,1,)\n",
    "    reg=DecisionTreeRegressor(max_depth=4).fit(X,Y)\n",
    "    y_pred=reg.predict(linspace.reshape(-1,1,))\n",
    "    a.append(y_pred)\n",
    "    plt.plot(linspace, y_pred,color='gray',alpha = 0.5)\n",
    "    \n",
    "plt.plot(linspace,np.mean(a,axis=0),color='black',alpha = 1)    \n",
    "plt.plot(linspace, f(linspace),color='red',alpha = 1)\n",
    "plt.show()"
   ]
  },
  {
   "cell_type": "markdown",
   "metadata": {},
   "source": [
    "__4 (0.6 балла)__ Что можно сказать о смещении решающих деревьев, исходя из проведенного эксперимента? В каких из трех рассмотренных случаев (без ограничения на глубину дерева и с ограничением 2 и 4) можно утверждать, что смещение решающего дерева близко к нулю?"
   ]
  },
  {
   "cell_type": "markdown",
   "metadata": {},
   "source": [
    "     Чем меньше допустимая глубина дерева, тем больше смещение. В нашем случае наибольшее смещение при max_depth=2, так как если максимальная глубина не ограничена, как в 1 случае, то она может быть очень большой (в случае если не накладывается других ограничений, как минимальное количество объектов в листе и др).\n",
    "\n"
   ]
  },
  {
   "cell_type": "markdown",
   "metadata": {},
   "source": [
    "__5 (1 балл)__\n",
    "Проделайте тот же эксперимент с линейной регрессией и SVM с rbf ядром и параматрами $\\gamma = 1$, $\\gamma = 100$. Какие выводы можно сделать?"
   ]
  },
  {
   "cell_type": "code",
   "execution_count": 37,
   "metadata": {
    "collapsed": true
   },
   "outputs": [],
   "source": [
    "from sklearn.svm import SVR\n",
    "from sklearn.linear_model import LinearRegression"
   ]
  },
  {
   "cell_type": "code",
   "execution_count": 80,
   "metadata": {},
   "outputs": [
    {
     "data": {
      "image/png": "[encoded data removed]",
      "text/plain": [
       "<matplotlib.figure.Figure at 0x10e33e5f8>"
      ]
     },
     "metadata": {},
     "output_type": "display_data"
    }
   ],
   "source": [
    "a=[]\n",
    "for i in range (samples_num):\n",
    "    x=np.random.exponential(scale=2,size =sample_size)\n",
    "    noize= np.random.uniform(size = sample_size, low = -1, high = 1)\n",
    "    y=f(x)+noize\n",
    "    X=x.reshape(-1,1,)\n",
    "    Y=y.reshape(-1,1,)\n",
    "    reg=LinearRegression().fit(X,Y)\n",
    "    y_pred=reg.predict(linspace.reshape(-1,1,))\n",
    "    a.append(y_pred)\n",
    "    plt.plot(linspace, y_pred,color='gray',alpha = 0.5)\n",
    "    \n",
    "plt.plot(linspace,np.mean(a,axis=0),color='black',alpha = 1)    \n",
    "plt.plot(linspace, f(linspace),color='red',alpha = 1)\n",
    "plt.show()"
   ]
  },
  {
   "cell_type": "code",
   "execution_count": 77,
   "metadata": {},
   "outputs": [
    {
     "name": "stderr",
     "output_type": "stream",
     "text": [
      "/Users/Air11/anaconda/lib/python3.5/site-packages/sklearn/utils/validation.py:526: DataConversionWarning: A column-vector y was passed when a 1d array was expected. Please change the shape of y to (n_samples, ), for example using ravel().\n",
      "  y = column_or_1d(y, warn=True)\n"
     ]
    },
    {
     "data": {
      "image/png": "[encoded data removed]",
      "text/plain": [
       "<matplotlib.figure.Figure at 0x10d3bb160>"
      ]
     },
     "metadata": {},
     "output_type": "display_data"
    }
   ],
   "source": [
    "a=[]\n",
    "for i in range (samples_num):\n",
    "    x=np.random.exponential(scale=2,size =sample_size)\n",
    "    noize= np.random.uniform(size = sample_size, low = -1, high = 1)\n",
    "    y=f(x)+noize\n",
    "    X=x.reshape(-1,1,)\n",
    "    Y=y.reshape(-1,1,)\n",
    "    reg=SVR(kernel='rbf', gamma = 1).fit(X,Y)\n",
    "    y_pred=reg.predict(linspace.reshape(-1,1,))\n",
    "    a.append(y_pred)\n",
    "    plt.plot(linspace, y_pred,color='gray',alpha = 0.5)\n",
    "    \n",
    "plt.plot(linspace,np.mean(a,axis=0),color='black',alpha = 1)    \n",
    "plt.plot(linspace, f(linspace),color='red',alpha = 1)\n",
    "plt.show()"
   ]
  },
  {
   "cell_type": "code",
   "execution_count": 78,
   "metadata": {},
   "outputs": [
    {
     "name": "stderr",
     "output_type": "stream",
     "text": [
      "/Users/Air11/anaconda/lib/python3.5/site-packages/sklearn/utils/validation.py:526: DataConversionWarning: A column-vector y was passed when a 1d array was expected. Please change the shape of y to (n_samples, ), for example using ravel().\n",
      "  y = column_or_1d(y, warn=True)\n"
     ]
    },
    {
     "data": {
      "image/png": "[encoded data removed]",
      "text/plain": [
       "<matplotlib.figure.Figure at 0x10e33e550>"
      ]
     },
     "metadata": {},
     "output_type": "display_data"
    }
   ],
   "source": [
    "a=[]\n",
    "for i in range (samples_num):\n",
    "    x=np.random.exponential(scale=2,size =sample_size)\n",
    "    noize= np.random.uniform(size = sample_size, low = -1, high = 1)\n",
    "    y=f(x)+noize\n",
    "    X=x.reshape(-1,1,)\n",
    "    Y=y.reshape(-1,1,)\n",
    "    reg=SVR(kernel='rbf', gamma = 100).fit(X,Y)\n",
    "    \n",
    "    y_pred=reg.predict(linspace.reshape(-1,1,))\n",
    "    a.append(y_pred)\n",
    "    plt.plot(linspace, y_pred,color='gray',alpha = 0.5)\n",
    "    \n",
    "plt.plot(linspace,np.mean(a,axis=0),color='black',alpha = 1)    \n",
    "plt.plot(linspace, f(linspace),color='red',alpha = 1)\n",
    "plt.show()"
   ]
  },
  {
   "cell_type": "markdown",
   "metadata": {},
   "source": [
    "    Самое маленькое смещение при SVR с параметром гамма=1,при этом и разброс тоже не такой большой в этой модели."
   ]
  },
  {
   "cell_type": "markdown",
   "metadata": {},
   "source": [
    "### II. Решающие деревья"
   ]
  },
  {
   "cell_type": "markdown",
   "metadata": {},
   "source": [
    "__5 (1 балл)__\n",
    "\n",
    "Загрузите следующие наборы данных (напомним, что pandas умеет загружать файлы по url, в нашем случае это файл \\*.data), предварительно ознакомившись с описанием признаков и целевой переменной в каждом из них (она записаны в Data Folder, в файле *.names): \n",
    "* [mushrooms](https://archive.ics.uci.edu/ml/datasets/Mushroom) (загрузили в предыдущем пункте, классы записаны в нулевом столбце),\n",
    "* [tic-rac-toe](https://archive.ics.uci.edu/ml/datasets/Tic-Tac-Toe+Endgame) (классы записаны в последнем столбце)\n",
    "* [cars](https://archive.ics.uci.edu/ml/datasets/Car+Evaluation) (классы записаны в последнем столбце, считаем что unacc, acc - это класс 0, good, vgood - класс 1)\n",
    "* [nursery](https://archive.ics.uci.edu/ml/datasets/Nursery) (классы записаны в последнем столбце, считаем, что not_recom и recommend - класс 0, very_recom, priority, spec_prior - класс 1).\n",
    "\n",
    "Закодируйте категориальные признаки, использовав LabelEncoder. С помощью cross_val_score (cv=10) оцените accuracy на каждом из этих наборов данных следующих алгоритмов:\n",
    "* DecisionTreeClassifier, считающий все признаки вещественными\n",
    "* DecisionTreeClassfier, считающий все признаки категориальными\n",
    "* DecisionTreeClassifier, c корректным разбиением на категориальные и вещественные признаки.\n",
    "\n",
    "Рекомендации:\n",
    "* Чтобы cross_val_score вычисляла точность, нужно передать scoring=make_scorer(accuracy_score), обе фукнции из sklearn.metrics."
   ]
  },
  {
   "cell_type": "code",
   "execution_count": 7,
   "metadata": {
    "collapsed": true
   },
   "outputs": [],
   "source": [
    "import pandas as pd \n",
    "from sklearn import preprocessing\n",
    "from sklearn.model_selection import cross_val_score, ShuffleSplit\n",
    "from sklearn.metrics import make_scorer, accuracy_score\n",
    "from sklearn.tree import DecisionTreeClassifier"
   ]
  },
  {
   "cell_type": "code",
   "execution_count": 122,
   "metadata": {},
   "outputs": [],
   "source": [
    "#mushrooms \n",
    "d1 = pd.read_csv('https://archive.ics.uci.edu/ml/machine-learning-databases/mushroom/agaricus-lepiota.data', header=None)\n",
    "y1 = preprocessing.LabelEncoder().fit_transform(d1[0])\n",
    "x1 = d1.loc[:,1:]\n",
    "#tic-rac-toe \n",
    "d2 = pd.read_csv('https://archive.ics.uci.edu/ml/machine-learning-databases/tic-tac-toe/tic-tac-toe.data', header=None)\n",
    "y2 = preprocessing.LabelEncoder().fit_transform(d2[9])\n",
    "x2 = d2.loc[:,:8]\n",
    "#cars \n",
    "d3 = pd.read_csv('https://archive.ics.uci.edu/ml/machine-learning-databases/car/car.data', header=None)\n",
    "d3[6][d3[6].isin(['unacc', 'acc'])] = 0\n",
    "d3[6][d3[6].isin(['vgood', 'good'])] = 1\n",
    "y3 =preprocessing.LabelEncoder().fit_transform(d3[6])\n",
    "x3 = d3.loc[:,:5]\n",
    "#nursery\n",
    "d4 = pd.read_csv('https://archive.ics.uci.edu/ml/machine-learning-databases/nursery/nursery.data', header=None)\n",
    "d4[8][d4[8].isin(['not_recom', 'recommend'])] = 0\n",
    "d4[8][d4[8].isin(['very_recom', 'priority', 'spec_prior'])] = 1\n",
    "y4 = preprocessing.LabelEncoder().fit_transform(d4[8])\n",
    "x4 = d4.loc[:,:7]"
   ]
  },
  {
   "cell_type": "markdown",
   "metadata": {},
   "source": [
    " ##### 1)mushrooms "
   ]
  },
  {
   "cell_type": "markdown",
   "metadata": {},
   "source": [
    "    1. cap-shape: bell=b,conical=c,convex=x,flat=f, knobbed=k,sunken=s \n",
    "    2. cap-surface: fibrous=f,grooves=g,scaly=y,smooth=s \n",
    "    3. cap-color: brown=n,buff=b,cinnamon=c,gray=g,green=r, pink=p,purple=u,red=e,white=w,yellow=y \n",
    "    4. bruises?: bruises=t,no=f \n",
    "    5. odor: almond=a,anise=l,creosote=c,fishy=y,foul=f, musty=m,none=n,pungent=p,spicy=s \n",
    "    6. gill-attachment: attached=a,descending=d,free=f,notched=n \n",
    "    7. gill-spacing: close=c,crowded=w,distant=d \n",
    "    8. gill-size: broad=b,narrow=n \n",
    "    9. gill-color: black=k,brown=n,buff=b,chocolate=h,gray=g, green=r,orange=o,pink=p,purple=u,red=e, white=w,yellow=y \n",
    "    10. stalk-shape: enlarging=e,tapering=t \n",
    "    11. stalk-root: bulbous=b,club=c,cup=u,equal=e, rhizomorphs=z,rooted=r,missing=? \n",
    "    12. stalk-surface-above-ring: fibrous=f,scaly=y,silky=k,smooth=s \n",
    "    13. stalk-surface-below-ring: fibrous=f,scaly=y,silky=k,smooth=s \n",
    "    14. stalk-color-above-ring: brown=n,buff=b,cinnamon=c,gray=g,orange=o, pink=p,red=e,white=w,yellow=y \n",
    "    15. stalk-color-below-ring: brown=n,buff=b,cinnamon=c,gray=g,orange=o, pink=p,red=e,white=w,yellow=y \n",
    "    16. veil-type: partial=p,universal=u \n",
    "    17. veil-color: brown=n,orange=o,white=w,yellow=y \n",
    "    18. ring-number: none=n,one=o,two=t \n",
    "    19. ring-type: cobwebby=c,evanescent=e,flaring=f,large=l, none=n,pendant=p,sheathing=s,zone=z \n",
    "    20. spore-print-color: black=k,brown=n,buff=b,chocolate=h,green=r, orange=o,purple=u,white=w,yellow=y \n",
    "    21. population: abundant=a,clustered=c,numerous=n, scattered=s,several=v,solitary=y \n",
    "    22. habitat: grasses=g,leaves=l,meadows=m,paths=p, urban=u,waste=w,woods=d"
   ]
  },
  {
   "cell_type": "markdown",
   "metadata": {},
   "source": [
    "Тут все признаки категориальные, сделаем сначала просто дамми переменные для всех признаков (корректное разбиение)."
   ]
  },
  {
   "cell_type": "code",
   "execution_count": 8,
   "metadata": {
    "collapsed": true
   },
   "outputs": [],
   "source": [
    "x1_cat=pd.get_dummies(x1)"
   ]
  },
  {
   "cell_type": "code",
   "execution_count": 111,
   "metadata": {},
   "outputs": [
    {
     "name": "stdout",
     "output_type": "stream",
     "text": [
      "Если все категориальные, то точность: 0.967279246159\n"
     ]
    }
   ],
   "source": [
    "print('Если все категориальные, то точность:',np.mean(cross_val_score(X=x1_cat, y=y1, estimator=DecisionTreeClassifier(), cv=10, scoring=make_scorer(accuracy_score))))"
   ]
  },
  {
   "cell_type": "code",
   "execution_count": 10,
   "metadata": {},
   "outputs": [],
   "source": [
    "x1_num=pd.DataFrame()\n",
    "for i in x1.columns:\n",
    "    x1_num =pd.concat([x1_num, pd.DataFrame(preprocessing.LabelEncoder().fit_transform(x1[i]))], axis = 1)"
   ]
  },
  {
   "cell_type": "code",
   "execution_count": 112,
   "metadata": {},
   "outputs": [
    {
     "name": "stdout",
     "output_type": "stream",
     "text": [
      "Если все вещественные, то точность: 0.962593066128\n"
     ]
    }
   ],
   "source": [
    "print('Если все вещественные, то точность:',np.mean(cross_val_score(X=x1_num, y=y1, estimator=DecisionTreeClassifier(), cv=10, scoring=make_scorer(accuracy_score))))"
   ]
  },
  {
   "cell_type": "markdown",
   "metadata": {},
   "source": [
    "Логично, что точность снижается, когда мы пытаемся упорядочить равнозначные категории."
   ]
  },
  {
   "cell_type": "markdown",
   "metadata": {},
   "source": [
    " ##### 2)tic-rac-toe "
   ]
  },
  {
   "cell_type": "markdown",
   "metadata": {},
   "source": [
    "    1. top-left-square: {x,o,b} \n",
    "    2. top-middle-square: {x,o,b} \n",
    "    3. top-right-square: {x,o,b} \n",
    "    4. middle-left-square: {x,o,b} \n",
    "    5. middle-middle-square: {x,o,b} \n",
    "    6. middle-right-square: {x,o,b} \n",
    "    7. bottom-left-square: {x,o,b} \n",
    "    8. bottom-middle-square: {x,o,b} \n",
    "    9. bottom-right-square: {x,o,b} \n",
    "    10. Class: {positive,negative}"
   ]
  },
  {
   "cell_type": "markdown",
   "metadata": {},
   "source": [
    "Аналогично предыдущему пункту"
   ]
  },
  {
   "cell_type": "code",
   "execution_count": 113,
   "metadata": {},
   "outputs": [
    {
     "name": "stdout",
     "output_type": "stream",
     "text": [
      "Если все категориальные, то точность: 0.821540852776\n"
     ]
    }
   ],
   "source": [
    "x2_cat=pd.get_dummies(x2)\n",
    "print('Если все категориальные, то точность:', np.mean(cross_val_score(X=x2_cat, y=y2, estimator=DecisionTreeClassifier(), cv=10, scoring=make_scorer(accuracy_score))))"
   ]
  },
  {
   "cell_type": "code",
   "execution_count": 114,
   "metadata": {},
   "outputs": [
    {
     "name": "stdout",
     "output_type": "stream",
     "text": [
      "Если все вещественные, то точность: 0.755295035269\n"
     ]
    }
   ],
   "source": [
    "x2_num=pd.DataFrame()\n",
    "for i in x2.columns:\n",
    "    x2_num =pd.concat([x2_num, pd.DataFrame(preprocessing.LabelEncoder().fit_transform(x2[i]))], axis = 1)\n",
    "print('Если все вещественные, то точность:',np.mean(cross_val_score(X=x2_num, y=y2, estimator=DecisionTreeClassifier(), cv=10, scoring=make_scorer(accuracy_score))))"
   ]
  },
  {
   "cell_type": "markdown",
   "metadata": {},
   "source": [
    "Мы видим, что если вид признаков определен неверно, то точность снижается. "
   ]
  },
  {
   "cell_type": "markdown",
   "metadata": {},
   "source": [
    " ##### 3)cars  "
   ]
  },
  {
   "cell_type": "markdown",
   "metadata": {},
   "source": [
    "    buying: vhigh, high, med, low. \n",
    "    maint: vhigh, high, med, low. \n",
    "    doors: 2, 3, 4, 5more. \n",
    "    persons: 2, 4, more. \n",
    "    lug_boot: small, med, big. \n",
    "    safety: low, med, high. "
   ]
  },
  {
   "cell_type": "markdown",
   "metadata": {},
   "source": [
    "Вот в данном случае все категории должны быть упорядочены, то есть будет правильнее рассматривать их как вещественные, только надо правильно упорядочить (Это и будет правильное кодирование+ считаем что все вещественные(точнее порядковые))"
   ]
  },
  {
   "cell_type": "code",
   "execution_count": 14,
   "metadata": {
    "collapsed": true
   },
   "outputs": [],
   "source": [
    "x33=x3.copy()"
   ]
  },
  {
   "cell_type": "code",
   "execution_count": 39,
   "metadata": {},
   "outputs": [
    {
     "data": {
      "text/html": [
       "<div>\n",
       "<table border=\"1\" class=\"dataframe\">\n",
       "  <thead>\n",
       "    <tr style=\"text-align: right;\">\n",
       "      <th></th>\n",
       "      <th>0</th>\n",
       "      <th>1</th>\n",
       "      <th>2</th>\n",
       "      <th>3</th>\n",
       "      <th>4</th>\n",
       "      <th>5</th>\n",
       "    </tr>\n",
       "  </thead>\n",
       "  <tbody>\n",
       "    <tr>\n",
       "      <th>0</th>\n",
       "      <td>vhigh</td>\n",
       "      <td>vhigh</td>\n",
       "      <td>2</td>\n",
       "      <td>2</td>\n",
       "      <td>small</td>\n",
       "      <td>low</td>\n",
       "    </tr>\n",
       "    <tr>\n",
       "      <th>1</th>\n",
       "      <td>vhigh</td>\n",
       "      <td>vhigh</td>\n",
       "      <td>2</td>\n",
       "      <td>2</td>\n",
       "      <td>small</td>\n",
       "      <td>med</td>\n",
       "    </tr>\n",
       "    <tr>\n",
       "      <th>2</th>\n",
       "      <td>vhigh</td>\n",
       "      <td>vhigh</td>\n",
       "      <td>2</td>\n",
       "      <td>2</td>\n",
       "      <td>small</td>\n",
       "      <td>high</td>\n",
       "    </tr>\n",
       "    <tr>\n",
       "      <th>3</th>\n",
       "      <td>vhigh</td>\n",
       "      <td>vhigh</td>\n",
       "      <td>2</td>\n",
       "      <td>2</td>\n",
       "      <td>med</td>\n",
       "      <td>low</td>\n",
       "    </tr>\n",
       "    <tr>\n",
       "      <th>4</th>\n",
       "      <td>vhigh</td>\n",
       "      <td>vhigh</td>\n",
       "      <td>2</td>\n",
       "      <td>2</td>\n",
       "      <td>med</td>\n",
       "      <td>med</td>\n",
       "    </tr>\n",
       "  </tbody>\n",
       "</table>\n",
       "</div>"
      ],
      "text/plain": [
       "       0      1  2  3      4     5\n",
       "0  vhigh  vhigh  2  2  small   low\n",
       "1  vhigh  vhigh  2  2  small   med\n",
       "2  vhigh  vhigh  2  2  small  high\n",
       "3  vhigh  vhigh  2  2    med   low\n",
       "4  vhigh  vhigh  2  2    med   med"
      ]
     },
     "execution_count": 39,
     "metadata": {},
     "output_type": "execute_result"
    }
   ],
   "source": [
    "x3.head()"
   ]
  },
  {
   "cell_type": "code",
   "execution_count": 18,
   "metadata": {},
   "outputs": [],
   "source": [
    "x33[0][x33[0].isin(['vhigh'])] = 3\n",
    "x33[0][x33[0].isin(['high'])] = 2\n",
    "x33[0][x33[0].isin(['med'])] = 1\n",
    "x33[0][x33[0].isin(['low'])] = 0\n",
    "\n",
    "x33[1][x33[1].isin(['vhigh'])] = 3\n",
    "x33[1][x33[1].isin(['high'])] = 2\n",
    "x33[1][x33[1].isin(['med'])] = 1\n",
    "x33[1][x33[1].isin(['low'])] = 0\n",
    "\n",
    "\n",
    "x33[2][x33[2].isin(['5more'])] = 5\n",
    "\n",
    "x33[3][x33[3].isin(['more'])] = 5\n",
    "\n",
    "x33[5][x33[5].isin(['high'])] =2\n",
    "x33[5][x33[5].isin(['med'])] = 1\n",
    "x33[5][x33[5].isin(['low'])] = 0\n",
    "\n",
    "x33[4][x33[4].isin(['big'])] = 2\n",
    "x33[4][x33[4].isin(['med'])] = 1\n",
    "x33[4][x33[4].isin(['small'])] =0"
   ]
  },
  {
   "cell_type": "code",
   "execution_count": 130,
   "metadata": {},
   "outputs": [
    {
     "name": "stdout",
     "output_type": "stream",
     "text": [
      "Если кодирование правильное, то точность: 0.875200481155\n"
     ]
    }
   ],
   "source": [
    "print('Если кодирование правильное, то точность:', np.mean(cross_val_score(X=x33, y= y3, estimator=DecisionTreeClassifier(), cv=10, scoring=make_scorer(accuracy_score))))"
   ]
  },
  {
   "cell_type": "markdown",
   "metadata": {},
   "source": [
    "Теперь если будем считать, что все категориальные:"
   ]
  },
  {
   "cell_type": "code",
   "execution_count": 132,
   "metadata": {},
   "outputs": [
    {
     "name": "stdout",
     "output_type": "stream",
     "text": [
      "Если все категориальные, то точность: 0.822861534349\n"
     ]
    }
   ],
   "source": [
    "x3_cat=pd.get_dummies(x3)\n",
    "print('Если все категориальные, то точность:', np.mean(cross_val_score(X=x3_cat, y=y3, estimator=DecisionTreeClassifier(), cv=10, scoring=make_scorer(accuracy_score))))"
   ]
  },
  {
   "cell_type": "markdown",
   "metadata": {},
   "source": [
    "А если бы мы не упорядочили в ручную, а сделали просто LabelEncoder()"
   ]
  },
  {
   "cell_type": "code",
   "execution_count": 133,
   "metadata": {},
   "outputs": [
    {
     "name": "stdout",
     "output_type": "stream",
     "text": [
      "Если все вещественные и LabelEncoder(), то точность: 0.94097166533\n"
     ]
    }
   ],
   "source": [
    "x3_num=pd.DataFrame()\n",
    "for i in x3.columns:\n",
    "    x3_num =pd.concat([x3_num, pd.DataFrame(preprocessing.LabelEncoder().fit_transform(x3[i]))], axis = 1)\n",
    "print('Если все вещественные и LabelEncoder(), то точность:',np.mean(cross_val_score(X=x3_num, y=y3, estimator=DecisionTreeClassifier(), cv=10, scoring=make_scorer(accuracy_score))))"
   ]
  },
  {
   "cell_type": "markdown",
   "metadata": {},
   "source": [
    " Явно при задании всех признаков категориальными, точность сильно снижается, так как тут важно учитывать, что \"low\" это хуже, чем \"high\" и что это неравнозначные категории. При этом правильное ранжирование категорий почему-то уменьшает точность по сравнению с LabelEncoder()"
   ]
  },
  {
   "cell_type": "markdown",
   "metadata": {},
   "source": [
    " ##### 4)nursery "
   ]
  },
  {
   "cell_type": "markdown",
   "metadata": {
    "collapsed": true
   },
   "source": [
    "    parents: usual, pretentious, great_pret \n",
    "    has_nurs: proper, less_proper, improper, critical, very_crit \n",
    "    form: complete, completed, incomplete, foster \n",
    "    children: 1, 2, 3, more \n",
    "    housing: convenient, less_conv, critical \n",
    "    finance: convenient, inconv \n",
    "    social: non-prob, slightly_prob, problematic \n",
    "    health: recommended, priority, not_recom"
   ]
  },
  {
   "cell_type": "code",
   "execution_count": 48,
   "metadata": {},
   "outputs": [
    {
     "data": {
      "text/html": [
       "<div>\n",
       "<table border=\"1\" class=\"dataframe\">\n",
       "  <thead>\n",
       "    <tr style=\"text-align: right;\">\n",
       "      <th></th>\n",
       "      <th>0</th>\n",
       "      <th>1</th>\n",
       "      <th>2</th>\n",
       "      <th>3</th>\n",
       "      <th>4</th>\n",
       "      <th>5</th>\n",
       "      <th>6</th>\n",
       "      <th>7</th>\n",
       "    </tr>\n",
       "  </thead>\n",
       "  <tbody>\n",
       "    <tr>\n",
       "      <th>0</th>\n",
       "      <td>usual</td>\n",
       "      <td>proper</td>\n",
       "      <td>complete</td>\n",
       "      <td>1</td>\n",
       "      <td>convenient</td>\n",
       "      <td>convenient</td>\n",
       "      <td>nonprob</td>\n",
       "      <td>recommended</td>\n",
       "    </tr>\n",
       "    <tr>\n",
       "      <th>1</th>\n",
       "      <td>usual</td>\n",
       "      <td>proper</td>\n",
       "      <td>complete</td>\n",
       "      <td>1</td>\n",
       "      <td>convenient</td>\n",
       "      <td>convenient</td>\n",
       "      <td>nonprob</td>\n",
       "      <td>priority</td>\n",
       "    </tr>\n",
       "    <tr>\n",
       "      <th>2</th>\n",
       "      <td>usual</td>\n",
       "      <td>proper</td>\n",
       "      <td>complete</td>\n",
       "      <td>1</td>\n",
       "      <td>convenient</td>\n",
       "      <td>convenient</td>\n",
       "      <td>nonprob</td>\n",
       "      <td>not_recom</td>\n",
       "    </tr>\n",
       "    <tr>\n",
       "      <th>3</th>\n",
       "      <td>usual</td>\n",
       "      <td>proper</td>\n",
       "      <td>complete</td>\n",
       "      <td>1</td>\n",
       "      <td>convenient</td>\n",
       "      <td>convenient</td>\n",
       "      <td>slightly_prob</td>\n",
       "      <td>recommended</td>\n",
       "    </tr>\n",
       "    <tr>\n",
       "      <th>4</th>\n",
       "      <td>usual</td>\n",
       "      <td>proper</td>\n",
       "      <td>complete</td>\n",
       "      <td>1</td>\n",
       "      <td>convenient</td>\n",
       "      <td>convenient</td>\n",
       "      <td>slightly_prob</td>\n",
       "      <td>priority</td>\n",
       "    </tr>\n",
       "  </tbody>\n",
       "</table>\n",
       "</div>"
      ],
      "text/plain": [
       "       0       1         2  3           4           5              6  \\\n",
       "0  usual  proper  complete  1  convenient  convenient        nonprob   \n",
       "1  usual  proper  complete  1  convenient  convenient        nonprob   \n",
       "2  usual  proper  complete  1  convenient  convenient        nonprob   \n",
       "3  usual  proper  complete  1  convenient  convenient  slightly_prob   \n",
       "4  usual  proper  complete  1  convenient  convenient  slightly_prob   \n",
       "\n",
       "             7  \n",
       "0  recommended  \n",
       "1     priority  \n",
       "2    not_recom  \n",
       "3  recommended  \n",
       "4     priority  "
      ]
     },
     "execution_count": 48,
     "metadata": {},
     "output_type": "execute_result"
    }
   ],
   "source": [
    "x4.head()"
   ]
  },
  {
   "cell_type": "code",
   "execution_count": 49,
   "metadata": {
    "collapsed": true
   },
   "outputs": [],
   "source": [
    "x44=x4.copy()"
   ]
  },
  {
   "cell_type": "code",
   "execution_count": 64,
   "metadata": {
    "collapsed": true
   },
   "outputs": [],
   "source": [
    "x44[0][x44[0].isin(['usual'])] = 0\n",
    "x44[0][x44[0].isin(['pretentious'])] = 1\n",
    "x44[0][x44[0].isin(['great_pret'])] = 2\n",
    "\n",
    "x44[1][x44[1].isin(['proper'])] = 4\n",
    "x44[1][x44[1].isin(['less_proper'])] = 3\n",
    "x44[1][x44[1].isin(['improper'])] = 2\n",
    "x44[1][x44[1].isin(['critical'])] = 1\n",
    "x44[1][x44[1].isin(['very_crit'])] = 0\n",
    "\n",
    "x44[2][x44[2].isin(['complete'])] = 3\n",
    "x44[2][x44[2].isin(['completed'])] = 2\n",
    "x44[2][x44[2].isin(['incomplete'])] = 1\n",
    "x44[2][x44[2].isin(['foster'])] = 0\n",
    "\n",
    "\n",
    "x44[3][x44[3].isin(['more'])] = 4\n",
    "\n",
    "x44[5][x44[5].isin(['convenient'])] =1\n",
    "x44[5][x44[5].isin(['inconv'])] = 0\n",
    "\n",
    "x44[4][x44[4].isin(['convenient'])] = 2\n",
    "x44[4][x44[4].isin(['less_conv'])] = 1\n",
    "x44[4][x44[4].isin(['critical'])] =0\n",
    "\n",
    "x44[6][x44[6].isin(['nonprob'])] = 2\n",
    "x44[6][x44[6].isin(['slightly_prob'])] = 1\n",
    "x44[6][x44[6].isin(['problematic'])] =0\n",
    "\n",
    "x44[7][x44[7].isin(['recommended'])] = 2\n",
    "x44[7][x44[7].isin(['priority'])] = 1\n",
    "x44[7][x44[7].isin(['not_recom'])] =0"
   ]
  },
  {
   "cell_type": "code",
   "execution_count": 134,
   "metadata": {},
   "outputs": [
    {
     "name": "stdout",
     "output_type": "stream",
     "text": [
      "Если кодирование правильное, то точность: 0.999691477008\n"
     ]
    }
   ],
   "source": [
    "print('Если кодирование правильное, то точность:', np.mean(cross_val_score(X=x44, y= y4, estimator=DecisionTreeClassifier(), cv=10, scoring=make_scorer(accuracy_score))))"
   ]
  },
  {
   "cell_type": "code",
   "execution_count": 137,
   "metadata": {},
   "outputs": [
    {
     "name": "stdout",
     "output_type": "stream",
     "text": [
      "Если все категориальные, то точность: 0.99953715602\n"
     ]
    }
   ],
   "source": [
    "x4_cat=pd.get_dummies(x4)\n",
    "print('Если все категориальные, то точность:', np.mean(cross_val_score(X=x4_cat, y=y4, estimator=DecisionTreeClassifier(), cv=10, scoring=make_scorer(accuracy_score))))"
   ]
  },
  {
   "cell_type": "code",
   "execution_count": 136,
   "metadata": {},
   "outputs": [
    {
     "name": "stdout",
     "output_type": "stream",
     "text": [
      "Если все вещественные и LabelEncoder(), то точность: 0.999691477008\n"
     ]
    }
   ],
   "source": [
    "x4_num=pd.DataFrame()\n",
    "for i in x4.columns:\n",
    "    x4_num =pd.concat([x4_num, pd.DataFrame(preprocessing.LabelEncoder().fit_transform(x4[i]))], axis = 1)\n",
    "print('Если все вещественные и LabelEncoder(), то точность:',np.mean(cross_val_score(X=x4_num, y=y4, estimator=DecisionTreeClassifier(), cv=10, scoring=make_scorer(accuracy_score))))"
   ]
  },
  {
   "cell_type": "markdown",
   "metadata": {},
   "source": [
    "При правильном ранжировании точность такая же, как при неправильном... Но категориальные по-прежнему хуже!"
   ]
  },
  {
   "cell_type": "markdown",
   "metadata": {},
   "source": [
    "__6 (0.5 балла)__\n",
    "\n",
    "Проанализируйте результаты эксперимента. \n",
    "Одинаково ли для разных наборов данных ранжируются алгоритмы? \n",
    "Порассуждайте, почему так происходит. \n",
    "\n",
    "Обратите внимание на значение признаков в разных наборах данных. \n",
    "Присутствует ли в результатах какая-то компонента случайности? \n",
    "Можно ли повлиять на нее и улушить работу алгоритмов?"
   ]
  },
  {
   "cell_type": "markdown",
   "metadata": {},
   "source": [
    "В первых двух датасетах лучше работает стратегия, когда мы учитываем все признаки, как категориальные (то есть с неранжируемыми категориями: например, нельзя сказать, что лучше \"зеленый\" или \"красный\"), поэтому при попытке их ранжировать мы теряем точность, так как это бессмысленно. Во вторых двух датасетах, наоборот, нужно это учитывать, поэтому точность использования LabelEncoder() выше.\n"
   ]
  },
  {
   "cell_type": "markdown",
   "metadata": {},
   "source": [
    "При этом задавая кросс-валидационное разбиение, мы использовали просто cv=10, то есть единовременное случайное разделение выборки на непересекающиеся части, а потом делали для каждой предсказания. Хотя тут и присутствует случайная составляющая, может так получиться, что в обучение попадут \"неподходящие\" объекты, например, с одинаковыми значениями какого-нибудь важного признака. Если добавить случайности при разделении выборки и 10 раз случайно выбрать какое-то количество объектов (не делая группы непересекающимися), мы должны получить бОльшую точность. Попробуем использовать ShuffleSplit."
   ]
  },
  {
   "cell_type": "code",
   "execution_count": 138,
   "metadata": {},
   "outputs": [
    {
     "name": "stdout",
     "output_type": "stream",
     "text": [
      "Если кодирование правильное, то точность: 0.991522157996\n",
      "Если все категориальные, то точность: 0.985163776493\n",
      "Если все вещественные и LabelEncoder(), то точность: 0.990558766859\n"
     ]
    }
   ],
   "source": [
    "print('Если кодирование правильное, то точность:', np.mean(cross_val_score(X=x33, y= y3, estimator=DecisionTreeClassifier(), cv=ShuffleSplit(n_splits= 10, test_size=0.3, random_state=0), scoring=make_scorer(accuracy_score))))\n",
    "print('Если все категориальные, то точность:', np.mean(cross_val_score(X=x3_cat, y=y3, estimator=DecisionTreeClassifier(), cv=ShuffleSplit(n_splits= 10, test_size=0.3, random_state=0), scoring=make_scorer(accuracy_score))))\n",
    "print('Если все вещественные и LabelEncoder(), то точность:',np.mean(cross_val_score(X=x3_num, y=y3, estimator=DecisionTreeClassifier(), cv=ShuffleSplit(n_splits= 10, test_size=0.3, random_state=0), scoring=make_scorer(accuracy_score))))"
   ]
  },
  {
   "cell_type": "code",
   "execution_count": 139,
   "metadata": {},
   "outputs": [
    {
     "name": "stdout",
     "output_type": "stream",
     "text": [
      "Если кодирование правильное, то точность: 0.999845679012\n",
      "Если все категориальные, то точность: 0.999794238683\n",
      "Если все вещественные и LabelEncoder(), то точность: 0.999794238683\n"
     ]
    }
   ],
   "source": [
    "print('Если кодирование правильное, то точность:', np.mean(cross_val_score(X=x44, y= y4, estimator=DecisionTreeClassifier(), cv=ShuffleSplit(n_splits= 10, test_size=0.3, random_state=0), scoring=make_scorer(accuracy_score))))\n",
    "print('Если все категориальные, то точность:', np.mean(cross_val_score(X=x4_cat, y=y4, estimator=DecisionTreeClassifier(), cv=ShuffleSplit(n_splits= 10, test_size=0.3, random_state=0), scoring=make_scorer(accuracy_score))))\n",
    "print('Если все вещественные и LabelEncoder(), то точность:',np.mean(cross_val_score(X=x4_num, y=y4, estimator=DecisionTreeClassifier(), cv=ShuffleSplit(n_splits= 10, test_size=0.3, random_state=0), scoring=make_scorer(accuracy_score))))"
   ]
  },
  {
   "cell_type": "markdown",
   "metadata": {},
   "source": [
    "Точность, действительно, выше и ответы более логичные. Теперь правильное разбиение дает более точные результаты."
   ]
  },
  {
   "cell_type": "markdown",
   "metadata": {
    "collapsed": true
   },
   "source": [
    "### III. Композиции деревьев\n",
    "#### Сравнение композиционных методов над решающими деревьями\n",
    "__7 (1 балл)__\n",
    "\n",
    "Выполните следующие шаги:\n",
    "1. Загрузите датасет [winequality-red.csv](https://archive.ics.uci.edu/ml/machine-learning-databases/wine-quality/winequality-red.csv) в датафрейм. Последний столбец - целевая переменная (содержит классы).\n",
    "1. С помощью cross_val_score с cv=3 оцените качество (accuracy) следующих классификаторов:\n",
    "    * DecisionTreeClassifier\n",
    "    * BaggingClassifier со 100 деревьями\n",
    "    * BaggingClassifier со 100 деревьями; каждое дерево обучается только по половине случайно выбранных признаков (см. параметры метода)\n",
    "    * RandomForestClassifier со 100 деревьями\n",
    "    \n",
    "Значение получается шумное, но в целом у вас должно получиться, что качество возрастает с каждым следующим алгоритмом. Этот пример демонстрирует, что RandomForest - это более сложный алгоритм, чем бэггинг и бэггинг со случайными подпространствами. "
   ]
  },
  {
   "cell_type": "code",
   "execution_count": 140,
   "metadata": {},
   "outputs": [
    {
     "data": {
      "text/html": [
       "<div>\n",
       "<table border=\"1\" class=\"dataframe\">\n",
       "  <thead>\n",
       "    <tr style=\"text-align: right;\">\n",
       "      <th></th>\n",
       "      <th>fixed acidity</th>\n",
       "      <th>volatile acidity</th>\n",
       "      <th>citric acid</th>\n",
       "      <th>residual sugar</th>\n",
       "      <th>chlorides</th>\n",
       "      <th>free sulfur dioxide</th>\n",
       "      <th>total sulfur dioxide</th>\n",
       "      <th>density</th>\n",
       "      <th>pH</th>\n",
       "      <th>sulphates</th>\n",
       "      <th>alcohol</th>\n",
       "      <th>quality</th>\n",
       "    </tr>\n",
       "  </thead>\n",
       "  <tbody>\n",
       "    <tr>\n",
       "      <th>0</th>\n",
       "      <td>7.4</td>\n",
       "      <td>0.70</td>\n",
       "      <td>0.00</td>\n",
       "      <td>1.9</td>\n",
       "      <td>0.076</td>\n",
       "      <td>11</td>\n",
       "      <td>34</td>\n",
       "      <td>0.9978</td>\n",
       "      <td>3.51</td>\n",
       "      <td>0.56</td>\n",
       "      <td>9.4</td>\n",
       "      <td>5</td>\n",
       "    </tr>\n",
       "    <tr>\n",
       "      <th>1</th>\n",
       "      <td>7.8</td>\n",
       "      <td>0.88</td>\n",
       "      <td>0.00</td>\n",
       "      <td>2.6</td>\n",
       "      <td>0.098</td>\n",
       "      <td>25</td>\n",
       "      <td>67</td>\n",
       "      <td>0.9968</td>\n",
       "      <td>3.20</td>\n",
       "      <td>0.68</td>\n",
       "      <td>9.8</td>\n",
       "      <td>5</td>\n",
       "    </tr>\n",
       "    <tr>\n",
       "      <th>2</th>\n",
       "      <td>7.8</td>\n",
       "      <td>0.76</td>\n",
       "      <td>0.04</td>\n",
       "      <td>2.3</td>\n",
       "      <td>0.092</td>\n",
       "      <td>15</td>\n",
       "      <td>54</td>\n",
       "      <td>0.9970</td>\n",
       "      <td>3.26</td>\n",
       "      <td>0.65</td>\n",
       "      <td>9.8</td>\n",
       "      <td>5</td>\n",
       "    </tr>\n",
       "    <tr>\n",
       "      <th>3</th>\n",
       "      <td>11.2</td>\n",
       "      <td>0.28</td>\n",
       "      <td>0.56</td>\n",
       "      <td>1.9</td>\n",
       "      <td>0.075</td>\n",
       "      <td>17</td>\n",
       "      <td>60</td>\n",
       "      <td>0.9980</td>\n",
       "      <td>3.16</td>\n",
       "      <td>0.58</td>\n",
       "      <td>9.8</td>\n",
       "      <td>6</td>\n",
       "    </tr>\n",
       "    <tr>\n",
       "      <th>4</th>\n",
       "      <td>7.4</td>\n",
       "      <td>0.70</td>\n",
       "      <td>0.00</td>\n",
       "      <td>1.9</td>\n",
       "      <td>0.076</td>\n",
       "      <td>11</td>\n",
       "      <td>34</td>\n",
       "      <td>0.9978</td>\n",
       "      <td>3.51</td>\n",
       "      <td>0.56</td>\n",
       "      <td>9.4</td>\n",
       "      <td>5</td>\n",
       "    </tr>\n",
       "  </tbody>\n",
       "</table>\n",
       "</div>"
      ],
      "text/plain": [
       "   fixed acidity  volatile acidity  citric acid  residual sugar  chlorides  \\\n",
       "0            7.4              0.70         0.00             1.9      0.076   \n",
       "1            7.8              0.88         0.00             2.6      0.098   \n",
       "2            7.8              0.76         0.04             2.3      0.092   \n",
       "3           11.2              0.28         0.56             1.9      0.075   \n",
       "4            7.4              0.70         0.00             1.9      0.076   \n",
       "\n",
       "   free sulfur dioxide  total sulfur dioxide  density    pH  sulphates  \\\n",
       "0                   11                    34   0.9978  3.51       0.56   \n",
       "1                   25                    67   0.9968  3.20       0.68   \n",
       "2                   15                    54   0.9970  3.26       0.65   \n",
       "3                   17                    60   0.9980  3.16       0.58   \n",
       "4                   11                    34   0.9978  3.51       0.56   \n",
       "\n",
       "   alcohol  quality  \n",
       "0      9.4        5  \n",
       "1      9.8        5  \n",
       "2      9.8        5  \n",
       "3      9.8        6  \n",
       "4      9.4        5  "
      ]
     },
     "execution_count": 140,
     "metadata": {},
     "output_type": "execute_result"
    }
   ],
   "source": [
    "data = pd.read_csv('https://archive.ics.uci.edu/ml/machine-learning-databases/wine-quality/winequality-red.csv', sep = ';')\n",
    "data.head()"
   ]
  },
  {
   "cell_type": "code",
   "execution_count": 8,
   "metadata": {
    "collapsed": true
   },
   "outputs": [],
   "source": [
    "from sklearn.ensemble import RandomForestClassifier, BaggingClassifier"
   ]
  },
  {
   "cell_type": "code",
   "execution_count": 142,
   "metadata": {
    "collapsed": true
   },
   "outputs": [],
   "source": [
    "y = data['quality']\n",
    "X = data.drop(['quality'], 1)"
   ]
  },
  {
   "cell_type": "code",
   "execution_count": 146,
   "metadata": {},
   "outputs": [
    {
     "name": "stdout",
     "output_type": "stream",
     "text": [
      "Если используем DecisionTreeClassifier, то точность: 0.586111111111\n"
     ]
    }
   ],
   "source": [
    "print('Если используем DecisionTreeClassifier, то точность:', np.mean(cross_val_score(X=X, y=y, estimator=DecisionTreeClassifier(), cv=ShuffleSplit(n_splits=3, test_size=0.3, random_state=123), scoring=make_scorer(accuracy_score))))"
   ]
  },
  {
   "cell_type": "code",
   "execution_count": 147,
   "metadata": {},
   "outputs": [
    {
     "name": "stdout",
     "output_type": "stream",
     "text": [
      "Если используем BaggingClassifier со 100 деревьями, то точность: 0.669444444444\n"
     ]
    }
   ],
   "source": [
    "print('Если используем BaggingClassifier со 100 деревьями, то точность:', np.mean(cross_val_score(X=X, y=y, estimator=BaggingClassifier(n_estimators = 100), cv=ShuffleSplit(n_splits=3, test_size=0.3, random_state=123), scoring=make_scorer(accuracy_score))))"
   ]
  },
  {
   "cell_type": "code",
   "execution_count": 148,
   "metadata": {},
   "outputs": [
    {
     "name": "stdout",
     "output_type": "stream",
     "text": [
      "Если используем BaggingClassifier со 100 деревьями (по половине) , то точность: 0.661111111111\n"
     ]
    }
   ],
   "source": [
    "print('Если используем BaggingClassifier со 100 деревьями (по половине) , то точность:', np.mean(cross_val_score(X=X, y=y, estimator=BaggingClassifier(n_estimators = 100,max_features=0.5), cv=ShuffleSplit(n_splits=3, test_size=0.3, random_state=123), scoring=make_scorer(accuracy_score))))"
   ]
  },
  {
   "cell_type": "code",
   "execution_count": 149,
   "metadata": {},
   "outputs": [
    {
     "name": "stdout",
     "output_type": "stream",
     "text": [
      "Если используем RandomForestClassifier со 100 деревьями, то точность: 0.672222222222\n"
     ]
    }
   ],
   "source": [
    "print('Если используем RandomForestClassifier со 100 деревьями, то точность:', np.mean(cross_val_score(X=X, y=y, estimator=RandomForestClassifier(n_estimators = 100), cv=ShuffleSplit(n_splits=3, test_size=0.3, random_state=123), scoring=make_scorer(accuracy_score))))"
   ]
  },
  {
   "cell_type": "markdown",
   "metadata": {},
   "source": [
    "#### Число деревьев в случайном лесе\n",
    "В этой задаче мы рассмотрим, переобучаются ли композиционные алгоритмы с увеличением числа деревьев.\n",
    "\n",
    "__8 (1 балл)__\n",
    "\n",
    "Продолжим работать с набором данных [winequality-red.csv](https://archive.ics.uci.edu/ml/machine-learning-databases/wine-quality/winequality-red.csv). Разделите выборку на обучение и контроль с пропорции 7:3, предварительно перемешав объекты. Переберите значения от 100 до 5000 деревьев с шагом 100, посчитайте accuracy на тестовой выборке для каждого числа деревьев и постройте график зависимости качества от числа деревьев.\n",
    "\n",
    "Рекомендация.\n",
    "\n",
    "Если каждый раз обучать RandomForest с нуля, придётся обучить в общей сумме $100 + 200 + \\ldots + 5000$ деревьев.\n",
    "Однако, как мы знаем, деревья в случайных лесах строятся независимо и параллельно, поэтому можно обучить всего 5000 деревьев.\n",
    "\n",
    "Для этого в при создании объекта класса RandomForestClassifier нужно указать в том числе warm_start=True. Затем обучить алгоритм с помощью метода fit, использовать метод predict для классификации. После этого с помощью метода set_params изменить параметр n_estimators. Если к полученному объекту применить метод fit, внутри него будет обучаться только недостающее число деревьев.\n",
    "\n",
    "Переобучается ли случайный лес с увеличением числа деревьев?"
   ]
  },
  {
   "cell_type": "code",
   "execution_count": 9,
   "metadata": {
    "collapsed": true
   },
   "outputs": [],
   "source": [
    "from sklearn.model_selection import train_test_split\n",
    "from sklearn.utils import shuffle"
   ]
  },
  {
   "cell_type": "code",
   "execution_count": 155,
   "metadata": {},
   "outputs": [],
   "source": [
    "X1= shuffle(X, random_state = 123)\n",
    "y1 = shuffle(y, random_state = 123)\n",
    "X_train, X_test, y_train, y_test = train_test_split(X1, y1, test_size = 0.3, random_state = 123)\n",
    "\n",
    "a=[]\n",
    "\n",
    "for i in np.arange(100,5100,100):\n",
    "    clf = RandomForestClassifier(n_estimators = i,  warm_start = True, random_state = 123)\n",
    "    clf.fit(X_train, y_train)\n",
    "    y_pred=clf.predict(X_test)\n",
    "    a.append(accuracy_score(y_test, y_pred))\n"
   ]
  },
  {
   "cell_type": "code",
   "execution_count": 157,
   "metadata": {},
   "outputs": [
    {
     "data": {
      "text/plain": [
       "[<matplotlib.lines.Line2D at 0x10fc01438>]"
      ]
     },
     "execution_count": 157,
     "metadata": {},
     "output_type": "execute_result"
    },
    {
     "data": {
      "image/png": "[encoded data removed]",
      "text/plain": [
       "<matplotlib.figure.Figure at 0x10fa47400>"
      ]
     },
     "metadata": {},
     "output_type": "display_data"
    }
   ],
   "source": [
    "plt.plot(a, 'pink',alpha=0.7)"
   ]
  },
  {
   "cell_type": "markdown",
   "metadata": {},
   "source": [
    "После 2000 девевьев, точность начинает снижаться и потом идет на одном уровне. Возможно происходит переобучение и на каком-то количестве, например, 3000 деревьев, алгоритм уже практически запоминает тренировочную выборку и, поэтому при дальнейшм увеличении количества деревьев \"запоминание\" уже не добавляет точности для предсказания на тесте, так как обобщающая способность уже не улучшается."
   ]
  },
  {
   "cell_type": "markdown",
   "metadata": {},
   "source": [
    "### IV. Нейронные сети\n",
    "\n",
    "*На обучение нейросетей может уйти больше часа, не откладывайте этот пункт на последний день*."
   ]
  },
  {
   "cell_type": "markdown",
   "metadata": {},
   "source": [
    "__9 (1 балл)__"
   ]
  },
  {
   "cell_type": "markdown",
   "metadata": {},
   "source": [
    "В этом задании вам предстоит обучить нейронную сеть на датасете [MNIST](https://en.wikipedia.org/wiki/MNIST_database) с помощью пакета [keras](https://keras.io)."
   ]
  },
  {
   "cell_type": "code",
   "execution_count": 7,
   "metadata": {},
   "outputs": [
    {
     "name": "stderr",
     "output_type": "stream",
     "text": [
      "Using TensorFlow backend.\n",
      "/Users/Air11/anaconda3/lib/python3.6/importlib/_bootstrap.py:219: RuntimeWarning: compiletime version 3.5 of module 'tensorflow.python.framework.fast_tensor_util' does not match runtime version 3.6\n",
      "  return f(*args, **kwds)\n"
     ]
    },
    {
     "name": "stdout",
     "output_type": "stream",
     "text": [
      "Downloading data from https://s3.amazonaws.com/img-datasets/mnist.npz\n",
      "11493376/11490434 [==============================] - 18s 2us/step \n"
     ]
    }
   ],
   "source": [
    "from keras.datasets import mnist\n",
    "(x_train, y_train), (x_test, y_test) = mnist.load_data()"
   ]
  },
  {
   "cell_type": "markdown",
   "metadata": {},
   "source": [
    "Обучите нейронную сеть с двумя скрытыми слоями в каждой из которых поместите по 100 нейронов. Какого качества удается добиться на тесте?"
   ]
  },
  {
   "cell_type": "code",
   "execution_count": 8,
   "metadata": {},
   "outputs": [
    {
     "data": {
      "text/plain": [
       "(60000, 28, 28)"
      ]
     },
     "execution_count": 8,
     "metadata": {},
     "output_type": "execute_result"
    }
   ],
   "source": [
    "x_train.shape"
   ]
  },
  {
   "cell_type": "code",
   "execution_count": 9,
   "metadata": {},
   "outputs": [
    {
     "data": {
      "text/plain": [
       "(10000, 28, 28)"
      ]
     },
     "execution_count": 9,
     "metadata": {},
     "output_type": "execute_result"
    }
   ],
   "source": [
    "x_test.shape"
   ]
  },
  {
   "cell_type": "code",
   "execution_count": 10,
   "metadata": {},
   "outputs": [],
   "source": [
    "from keras.utils import np_utils\n",
    "y_train = np_utils.to_categorical(y_train)\n",
    "y_test = np_utils.to_categorical(y_test)"
   ]
  },
  {
   "cell_type": "code",
   "execution_count": 188,
   "metadata": {},
   "outputs": [
    {
     "data": {
      "text/plain": [
       "array([[ 0.,  0.,  0., ...,  0.,  0.,  0.],\n",
       "       [ 1.,  0.,  0., ...,  0.,  0.,  0.],\n",
       "       [ 0.,  0.,  0., ...,  0.,  0.,  0.],\n",
       "       ..., \n",
       "       [ 0.,  0.,  0., ...,  0.,  0.,  0.],\n",
       "       [ 0.,  0.,  0., ...,  0.,  0.,  0.],\n",
       "       [ 0.,  0.,  0., ...,  0.,  1.,  0.]])"
      ]
     },
     "execution_count": 188,
     "metadata": {},
     "output_type": "execute_result"
    }
   ],
   "source": [
    "y_train"
   ]
  },
  {
   "cell_type": "code",
   "execution_count": 11,
   "metadata": {
    "collapsed": true
   },
   "outputs": [],
   "source": [
    "x_train = x_train / 255\n",
    "x_test = x_test / 255"
   ]
  },
  {
   "cell_type": "code",
   "execution_count": 195,
   "metadata": {
    "scrolled": true
   },
   "outputs": [
    {
     "data": {
      "text/plain": [
       "array([[[ 0.,  0.,  0., ...,  0.,  0.,  0.],\n",
       "        [ 0.,  0.,  0., ...,  0.,  0.,  0.],\n",
       "        [ 0.,  0.,  0., ...,  0.,  0.,  0.],\n",
       "        ..., \n",
       "        [ 0.,  0.,  0., ...,  0.,  0.,  0.],\n",
       "        [ 0.,  0.,  0., ...,  0.,  0.,  0.],\n",
       "        [ 0.,  0.,  0., ...,  0.,  0.,  0.]],\n",
       "\n",
       "       [[ 0.,  0.,  0., ...,  0.,  0.,  0.],\n",
       "        [ 0.,  0.,  0., ...,  0.,  0.,  0.],\n",
       "        [ 0.,  0.,  0., ...,  0.,  0.,  0.],\n",
       "        ..., \n",
       "        [ 0.,  0.,  0., ...,  0.,  0.,  0.],\n",
       "        [ 0.,  0.,  0., ...,  0.,  0.,  0.],\n",
       "        [ 0.,  0.,  0., ...,  0.,  0.,  0.]]])"
      ]
     },
     "execution_count": 195,
     "metadata": {},
     "output_type": "execute_result"
    }
   ],
   "source": [
    "x_train[:2]"
   ]
  },
  {
   "cell_type": "code",
   "execution_count": 288,
   "metadata": {},
   "outputs": [],
   "source": [
    "from keras.models import Sequential\n",
    "from keras.layers import Flatten,Dense, Dropout\n",
    "\n",
    "#Использовала материалы семинара по майнору ИАД (название \"Keras\")\n",
    "model = Sequential()\n",
    "model.add(Flatten(input_shape=(28,28)))\n",
    "model.add(Dense(100, activation='relu'))\n",
    "model.add(Dense(100, activation='relu'))\n",
    "model.add(Dense(10, activation='softmax'))\n",
    "\n",
    "\n",
    "model.compile(loss='categorical_crossentropy', optimizer='adam', metrics=['accuracy'])"
   ]
  },
  {
   "cell_type": "code",
   "execution_count": 211,
   "metadata": {},
   "outputs": [
    {
     "name": "stdout",
     "output_type": "stream",
     "text": [
      "Epoch 1/10\n",
      "60000/60000 [==============================] - 11s - loss: 0.2437 - acc: 0.9286    \n",
      "Epoch 2/10\n",
      "60000/60000 [==============================] - 10s - loss: 0.1056 - acc: 0.9681    \n",
      "Epoch 3/10\n",
      "60000/60000 [==============================] - 12s - loss: 0.0753 - acc: 0.9762    \n",
      "Epoch 4/10\n",
      "60000/60000 [==============================] - 11s - loss: 0.0579 - acc: 0.9819    \n",
      "Epoch 5/10\n",
      "60000/60000 [==============================] - 11s - loss: 0.0446 - acc: 0.9858    \n",
      "Epoch 6/10\n",
      "60000/60000 [==============================] - 11s - loss: 0.0390 - acc: 0.9869    \n",
      "Epoch 7/10\n",
      "60000/60000 [==============================] - 11s - loss: 0.0309 - acc: 0.9897    \n",
      "Epoch 8/10\n",
      "60000/60000 [==============================] - 11s - loss: 0.0253 - acc: 0.9917    \n",
      "Epoch 9/10\n",
      "60000/60000 [==============================] - 11s - loss: 0.0247 - acc: 0.9917    \n",
      "Epoch 10/10\n",
      "60000/60000 [==============================] - 12s - loss: 0.0211 - acc: 0.9926    \n"
     ]
    },
    {
     "data": {
      "text/plain": [
       "<keras.callbacks.History at 0x13ddf2be0>"
      ]
     },
     "execution_count": 211,
     "metadata": {},
     "output_type": "execute_result"
    }
   ],
   "source": [
    "model.fit(x_train, y_train, epochs=10)\n",
    "#batch_size=None, epochs=1, verbose=1, callbacks=None, validation_split=0.0, validation_data=None, shuffle=True, class_weight=None, sample_weight=None, initial_epoch=0, steps_per_epoch=None, validation_steps=None)\n"
   ]
  },
  {
   "cell_type": "markdown",
   "metadata": {},
   "source": [
    "Максимальная точность на трейне: 0.9926"
   ]
  },
  {
   "cell_type": "code",
   "execution_count": 212,
   "metadata": {},
   "outputs": [
    {
     "name": "stdout",
     "output_type": "stream",
     "text": [
      " 9856/10000 [============================>.] - ETA: 0sНа тестовой выборке точность: 0.9743\n"
     ]
    }
   ],
   "source": [
    "print('На тестовой выборке точность:', model.evaluate(x_test, y_test)[1])"
   ]
  },
  {
   "cell_type": "markdown",
   "metadata": {},
   "source": [
    "На тестовой: 0.9743"
   ]
  },
  {
   "cell_type": "markdown",
   "metadata": {},
   "source": [
    "__10 (2 балл)__\n",
    "Добавьте сверточные и pooling слои (вы можете также убрать Dense слои), добейтесь большего качества. Для успешного выполнения задания получите accuracy больше 0.99 на тестовой выборке. \n",
    "\n",
    "Рекомендации: после сверточных слоев наиболее эффективно добавлять MaxPooling слои, в конце перед последним слоем поставьте Dense слои с достаточно большим количеством нейронов. Подвигайте количество слоев, learning rate, функции активации."
   ]
  },
  {
   "cell_type": "code",
   "execution_count": 26,
   "metadata": {
    "collapsed": true
   },
   "outputs": [],
   "source": [
    "x_train = x_train.reshape([-1, 28, 28, 1])\n",
    "x_test = x_test.reshape([-1, 28, 28, 1])"
   ]
  },
  {
   "cell_type": "code",
   "execution_count": 24,
   "metadata": {
    "collapsed": true
   },
   "outputs": [],
   "source": [
    "from keras.layers.convolutional import Conv2D, MaxPooling2D\n",
    "from keras.utils import np_utils\n",
    "\n",
    "\n",
    "model1 = Sequential()\n",
    "model1.add(Conv2D(128,(6,6),activation='relu',input_shape=(28, 28, 1)))\n",
    "model1.add(MaxPooling2D(pool_size=(2, 2)))\n",
    "\n",
    "model1.add(Conv2D(64,(4,4),activation='relu'))\n",
    "model1.add(MaxPooling2D(pool_size=(2, 2)))\n",
    "\n",
    "model1.add(Flatten(input_shape=(28, 28, 1)))\n",
    "model1.add(Dense(100, activation='relu'))\n",
    "model1.add(Dense(10, activation='softmax'))\n",
    "\n",
    "\n",
    "model1.compile(loss='categorical_crossentropy', optimizer='adam', metrics=['accuracy'])"
   ]
  },
  {
   "cell_type": "code",
   "execution_count": 28,
   "metadata": {},
   "outputs": [
    {
     "name": "stdout",
     "output_type": "stream",
     "text": [
      "Epoch 1/10\n",
      "60000/60000 [==============================] - 152s 3ms/step - loss: 0.0383 - acc: 0.9883\n",
      "Epoch 2/10\n",
      "60000/60000 [==============================] - 157s 3ms/step - loss: 0.0283 - acc: 0.9911\n",
      "Epoch 3/10\n",
      "60000/60000 [==============================] - 152s 3ms/step - loss: 0.0220 - acc: 0.9930\n",
      "Epoch 4/10\n",
      "60000/60000 [==============================] - 155s 3ms/step - loss: 0.0164 - acc: 0.9946\n",
      "Epoch 5/10\n",
      "60000/60000 [==============================] - 162s 3ms/step - loss: 0.0131 - acc: 0.9957\n",
      "Epoch 6/10\n",
      "60000/60000 [==============================] - 413s 7ms/step - loss: 0.0116 - acc: 0.9966\n",
      "Epoch 7/10\n",
      "60000/60000 [==============================] - 320s 5ms/step - loss: 0.0105 - acc: 0.9968\n",
      "Epoch 8/10\n",
      "60000/60000 [==============================] - 199s 3ms/step - loss: 0.0083 - acc: 0.9975\n",
      "Epoch 9/10\n",
      "60000/60000 [==============================] - 227s 4ms/step - loss: 0.0075 - acc: 0.9977\n",
      "Epoch 10/10\n",
      "60000/60000 [==============================] - 219s 4ms/step - loss: 0.0081 - acc: 0.9975\n"
     ]
    },
    {
     "data": {
      "text/plain": [
       "<keras.callbacks.History at 0x1839ee8b38>"
      ]
     },
     "execution_count": 28,
     "metadata": {},
     "output_type": "execute_result"
    }
   ],
   "source": [
    "model1.fit(x_train, y_train, epochs=10)"
   ]
  },
  {
   "cell_type": "code",
   "execution_count": 29,
   "metadata": {},
   "outputs": [
    {
     "name": "stdout",
     "output_type": "stream",
     "text": [
      "10000/10000 [==============================] - 8s 798us/step\n",
      "На тестовой выборке точность: 0.9929\n"
     ]
    }
   ],
   "source": [
    "print('На тестовой выборке точность:', model1.evaluate(x_test, y_test)[1])"
   ]
  },
  {
   "cell_type": "markdown",
   "metadata": {},
   "source": [
    "Ну точность достигнута, все круто.. "
   ]
  },
  {
   "cell_type": "markdown",
   "metadata": {},
   "source": [
    "__11 (1 балл)__\n",
    "Добавьте 1 или 2 dropout слоя внутрь сети предыдущего шага. Удается ли добиться большего качества? Что происходит с процессом обучения? "
   ]
  },
  {
   "cell_type": "markdown",
   "metadata": {},
   "source": [
    "Ну дропаут позволяет избежать переобучения ( мы выключаем часть нейронов при обучении сети). На тесте точность может возрасти."
   ]
  },
  {
   "cell_type": "code",
   "execution_count": 30,
   "metadata": {
    "collapsed": true
   },
   "outputs": [],
   "source": [
    "model2 = Sequential()\n",
    "\n",
    "\n",
    "model2.add(Conv2D(128,(6,6),activation='relu',input_shape=(28, 28, 1)))\n",
    "model2.add(MaxPooling2D(pool_size=(2, 2)))\n",
    "model2.add(Dropout(0.1))\n",
    "\n",
    "model2.add(Conv2D(64,(4,4),activation='relu'))\n",
    "model2.add(MaxPooling2D(pool_size=(2, 2)))\n",
    "model2.add(Dropout(0.1))\n",
    "\n",
    "model2.add(Flatten(input_shape=(28, 28, 1)))\n",
    "model2.add(Dense(100, activation='relu'))\n",
    "model2.add(Dense(10, activation='softmax'))\n",
    "\n",
    "\n",
    "model2.compile(loss='categorical_crossentropy', optimizer='adam', metrics=['accuracy'])"
   ]
  },
  {
   "cell_type": "code",
   "execution_count": 31,
   "metadata": {},
   "outputs": [
    {
     "name": "stdout",
     "output_type": "stream",
     "text": [
      "Epoch 1/10\n",
      "60000/60000 [==============================] - 215s 4ms/step - loss: 0.1207 - acc: 0.9627\n",
      "Epoch 2/10\n",
      "60000/60000 [==============================] - 252s 4ms/step - loss: 0.0430 - acc: 0.9869\n",
      "Epoch 3/10\n",
      "60000/60000 [==============================] - 222s 4ms/step - loss: 0.0324 - acc: 0.9898\n",
      "Epoch 4/10\n",
      "60000/60000 [==============================] - 172s 3ms/step - loss: 0.0236 - acc: 0.9925\n",
      "Epoch 5/10\n",
      "60000/60000 [==============================] - 165s 3ms/step - loss: 0.0210 - acc: 0.9931\n",
      "Epoch 6/10\n",
      "60000/60000 [==============================] - 161s 3ms/step - loss: 0.0169 - acc: 0.9944\n",
      "Epoch 7/10\n",
      "60000/60000 [==============================] - 161s 3ms/step - loss: 0.0145 - acc: 0.9954\n",
      "Epoch 8/10\n",
      "60000/60000 [==============================] - 160s 3ms/step - loss: 0.0131 - acc: 0.9956\n",
      "Epoch 9/10\n",
      "60000/60000 [==============================] - 163s 3ms/step - loss: 0.0125 - acc: 0.9960\n",
      "Epoch 10/10\n",
      "60000/60000 [==============================] - 311s 5ms/step - loss: 0.0098 - acc: 0.9966\n"
     ]
    },
    {
     "data": {
      "text/plain": [
       "<keras.callbacks.History at 0x18396dddd8>"
      ]
     },
     "execution_count": 31,
     "metadata": {},
     "output_type": "execute_result"
    }
   ],
   "source": [
    "model2.fit(x_train, y_train, epochs=10)"
   ]
  },
  {
   "cell_type": "code",
   "execution_count": 32,
   "metadata": {},
   "outputs": [
    {
     "name": "stdout",
     "output_type": "stream",
     "text": [
      "10000/10000 [==============================] - 26s 3ms/step\n",
      "На тестовой выборке точность: 0.9896\n"
     ]
    }
   ],
   "source": [
    "print('На тестовой выборке точность:', model2.evaluate(x_test, y_test)[1])"
   ]
  },
  {
   "cell_type": "markdown",
   "metadata": {},
   "source": [
    "Стала меньше, странно. Попробуем с одним, но большим дропаутом."
   ]
  },
  {
   "cell_type": "code",
   "execution_count": 34,
   "metadata": {},
   "outputs": [],
   "source": [
    "model22 = Sequential()\n",
    "\n",
    "\n",
    "model22.add(Conv2D(128,(6,6),activation='relu',input_shape=(28, 28, 1)))\n",
    "model22.add(MaxPooling2D(pool_size=(2, 2)))\n",
    "model22.add(Dropout(0.3))\n",
    "\n",
    "model22.add(Conv2D(64,(4,4),activation='relu'))\n",
    "model22.add(MaxPooling2D(pool_size=(2, 2)))\n",
    "#model22.add(Dropout(0.1))\n",
    "\n",
    "model22.add(Flatten(input_shape=(28, 28, 1)))\n",
    "model22.add(Dense(100, activation='relu'))\n",
    "model22.add(Dense(10, activation='softmax'))\n",
    "\n",
    "\n",
    "model22.compile(loss='categorical_crossentropy', optimizer='adam', metrics=['accuracy'])"
   ]
  },
  {
   "cell_type": "code",
   "execution_count": 36,
   "metadata": {},
   "outputs": [
    {
     "name": "stdout",
     "output_type": "stream",
     "text": [
      "Epoch 1/10\n",
      "60000/60000 [==============================] - 417s 7ms/step - loss: 0.1291 - acc: 0.9593\n",
      "Epoch 2/10\n",
      "60000/60000 [==============================] - 417s 7ms/step - loss: 0.0429 - acc: 0.9871\n",
      "Epoch 3/10\n",
      "60000/60000 [==============================] - 417s 7ms/step - loss: 0.0323 - acc: 0.9900\n",
      "Epoch 4/10\n",
      "60000/60000 [==============================] - 417s 7ms/step - loss: 0.0268 - acc: 0.9917\n",
      "Epoch 5/10\n",
      "60000/60000 [==============================] - 437s 7ms/step - loss: 0.0204 - acc: 0.9937\n",
      "Epoch 6/10\n",
      "60000/60000 [==============================] - 423s 7ms/step - loss: 0.0180 - acc: 0.9944\n",
      "Epoch 7/10\n",
      "60000/60000 [==============================] - 419s 7ms/step - loss: 0.0146 - acc: 0.9954\n",
      "Epoch 8/10\n",
      "60000/60000 [==============================] - 430s 7ms/step - loss: 0.0143 - acc: 0.9952\n",
      "Epoch 9/10\n",
      "60000/60000 [==============================] - 423s 7ms/step - loss: 0.0122 - acc: 0.9959\n",
      "Epoch 10/10\n",
      "60000/60000 [==============================] - 413s 7ms/step - loss: 0.0126 - acc: 0.9960\n"
     ]
    },
    {
     "data": {
      "text/plain": [
       "<keras.callbacks.History at 0x181c2eb5c0>"
      ]
     },
     "execution_count": 36,
     "metadata": {},
     "output_type": "execute_result"
    }
   ],
   "source": [
    "model22.fit(x_train, y_train, epochs=10)"
   ]
  },
  {
   "cell_type": "code",
   "execution_count": 37,
   "metadata": {},
   "outputs": [
    {
     "name": "stdout",
     "output_type": "stream",
     "text": [
      "10000/10000 [==============================] - 25s 3ms/step\n",
      "На тестовой выборке точность: 0.9899\n"
     ]
    }
   ],
   "source": [
    "print('На тестовой выборке точность:', model22.evaluate(x_test, y_test)[1])"
   ]
  },
  {
   "cell_type": "markdown",
   "metadata": {},
   "source": [
    "модель не переобучается без дропаутп"
   ]
  }
 ],
 "metadata": {
  "kernelspec": {
   "display_name": "Python 3",
   "language": "python",
   "name": "python3"
  },
  "language_info": {
   "codemirror_mode": {
    "name": "ipython",
    "version": 3
   },
   "file_extension": ".py",
   "mimetype": "text/x-python",
   "name": "python",
   "nbconvert_exporter": "python",
   "pygments_lexer": "ipython3",
   "version": "3.6.3"
  }
 },
 "nbformat": 4,
 "nbformat_minor": 1
}
